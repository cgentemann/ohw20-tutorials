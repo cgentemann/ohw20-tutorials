{
 "cells": [
  {
   "cell_type": "markdown",
   "metadata": {},
   "source": [
    "# [OBPG](https://oceancolor.gsfc.nasa.gov/) for [Ocean Hack Week 2020](https://oceanhackweek.github.io/)"
   ]
  },
  {
   "cell_type": "markdown",
   "metadata": {},
   "source": [
    "Ocean Color Processing Group (OPBG) serves satellite data via [OPeNDAP](https://www.opendap.org/).  This packages provides simple tools in [R language](https://www.r-project.org/) for downloading subsets of global data files, and proposes a simple method for storing and managing the datasets.\n",
    "\n",
    "This package is deminstrates working with [Level 3](https://oceancolor.gsfc.nasa.gov/products/) (simple global grids) specifically from the [AQUA_MODIS](https://oceancolor.gsfc.nasa.gov/data/aqua/) instrumentation.  The package may be adaptable for other products/instruments, but we haven't tried anything other than AQUA_MODIS Level 3 mapped images.\n",
    "\n",
    "OBPG managers are migrating from an old-style [naming convention](https://oceancolor.gsfc.nasa.gov/docs/filenaming-convention/) to a new-style. Currently, only recently reprocessed data (SST) are served in the new-style. That means this code attemtps to handle either convention seamlessly while navigating the system. Eventually, all products will be served in the new-style filenaming format, so we have kept that in mind when proposing a local storage and management system."
   ]
  },
  {
   "cell_type": "markdown",
   "metadata": {},
   "source": [
    "## Storing data"
   ]
  },
  {
   "cell_type": "markdown",
   "metadata": {},
   "source": [
    "OBPG data naturally organize under a simple heirarchy `<root>/region/yyyy/mmdd/files`. We find that allowing the end user to specify the `<root>/region` while autmatically enforcing the remainder `yyyy/mmdd/files` works really well. For example, suppose you are going to download daily SST and CHLOR_A from AQUA_MODIS covering the Gulf of Maine in 2018.  We suggest that you create the root path like the following shows - a simple directory in you home directory (but whatever works for you works for us.)  Note that we first check that you have the [ohwobpg](https://github.com/BigelowLab/ohwobpg) R-tutorials package and [rgdal](https://cran.r-project.org/web/packages/rgdal/index.html) installed and loaded."
   ]
  },
  {
   "cell_type": "code",
   "execution_count": 12,
   "metadata": {
    "kernel": "R",
    "tags": [
     "report_cell"
    ]
   },
   "outputs": [],
   "source": [
    "installed_packages_names <- rownames(installed.packages())\n",
    "if (!\"ohwobpg\" %in% installed_packages_names) remotes::install_github(\"BigelowLab/ohwobpg\")\n",
    "if (!\"rgdal\" %in% installed_packages_names) install.packages(\"rgdal\")\n",
    "\n",
    "library(ohwobpg)\n",
    "path <- \"~/gom\"\n",
    "dir.create(path, recursive = TRUE, showWarnings = FALSE)"
   ]
  },
  {
   "cell_type": "markdown",
   "metadata": {},
   "source": [
    "Any data you subsequently download using this package will automatically create subdirectories that are required. Below is an example from our own lab where `<root>/region` is `/mnt/ecocast/coredata/obpg2/nwa/AQUA_MODIS/L3m` and the automatically generated subdirectories, `yyyy/mmdd`, are `2018/0101`.\n",
    "\n",
    "```\n",
    "/mnt/ecocast/coredata/obpg2/nwa/AQUA_MODIS/L3m/2018/0101\n",
    "  ├── AQUA_MODIS.20180101.L3m.16DR.CHL.chlor_a.4km.tif\n",
    "  ├── AQUA_MODIS.20180101.L3m.32DR.CHL.chlor_a.4km.tif\n",
    "  ├── AQUA_MODIS.20180101.L3m.8DR.CHL.chlor_a.4km.tif\n",
    "  ├── AQUA_MODIS.20180101.L3m.8DR.PAR.par.4km.tif\n",
    "  ├── AQUA_MODIS.20180101.L3m.8DR.PIC.pic.4km.tif\n",
    "  ├── AQUA_MODIS.20180101.L3m.8DR.POC.poc.4km.tif\n",
    "  ├── AQUA_MODIS.20180101.L3m.8DR.SST.sst.4km.tif\n",
    "  ├── AQUA_MODIS.20180101.L3m.8DR.SST.sst_slope.4km.tif\n",
    "  ├── AQUA_MODIS.20180101.L3m.DAY.CHL.chlor_a.4km.tif\n",
    "  ├── AQUA_MODIS.20180101.L3m.DAY.CHL.chlor_a_cum.4km.tif\n",
    "  ├── AQUA_MODIS.20180101.L3m.DAY.CHL.chlor_a_fill.4km.tif\n",
    "  ├── AQUA_MODIS.20180101.L3m.DAY.PAR.par.4km.tif\n",
    "  ├── AQUA_MODIS.20180101.L3m.DAY.PIC.pic.4km.tif\n",
    "  ├── AQUA_MODIS.20180101.L3m.DAY.POC.poc.4km.tif\n",
    "  └── AQUA_MODIS.20180101.L3m.DAY.SST.sst.4km.tif\n",
    "```"
   ]
  },
  {
   "cell_type": "markdown",
   "metadata": {},
   "source": [
    "## Downloading example"
   ]
  },
  {
   "cell_type": "markdown",
   "metadata": {},
   "source": [
    "Let's download 2018 monthly CHLOR_A data at 9km resoltion just for the Gulf of Maine region. First we build a series of URLs for the data using `obpg_build_url()`.  The function has a number of arguments, but we'll just focus on what we need and accept the default values for the others.  Complete documentation is available by typing at the console, `?obpg_build_url`."
   ]
  },
  {
   "cell_type": "code",
   "execution_count": 2,
   "metadata": {
    "kernel": "R",
    "tags": [
     "report_cell"
    ]
   },
   "outputs": [
    {
     "data": {
      "text/html": [
       "<style>\n",
       ".list-inline {list-style: none; margin:0; padding: 0}\n",
       ".list-inline>li {display: inline-block}\n",
       ".list-inline>li:not(:last-child)::after {content: \"\\00b7\"; padding: 0 .5ex}\n",
       "</style>\n",
       "<ol class=list-inline><li>'https://oceandata.sci.gsfc.nasa.gov:443/opendap/MODISA/L3SMI/2018/001/A20180012018031.L3m_MO_CHL_chlor_a_9km.nc'</li><li>'https://oceandata.sci.gsfc.nasa.gov:443/opendap/MODISA/L3SMI/2018/032/A20180322018059.L3m_MO_CHL_chlor_a_9km.nc'</li><li>'https://oceandata.sci.gsfc.nasa.gov:443/opendap/MODISA/L3SMI/2018/060/A20180602018090.L3m_MO_CHL_chlor_a_9km.nc'</li><li>'https://oceandata.sci.gsfc.nasa.gov:443/opendap/MODISA/L3SMI/2018/091/A20180912018120.L3m_MO_CHL_chlor_a_9km.nc'</li><li>'https://oceandata.sci.gsfc.nasa.gov:443/opendap/MODISA/L3SMI/2018/121/A20181212018151.L3m_MO_CHL_chlor_a_9km.nc'</li><li>'https://oceandata.sci.gsfc.nasa.gov:443/opendap/MODISA/L3SMI/2018/152/A20181522018181.L3m_MO_CHL_chlor_a_9km.nc'</li></ol>\n"
      ],
      "text/latex": [
       "\\begin{enumerate*}\n",
       "\\item 'https://oceandata.sci.gsfc.nasa.gov:443/opendap/MODISA/L3SMI/2018/001/A20180012018031.L3m\\_MO\\_CHL\\_chlor\\_a\\_9km.nc'\n",
       "\\item 'https://oceandata.sci.gsfc.nasa.gov:443/opendap/MODISA/L3SMI/2018/032/A20180322018059.L3m\\_MO\\_CHL\\_chlor\\_a\\_9km.nc'\n",
       "\\item 'https://oceandata.sci.gsfc.nasa.gov:443/opendap/MODISA/L3SMI/2018/060/A20180602018090.L3m\\_MO\\_CHL\\_chlor\\_a\\_9km.nc'\n",
       "\\item 'https://oceandata.sci.gsfc.nasa.gov:443/opendap/MODISA/L3SMI/2018/091/A20180912018120.L3m\\_MO\\_CHL\\_chlor\\_a\\_9km.nc'\n",
       "\\item 'https://oceandata.sci.gsfc.nasa.gov:443/opendap/MODISA/L3SMI/2018/121/A20181212018151.L3m\\_MO\\_CHL\\_chlor\\_a\\_9km.nc'\n",
       "\\item 'https://oceandata.sci.gsfc.nasa.gov:443/opendap/MODISA/L3SMI/2018/152/A20181522018181.L3m\\_MO\\_CHL\\_chlor\\_a\\_9km.nc'\n",
       "\\end{enumerate*}\n"
      ],
      "text/markdown": [
       "1. 'https://oceandata.sci.gsfc.nasa.gov:443/opendap/MODISA/L3SMI/2018/001/A20180012018031.L3m_MO_CHL_chlor_a_9km.nc'\n",
       "2. 'https://oceandata.sci.gsfc.nasa.gov:443/opendap/MODISA/L3SMI/2018/032/A20180322018059.L3m_MO_CHL_chlor_a_9km.nc'\n",
       "3. 'https://oceandata.sci.gsfc.nasa.gov:443/opendap/MODISA/L3SMI/2018/060/A20180602018090.L3m_MO_CHL_chlor_a_9km.nc'\n",
       "4. 'https://oceandata.sci.gsfc.nasa.gov:443/opendap/MODISA/L3SMI/2018/091/A20180912018120.L3m_MO_CHL_chlor_a_9km.nc'\n",
       "5. 'https://oceandata.sci.gsfc.nasa.gov:443/opendap/MODISA/L3SMI/2018/121/A20181212018151.L3m_MO_CHL_chlor_a_9km.nc'\n",
       "6. 'https://oceandata.sci.gsfc.nasa.gov:443/opendap/MODISA/L3SMI/2018/152/A20181522018181.L3m_MO_CHL_chlor_a_9km.nc'\n",
       "\n",
       "\n"
      ],
      "text/plain": [
       "[1] \"https://oceandata.sci.gsfc.nasa.gov:443/opendap/MODISA/L3SMI/2018/001/A20180012018031.L3m_MO_CHL_chlor_a_9km.nc\"\n",
       "[2] \"https://oceandata.sci.gsfc.nasa.gov:443/opendap/MODISA/L3SMI/2018/032/A20180322018059.L3m_MO_CHL_chlor_a_9km.nc\"\n",
       "[3] \"https://oceandata.sci.gsfc.nasa.gov:443/opendap/MODISA/L3SMI/2018/060/A20180602018090.L3m_MO_CHL_chlor_a_9km.nc\"\n",
       "[4] \"https://oceandata.sci.gsfc.nasa.gov:443/opendap/MODISA/L3SMI/2018/091/A20180912018120.L3m_MO_CHL_chlor_a_9km.nc\"\n",
       "[5] \"https://oceandata.sci.gsfc.nasa.gov:443/opendap/MODISA/L3SMI/2018/121/A20181212018151.L3m_MO_CHL_chlor_a_9km.nc\"\n",
       "[6] \"https://oceandata.sci.gsfc.nasa.gov:443/opendap/MODISA/L3SMI/2018/152/A20181522018181.L3m_MO_CHL_chlor_a_9km.nc\""
      ]
     },
     "metadata": {},
     "output_type": "display_data"
    }
   ],
   "source": [
    "library(ohwobpg)\n",
    "\n",
    "\n",
    "# and define our bounding box [west, east, south, north]\n",
    "BB <- c(-72, -63, 39, 46)\n",
    "\n",
    "# we need a sequence of dates\n",
    "dates <- seq(\n",
    "  from = as.Date(\"2018-01-01\"),\n",
    "  to = as.Date(\"2018-12-01\"),\n",
    "  by = \"month\")\n",
    "\n",
    "# then we build the URLs\n",
    "urls <- obpg_build_url(\n",
    "  dates = dates,\n",
    "  param = \"chlor_a\",\n",
    "  suite = \"CHL\",\n",
    "  period = \"MO\",\n",
    "  res = \"9km\")\n",
    "head(urls)"
   ]
  },
  {
   "cell_type": "markdown",
   "metadata": {},
   "source": [
    "Now we'll open just the first NCDF resource.  From that we'll build a simple list of items we need to successfully navigate the remainder of the URLs. Then we can close the NCDF resource."
   ]
  },
  {
   "cell_type": "code",
   "execution_count": 3,
   "metadata": {
    "kernel": "R",
    "tags": [
     "report_cell"
    ]
   },
   "outputs": [],
   "source": [
    "nc1 <- obpg_open(urls[1])\n",
    "nav <- obpg_nc_nav(nc1,\n",
    "  bb = BB,\n",
    "  res = obpg_res(what = \"9km\"),\n",
    "  varname = \"chlor_a\")\n",
    "obpg_close(nc1)"
   ]
  },
  {
   "cell_type": "markdown",
   "metadata": {},
   "source": [
    "Now we simply need to iterate through the dates - downloading the subset data and storing in our path.  Depending upon the version of [rgdal](https://cran.r-project.org/web/packages/rgdal/index.html) being used, minor and harmless warning messages may be issued."
   ]
  },
  {
   "cell_type": "code",
   "execution_count": 6,
   "metadata": {
    "kernel": "R",
    "tags": [
     "report_cell"
    ]
   },
   "outputs": [
    {
     "name": "stdout",
     "output_type": "stream",
     "text": [
      "fetching A20180012018031.L3m_MO_CHL_chlor_a_9km.nc \n"
     ]
    },
    {
     "name": "stderr",
     "output_type": "stream",
     "text": [
      "Warning message in showSRID(uprojargs, format = \"PROJ\", multiline = \"NO\"):\n",
      "“Discarded datum WGS_1984 in CRS definition,\n",
      " but +towgs84= values preserved”\n"
     ]
    },
    {
     "name": "stdout",
     "output_type": "stream",
     "text": [
      "fetching A20180322018059.L3m_MO_CHL_chlor_a_9km.nc \n"
     ]
    },
    {
     "name": "stderr",
     "output_type": "stream",
     "text": [
      "Warning message in showSRID(uprojargs, format = \"PROJ\", multiline = \"NO\"):\n",
      "“Discarded datum WGS_1984 in CRS definition,\n",
      " but +towgs84= values preserved”\n"
     ]
    },
    {
     "name": "stdout",
     "output_type": "stream",
     "text": [
      "fetching A20180602018090.L3m_MO_CHL_chlor_a_9km.nc \n"
     ]
    },
    {
     "name": "stderr",
     "output_type": "stream",
     "text": [
      "Warning message in showSRID(uprojargs, format = \"PROJ\", multiline = \"NO\"):\n",
      "“Discarded datum WGS_1984 in CRS definition,\n",
      " but +towgs84= values preserved”\n"
     ]
    },
    {
     "name": "stdout",
     "output_type": "stream",
     "text": [
      "fetching A20180912018120.L3m_MO_CHL_chlor_a_9km.nc \n"
     ]
    },
    {
     "name": "stderr",
     "output_type": "stream",
     "text": [
      "Warning message in showSRID(uprojargs, format = \"PROJ\", multiline = \"NO\"):\n",
      "“Discarded datum WGS_1984 in CRS definition,\n",
      " but +towgs84= values preserved”\n"
     ]
    },
    {
     "name": "stdout",
     "output_type": "stream",
     "text": [
      "fetching A20181212018151.L3m_MO_CHL_chlor_a_9km.nc \n"
     ]
    },
    {
     "name": "stderr",
     "output_type": "stream",
     "text": [
      "Warning message in showSRID(uprojargs, format = \"PROJ\", multiline = \"NO\"):\n",
      "“Discarded datum WGS_1984 in CRS definition,\n",
      " but +towgs84= values preserved”\n"
     ]
    },
    {
     "name": "stdout",
     "output_type": "stream",
     "text": [
      "fetching A20181522018181.L3m_MO_CHL_chlor_a_9km.nc \n"
     ]
    },
    {
     "name": "stderr",
     "output_type": "stream",
     "text": [
      "Warning message in showSRID(uprojargs, format = \"PROJ\", multiline = \"NO\"):\n",
      "“Discarded datum WGS_1984 in CRS definition,\n",
      " but +towgs84= values preserved”\n"
     ]
    },
    {
     "name": "stdout",
     "output_type": "stream",
     "text": [
      "fetching A20181822018212.L3m_MO_CHL_chlor_a_9km.nc \n"
     ]
    },
    {
     "name": "stderr",
     "output_type": "stream",
     "text": [
      "Warning message in showSRID(uprojargs, format = \"PROJ\", multiline = \"NO\"):\n",
      "“Discarded datum WGS_1984 in CRS definition,\n",
      " but +towgs84= values preserved”\n"
     ]
    },
    {
     "name": "stdout",
     "output_type": "stream",
     "text": [
      "fetching A20182132018243.L3m_MO_CHL_chlor_a_9km.nc \n"
     ]
    },
    {
     "name": "stderr",
     "output_type": "stream",
     "text": [
      "Warning message in showSRID(uprojargs, format = \"PROJ\", multiline = \"NO\"):\n",
      "“Discarded datum WGS_1984 in CRS definition,\n",
      " but +towgs84= values preserved”\n"
     ]
    },
    {
     "name": "stdout",
     "output_type": "stream",
     "text": [
      "fetching A20182442018273.L3m_MO_CHL_chlor_a_9km.nc \n"
     ]
    },
    {
     "name": "stderr",
     "output_type": "stream",
     "text": [
      "Warning message in showSRID(uprojargs, format = \"PROJ\", multiline = \"NO\"):\n",
      "“Discarded datum WGS_1984 in CRS definition,\n",
      " but +towgs84= values preserved”\n"
     ]
    },
    {
     "name": "stdout",
     "output_type": "stream",
     "text": [
      "fetching A20182742018304.L3m_MO_CHL_chlor_a_9km.nc \n"
     ]
    },
    {
     "name": "stderr",
     "output_type": "stream",
     "text": [
      "Warning message in showSRID(uprojargs, format = \"PROJ\", multiline = \"NO\"):\n",
      "“Discarded datum WGS_1984 in CRS definition,\n",
      " but +towgs84= values preserved”\n"
     ]
    },
    {
     "name": "stdout",
     "output_type": "stream",
     "text": [
      "fetching A20183052018334.L3m_MO_CHL_chlor_a_9km.nc \n"
     ]
    },
    {
     "name": "stderr",
     "output_type": "stream",
     "text": [
      "Warning message in showSRID(uprojargs, format = \"PROJ\", multiline = \"NO\"):\n",
      "“Discarded datum WGS_1984 in CRS definition,\n",
      " but +towgs84= values preserved”\n"
     ]
    },
    {
     "name": "stdout",
     "output_type": "stream",
     "text": [
      "fetching A20183352018365.L3m_MO_CHL_chlor_a_9km.nc \n"
     ]
    },
    {
     "name": "stderr",
     "output_type": "stream",
     "text": [
      "Warning message in showSRID(uprojargs, format = \"PROJ\", multiline = \"NO\"):\n",
      "“Discarded datum WGS_1984 in CRS definition,\n",
      " but +towgs84= values preserved”\n"
     ]
    }
   ],
   "source": [
    "for (this_url in urls){\n",
    "  cat(\"fetching\", basename(this_url), \"\\n\")\n",
    "  new_data <- obpg_fetch(this_url, nav, outpath = path)\n",
    "}"
   ]
  },
  {
   "cell_type": "markdown",
   "metadata": {},
   "source": [
    "> **Note** We have downloaded a larger dataset of sst, par and chlor_a for the Gulf of Maine which we will work with later.  The script we used for downloading can be found [here](https://github.com/BigelowLab/ohwobpg/blob/master/inst/scripts/fetch_ohw_obpg.R)."
   ]
  },
  {
   "cell_type": "markdown",
   "metadata": {},
   "source": [
    "## Make a database and save it"
   ]
  },
  {
   "cell_type": "markdown",
   "metadata": {},
   "source": [
    "It is easy to create a database by first creating a list of files, then parsing to the database format.  We actually have that list of files in hand already in our URLs, but for the sake of example, let's do a listing by file search instead.  Note that we use the pipe operator `%>%`, provided to us by the [dplyr](https://CRAN.R-project.org/package=dplyr) package, to pipe the output of one function to the the input of the next. There are [boat loads](https://rseek.org/?q=dplyr+tutorial) of tutorials on using dplyr available to you."
   ]
  },
  {
   "cell_type": "code",
   "execution_count": 7,
   "metadata": {
    "kernel": "R",
    "tags": [
     "report_cell"
    ]
   },
   "outputs": [
    {
     "data": {
      "text/html": [
       "<table>\n",
       "<caption>A tibble: 12 × 11</caption>\n",
       "<thead>\n",
       "\t<tr><th scope=col>date</th><th scope=col>year</th><th scope=col>mmdd</th><th scope=col>mit</th><th scope=col>lvl</th><th scope=col>per</th><th scope=col>suite</th><th scope=col>param</th><th scope=col>res</th><th scope=col>nrt</th><th scope=col>file</th></tr>\n",
       "\t<tr><th scope=col>&lt;chr&gt;</th><th scope=col>&lt;chr&gt;</th><th scope=col>&lt;chr&gt;</th><th scope=col>&lt;chr&gt;</th><th scope=col>&lt;chr&gt;</th><th scope=col>&lt;chr&gt;</th><th scope=col>&lt;chr&gt;</th><th scope=col>&lt;chr&gt;</th><th scope=col>&lt;chr&gt;</th><th scope=col>&lt;chr&gt;</th><th scope=col>&lt;chr&gt;</th></tr>\n",
       "</thead>\n",
       "<tbody>\n",
       "\t<tr><td>2018-01-01</td><td>2018</td><td>0101</td><td>AQUA_MODIS</td><td>L3m</td><td>MO</td><td>CHL</td><td>chlor_a</td><td>9km</td><td>NA</td><td>AQUA_MODIS.20180101_20180131.L3m.MO.CHL.chlor_a.9km</td></tr>\n",
       "\t<tr><td>2018-02-01</td><td>2018</td><td>0201</td><td>AQUA_MODIS</td><td>L3m</td><td>MO</td><td>CHL</td><td>chlor_a</td><td>9km</td><td>NA</td><td>AQUA_MODIS.20180201_20180228.L3m.MO.CHL.chlor_a.9km</td></tr>\n",
       "\t<tr><td>2018-03-01</td><td>2018</td><td>0301</td><td>AQUA_MODIS</td><td>L3m</td><td>MO</td><td>CHL</td><td>chlor_a</td><td>9km</td><td>NA</td><td>AQUA_MODIS.20180301_20180331.L3m.MO.CHL.chlor_a.9km</td></tr>\n",
       "\t<tr><td>2018-04-01</td><td>2018</td><td>0401</td><td>AQUA_MODIS</td><td>L3m</td><td>MO</td><td>CHL</td><td>chlor_a</td><td>9km</td><td>NA</td><td>AQUA_MODIS.20180401_20180430.L3m.MO.CHL.chlor_a.9km</td></tr>\n",
       "\t<tr><td>2018-05-01</td><td>2018</td><td>0501</td><td>AQUA_MODIS</td><td>L3m</td><td>MO</td><td>CHL</td><td>chlor_a</td><td>9km</td><td>NA</td><td>AQUA_MODIS.20180501_20180531.L3m.MO.CHL.chlor_a.9km</td></tr>\n",
       "\t<tr><td>2018-06-01</td><td>2018</td><td>0601</td><td>AQUA_MODIS</td><td>L3m</td><td>MO</td><td>CHL</td><td>chlor_a</td><td>9km</td><td>NA</td><td>AQUA_MODIS.20180601_20180630.L3m.MO.CHL.chlor_a.9km</td></tr>\n",
       "\t<tr><td>2018-07-01</td><td>2018</td><td>0701</td><td>AQUA_MODIS</td><td>L3m</td><td>MO</td><td>CHL</td><td>chlor_a</td><td>9km</td><td>NA</td><td>AQUA_MODIS.20180701_20180731.L3m.MO.CHL.chlor_a.9km</td></tr>\n",
       "\t<tr><td>2018-08-01</td><td>2018</td><td>0801</td><td>AQUA_MODIS</td><td>L3m</td><td>MO</td><td>CHL</td><td>chlor_a</td><td>9km</td><td>NA</td><td>AQUA_MODIS.20180801_20180831.L3m.MO.CHL.chlor_a.9km</td></tr>\n",
       "\t<tr><td>2018-09-01</td><td>2018</td><td>0901</td><td>AQUA_MODIS</td><td>L3m</td><td>MO</td><td>CHL</td><td>chlor_a</td><td>9km</td><td>NA</td><td>AQUA_MODIS.20180901_20180930.L3m.MO.CHL.chlor_a.9km</td></tr>\n",
       "\t<tr><td>2018-10-01</td><td>2018</td><td>1001</td><td>AQUA_MODIS</td><td>L3m</td><td>MO</td><td>CHL</td><td>chlor_a</td><td>9km</td><td>NA</td><td>AQUA_MODIS.20181001_20181031.L3m.MO.CHL.chlor_a.9km</td></tr>\n",
       "\t<tr><td>2018-11-01</td><td>2018</td><td>1101</td><td>AQUA_MODIS</td><td>L3m</td><td>MO</td><td>CHL</td><td>chlor_a</td><td>9km</td><td>NA</td><td>AQUA_MODIS.20181101_20181130.L3m.MO.CHL.chlor_a.9km</td></tr>\n",
       "\t<tr><td>2018-12-01</td><td>2018</td><td>1201</td><td>AQUA_MODIS</td><td>L3m</td><td>MO</td><td>CHL</td><td>chlor_a</td><td>9km</td><td>NA</td><td>AQUA_MODIS.20181201_20181231.L3m.MO.CHL.chlor_a.9km</td></tr>\n",
       "</tbody>\n",
       "</table>\n"
      ],
      "text/latex": [
       "A tibble: 12 × 11\n",
       "\\begin{tabular}{lllllllllll}\n",
       " date & year & mmdd & mit & lvl & per & suite & param & res & nrt & file\\\\\n",
       " <chr> & <chr> & <chr> & <chr> & <chr> & <chr> & <chr> & <chr> & <chr> & <chr> & <chr>\\\\\n",
       "\\hline\n",
       "\t 2018-01-01 & 2018 & 0101 & AQUA\\_MODIS & L3m & MO & CHL & chlor\\_a & 9km & NA & AQUA\\_MODIS.20180101\\_20180131.L3m.MO.CHL.chlor\\_a.9km\\\\\n",
       "\t 2018-02-01 & 2018 & 0201 & AQUA\\_MODIS & L3m & MO & CHL & chlor\\_a & 9km & NA & AQUA\\_MODIS.20180201\\_20180228.L3m.MO.CHL.chlor\\_a.9km\\\\\n",
       "\t 2018-03-01 & 2018 & 0301 & AQUA\\_MODIS & L3m & MO & CHL & chlor\\_a & 9km & NA & AQUA\\_MODIS.20180301\\_20180331.L3m.MO.CHL.chlor\\_a.9km\\\\\n",
       "\t 2018-04-01 & 2018 & 0401 & AQUA\\_MODIS & L3m & MO & CHL & chlor\\_a & 9km & NA & AQUA\\_MODIS.20180401\\_20180430.L3m.MO.CHL.chlor\\_a.9km\\\\\n",
       "\t 2018-05-01 & 2018 & 0501 & AQUA\\_MODIS & L3m & MO & CHL & chlor\\_a & 9km & NA & AQUA\\_MODIS.20180501\\_20180531.L3m.MO.CHL.chlor\\_a.9km\\\\\n",
       "\t 2018-06-01 & 2018 & 0601 & AQUA\\_MODIS & L3m & MO & CHL & chlor\\_a & 9km & NA & AQUA\\_MODIS.20180601\\_20180630.L3m.MO.CHL.chlor\\_a.9km\\\\\n",
       "\t 2018-07-01 & 2018 & 0701 & AQUA\\_MODIS & L3m & MO & CHL & chlor\\_a & 9km & NA & AQUA\\_MODIS.20180701\\_20180731.L3m.MO.CHL.chlor\\_a.9km\\\\\n",
       "\t 2018-08-01 & 2018 & 0801 & AQUA\\_MODIS & L3m & MO & CHL & chlor\\_a & 9km & NA & AQUA\\_MODIS.20180801\\_20180831.L3m.MO.CHL.chlor\\_a.9km\\\\\n",
       "\t 2018-09-01 & 2018 & 0901 & AQUA\\_MODIS & L3m & MO & CHL & chlor\\_a & 9km & NA & AQUA\\_MODIS.20180901\\_20180930.L3m.MO.CHL.chlor\\_a.9km\\\\\n",
       "\t 2018-10-01 & 2018 & 1001 & AQUA\\_MODIS & L3m & MO & CHL & chlor\\_a & 9km & NA & AQUA\\_MODIS.20181001\\_20181031.L3m.MO.CHL.chlor\\_a.9km\\\\\n",
       "\t 2018-11-01 & 2018 & 1101 & AQUA\\_MODIS & L3m & MO & CHL & chlor\\_a & 9km & NA & AQUA\\_MODIS.20181101\\_20181130.L3m.MO.CHL.chlor\\_a.9km\\\\\n",
       "\t 2018-12-01 & 2018 & 1201 & AQUA\\_MODIS & L3m & MO & CHL & chlor\\_a & 9km & NA & AQUA\\_MODIS.20181201\\_20181231.L3m.MO.CHL.chlor\\_a.9km\\\\\n",
       "\\end{tabular}\n"
      ],
      "text/markdown": [
       "\n",
       "A tibble: 12 × 11\n",
       "\n",
       "| date &lt;chr&gt; | year &lt;chr&gt; | mmdd &lt;chr&gt; | mit &lt;chr&gt; | lvl &lt;chr&gt; | per &lt;chr&gt; | suite &lt;chr&gt; | param &lt;chr&gt; | res &lt;chr&gt; | nrt &lt;chr&gt; | file &lt;chr&gt; |\n",
       "|---|---|---|---|---|---|---|---|---|---|---|\n",
       "| 2018-01-01 | 2018 | 0101 | AQUA_MODIS | L3m | MO | CHL | chlor_a | 9km | NA | AQUA_MODIS.20180101_20180131.L3m.MO.CHL.chlor_a.9km |\n",
       "| 2018-02-01 | 2018 | 0201 | AQUA_MODIS | L3m | MO | CHL | chlor_a | 9km | NA | AQUA_MODIS.20180201_20180228.L3m.MO.CHL.chlor_a.9km |\n",
       "| 2018-03-01 | 2018 | 0301 | AQUA_MODIS | L3m | MO | CHL | chlor_a | 9km | NA | AQUA_MODIS.20180301_20180331.L3m.MO.CHL.chlor_a.9km |\n",
       "| 2018-04-01 | 2018 | 0401 | AQUA_MODIS | L3m | MO | CHL | chlor_a | 9km | NA | AQUA_MODIS.20180401_20180430.L3m.MO.CHL.chlor_a.9km |\n",
       "| 2018-05-01 | 2018 | 0501 | AQUA_MODIS | L3m | MO | CHL | chlor_a | 9km | NA | AQUA_MODIS.20180501_20180531.L3m.MO.CHL.chlor_a.9km |\n",
       "| 2018-06-01 | 2018 | 0601 | AQUA_MODIS | L3m | MO | CHL | chlor_a | 9km | NA | AQUA_MODIS.20180601_20180630.L3m.MO.CHL.chlor_a.9km |\n",
       "| 2018-07-01 | 2018 | 0701 | AQUA_MODIS | L3m | MO | CHL | chlor_a | 9km | NA | AQUA_MODIS.20180701_20180731.L3m.MO.CHL.chlor_a.9km |\n",
       "| 2018-08-01 | 2018 | 0801 | AQUA_MODIS | L3m | MO | CHL | chlor_a | 9km | NA | AQUA_MODIS.20180801_20180831.L3m.MO.CHL.chlor_a.9km |\n",
       "| 2018-09-01 | 2018 | 0901 | AQUA_MODIS | L3m | MO | CHL | chlor_a | 9km | NA | AQUA_MODIS.20180901_20180930.L3m.MO.CHL.chlor_a.9km |\n",
       "| 2018-10-01 | 2018 | 1001 | AQUA_MODIS | L3m | MO | CHL | chlor_a | 9km | NA | AQUA_MODIS.20181001_20181031.L3m.MO.CHL.chlor_a.9km |\n",
       "| 2018-11-01 | 2018 | 1101 | AQUA_MODIS | L3m | MO | CHL | chlor_a | 9km | NA | AQUA_MODIS.20181101_20181130.L3m.MO.CHL.chlor_a.9km |\n",
       "| 2018-12-01 | 2018 | 1201 | AQUA_MODIS | L3m | MO | CHL | chlor_a | 9km | NA | AQUA_MODIS.20181201_20181231.L3m.MO.CHL.chlor_a.9km |\n",
       "\n"
      ],
      "text/plain": [
       "   date       year mmdd mit        lvl per suite param   res nrt\n",
       "1  2018-01-01 2018 0101 AQUA_MODIS L3m MO  CHL   chlor_a 9km NA \n",
       "2  2018-02-01 2018 0201 AQUA_MODIS L3m MO  CHL   chlor_a 9km NA \n",
       "3  2018-03-01 2018 0301 AQUA_MODIS L3m MO  CHL   chlor_a 9km NA \n",
       "4  2018-04-01 2018 0401 AQUA_MODIS L3m MO  CHL   chlor_a 9km NA \n",
       "5  2018-05-01 2018 0501 AQUA_MODIS L3m MO  CHL   chlor_a 9km NA \n",
       "6  2018-06-01 2018 0601 AQUA_MODIS L3m MO  CHL   chlor_a 9km NA \n",
       "7  2018-07-01 2018 0701 AQUA_MODIS L3m MO  CHL   chlor_a 9km NA \n",
       "8  2018-08-01 2018 0801 AQUA_MODIS L3m MO  CHL   chlor_a 9km NA \n",
       "9  2018-09-01 2018 0901 AQUA_MODIS L3m MO  CHL   chlor_a 9km NA \n",
       "10 2018-10-01 2018 1001 AQUA_MODIS L3m MO  CHL   chlor_a 9km NA \n",
       "11 2018-11-01 2018 1101 AQUA_MODIS L3m MO  CHL   chlor_a 9km NA \n",
       "12 2018-12-01 2018 1201 AQUA_MODIS L3m MO  CHL   chlor_a 9km NA \n",
       "   file                                               \n",
       "1  AQUA_MODIS.20180101_20180131.L3m.MO.CHL.chlor_a.9km\n",
       "2  AQUA_MODIS.20180201_20180228.L3m.MO.CHL.chlor_a.9km\n",
       "3  AQUA_MODIS.20180301_20180331.L3m.MO.CHL.chlor_a.9km\n",
       "4  AQUA_MODIS.20180401_20180430.L3m.MO.CHL.chlor_a.9km\n",
       "5  AQUA_MODIS.20180501_20180531.L3m.MO.CHL.chlor_a.9km\n",
       "6  AQUA_MODIS.20180601_20180630.L3m.MO.CHL.chlor_a.9km\n",
       "7  AQUA_MODIS.20180701_20180731.L3m.MO.CHL.chlor_a.9km\n",
       "8  AQUA_MODIS.20180801_20180831.L3m.MO.CHL.chlor_a.9km\n",
       "9  AQUA_MODIS.20180901_20180930.L3m.MO.CHL.chlor_a.9km\n",
       "10 AQUA_MODIS.20181001_20181031.L3m.MO.CHL.chlor_a.9km\n",
       "11 AQUA_MODIS.20181101_20181130.L3m.MO.CHL.chlor_a.9km\n",
       "12 AQUA_MODIS.20181201_20181231.L3m.MO.CHL.chlor_a.9km"
      ]
     },
     "metadata": {},
     "output_type": "display_data"
    }
   ],
   "source": [
    "library(dplyr, warn.conflicts = FALSE)\n",
    "\n",
    "db <- list.files(path, pattern = glob2rx(\"*.tif\"), full.names = TRUE, recursive = TRUE) %>%\n",
    "  as_database() %>%\n",
    "  write_database(path)\n",
    "db"
   ]
  },
  {
   "cell_type": "markdown",
   "metadata": {},
   "source": [
    "## The database contents"
   ]
  },
  {
   "cell_type": "markdown",
   "metadata": {},
   "source": [
    "The database is a very simple table (data frame) build from various elements of a filename. All of the parts could be compute as-needed which would make the file smaller to store on disk, but the ease of parsing and saving is worth the extra bit of disk required.  The OBPG filenames have all of the necessary information to uniquely identify each file - details can found in the documentation `?as_database`.  For now, let's just print it out and look at it.\n",
    "\n",
    "> **Note** The nrt column refers to \"near real time\" data. OBPG group first publishes it data flagged as \"nrt\".  Some time later (weeks? months?), after quality review and adjustments, the data is republished without the \"nrt\" flag. For this tutorial we'll ignore it, but one could use that to identify local files suitable for updating when OBPG updates."
   ]
  },
  {
   "cell_type": "markdown",
   "metadata": {
    "jupyter": {
     "source_hidden": true
    },
    "kernel": "Markdown",
    "tags": [
     "report_output"
    ]
   },
   "source": [
    "Use the `read_database(path)` and `write_database(db, path)` functions for from the [ohwobpg](https://github.com/BigelowLab/ohwobpg) package for input and output of the database."
   ]
  },
  {
   "cell_type": "markdown",
   "metadata": {},
   "source": [
    "## A larger dataset"
   ]
  },
  {
   "cell_type": "markdown",
   "metadata": {},
   "source": [
    "We provide with the [ohwobpg](https://github.com/BigelowLab/ohwobpg) package a slightly larger and more complex dataset. This will save the need for each participant to download from the OBPG servers.  The larger dataset includes ...\n",
    "\n",
    "  + monthly sst, chlor_a and par data from 2018 in the Gulf of Maine\n",
    "\n",
    "  + daily sst data from August 2018 in the Gulf of Maine\n",
    "\n",
    "The path must now be redefined, and then we can read in the new associated database.  Notice that we arrange the records by date."
   ]
  },
  {
   "cell_type": "code",
   "execution_count": 8,
   "metadata": {
    "kernel": "R",
    "tags": [
     "report_cell"
    ]
   },
   "outputs": [
    {
     "data": {
      "text/html": [
       "<table>\n",
       "<caption>A spec_tbl_df: 67 × 11</caption>\n",
       "<thead>\n",
       "\t<tr><th scope=col>date</th><th scope=col>year</th><th scope=col>mmdd</th><th scope=col>mit</th><th scope=col>lvl</th><th scope=col>per</th><th scope=col>suite</th><th scope=col>param</th><th scope=col>res</th><th scope=col>nrt</th><th scope=col>file</th></tr>\n",
       "\t<tr><th scope=col>&lt;date&gt;</th><th scope=col>&lt;dbl&gt;</th><th scope=col>&lt;chr&gt;</th><th scope=col>&lt;chr&gt;</th><th scope=col>&lt;chr&gt;</th><th scope=col>&lt;chr&gt;</th><th scope=col>&lt;chr&gt;</th><th scope=col>&lt;chr&gt;</th><th scope=col>&lt;chr&gt;</th><th scope=col>&lt;lgl&gt;</th><th scope=col>&lt;chr&gt;</th></tr>\n",
       "</thead>\n",
       "<tbody>\n",
       "\t<tr><td>2018-01-01</td><td>2018</td><td>0101</td><td>AQUA_MODIS</td><td>L3m</td><td>MO </td><td>SST</td><td>sst    </td><td>9km</td><td>NA</td><td>AQUA_MODIS.20180101_20180131.L3m.MO.SST.sst.9km    </td></tr>\n",
       "\t<tr><td>2018-01-01</td><td>2018</td><td>0101</td><td>AQUA_MODIS</td><td>L3m</td><td>MO </td><td>CHL</td><td>chlor_a</td><td>9km</td><td>NA</td><td>AQUA_MODIS.20180101_20180131.L3m.MO.CHL.chlor_a.9km</td></tr>\n",
       "\t<tr><td>2018-01-01</td><td>2018</td><td>0101</td><td>AQUA_MODIS</td><td>L3m</td><td>MO </td><td>PAR</td><td>par    </td><td>9km</td><td>NA</td><td>AQUA_MODIS.20180101_20180131.L3m.MO.PAR.par.9km    </td></tr>\n",
       "\t<tr><td>2018-02-01</td><td>2018</td><td>0201</td><td>AQUA_MODIS</td><td>L3m</td><td>MO </td><td>SST</td><td>sst    </td><td>9km</td><td>NA</td><td>AQUA_MODIS.20180201_20180228.L3m.MO.SST.sst.9km    </td></tr>\n",
       "\t<tr><td>2018-02-01</td><td>2018</td><td>0201</td><td>AQUA_MODIS</td><td>L3m</td><td>MO </td><td>CHL</td><td>chlor_a</td><td>9km</td><td>NA</td><td>AQUA_MODIS.20180201_20180228.L3m.MO.CHL.chlor_a.9km</td></tr>\n",
       "\t<tr><td>2018-02-01</td><td>2018</td><td>0201</td><td>AQUA_MODIS</td><td>L3m</td><td>MO </td><td>PAR</td><td>par    </td><td>9km</td><td>NA</td><td>AQUA_MODIS.20180201_20180228.L3m.MO.PAR.par.9km    </td></tr>\n",
       "\t<tr><td>2018-03-01</td><td>2018</td><td>0301</td><td>AQUA_MODIS</td><td>L3m</td><td>MO </td><td>SST</td><td>sst    </td><td>9km</td><td>NA</td><td>AQUA_MODIS.20180301_20180331.L3m.MO.SST.sst.9km    </td></tr>\n",
       "\t<tr><td>2018-03-01</td><td>2018</td><td>0301</td><td>AQUA_MODIS</td><td>L3m</td><td>MO </td><td>CHL</td><td>chlor_a</td><td>9km</td><td>NA</td><td>AQUA_MODIS.20180301_20180331.L3m.MO.CHL.chlor_a.9km</td></tr>\n",
       "\t<tr><td>2018-03-01</td><td>2018</td><td>0301</td><td>AQUA_MODIS</td><td>L3m</td><td>MO </td><td>PAR</td><td>par    </td><td>9km</td><td>NA</td><td>AQUA_MODIS.20180301_20180331.L3m.MO.PAR.par.9km    </td></tr>\n",
       "\t<tr><td>2018-04-01</td><td>2018</td><td>0401</td><td>AQUA_MODIS</td><td>L3m</td><td>MO </td><td>SST</td><td>sst    </td><td>9km</td><td>NA</td><td>AQUA_MODIS.20180401_20180430.L3m.MO.SST.sst.9km    </td></tr>\n",
       "\t<tr><td>2018-04-01</td><td>2018</td><td>0401</td><td>AQUA_MODIS</td><td>L3m</td><td>MO </td><td>CHL</td><td>chlor_a</td><td>9km</td><td>NA</td><td>AQUA_MODIS.20180401_20180430.L3m.MO.CHL.chlor_a.9km</td></tr>\n",
       "\t<tr><td>2018-04-01</td><td>2018</td><td>0401</td><td>AQUA_MODIS</td><td>L3m</td><td>MO </td><td>PAR</td><td>par    </td><td>9km</td><td>NA</td><td>AQUA_MODIS.20180401_20180430.L3m.MO.PAR.par.9km    </td></tr>\n",
       "\t<tr><td>2018-05-01</td><td>2018</td><td>0501</td><td>AQUA_MODIS</td><td>L3m</td><td>MO </td><td>SST</td><td>sst    </td><td>9km</td><td>NA</td><td>AQUA_MODIS.20180501_20180531.L3m.MO.SST.sst.9km    </td></tr>\n",
       "\t<tr><td>2018-05-01</td><td>2018</td><td>0501</td><td>AQUA_MODIS</td><td>L3m</td><td>MO </td><td>CHL</td><td>chlor_a</td><td>9km</td><td>NA</td><td>AQUA_MODIS.20180501_20180531.L3m.MO.CHL.chlor_a.9km</td></tr>\n",
       "\t<tr><td>2018-05-01</td><td>2018</td><td>0501</td><td>AQUA_MODIS</td><td>L3m</td><td>MO </td><td>PAR</td><td>par    </td><td>9km</td><td>NA</td><td>AQUA_MODIS.20180501_20180531.L3m.MO.PAR.par.9km    </td></tr>\n",
       "\t<tr><td>2018-06-01</td><td>2018</td><td>0601</td><td>AQUA_MODIS</td><td>L3m</td><td>MO </td><td>SST</td><td>sst    </td><td>9km</td><td>NA</td><td>AQUA_MODIS.20180601_20180630.L3m.MO.SST.sst.9km    </td></tr>\n",
       "\t<tr><td>2018-06-01</td><td>2018</td><td>0601</td><td>AQUA_MODIS</td><td>L3m</td><td>MO </td><td>CHL</td><td>chlor_a</td><td>9km</td><td>NA</td><td>AQUA_MODIS.20180601_20180630.L3m.MO.CHL.chlor_a.9km</td></tr>\n",
       "\t<tr><td>2018-06-01</td><td>2018</td><td>0601</td><td>AQUA_MODIS</td><td>L3m</td><td>MO </td><td>PAR</td><td>par    </td><td>9km</td><td>NA</td><td>AQUA_MODIS.20180601_20180630.L3m.MO.PAR.par.9km    </td></tr>\n",
       "\t<tr><td>2018-07-01</td><td>2018</td><td>0701</td><td>AQUA_MODIS</td><td>L3m</td><td>MO </td><td>SST</td><td>sst    </td><td>9km</td><td>NA</td><td>AQUA_MODIS.20180701_20180731.L3m.MO.SST.sst.9km    </td></tr>\n",
       "\t<tr><td>2018-07-01</td><td>2018</td><td>0701</td><td>AQUA_MODIS</td><td>L3m</td><td>MO </td><td>CHL</td><td>chlor_a</td><td>9km</td><td>NA</td><td>AQUA_MODIS.20180701_20180731.L3m.MO.CHL.chlor_a.9km</td></tr>\n",
       "\t<tr><td>2018-07-01</td><td>2018</td><td>0701</td><td>AQUA_MODIS</td><td>L3m</td><td>MO </td><td>PAR</td><td>par    </td><td>9km</td><td>NA</td><td>AQUA_MODIS.20180701_20180731.L3m.MO.PAR.par.9km    </td></tr>\n",
       "\t<tr><td>2018-08-01</td><td>2018</td><td>0801</td><td>AQUA_MODIS</td><td>L3m</td><td>MO </td><td>SST</td><td>sst    </td><td>9km</td><td>NA</td><td>AQUA_MODIS.20180801_20180831.L3m.MO.SST.sst.9km    </td></tr>\n",
       "\t<tr><td>2018-08-01</td><td>2018</td><td>0801</td><td>AQUA_MODIS</td><td>L3m</td><td>MO </td><td>CHL</td><td>chlor_a</td><td>9km</td><td>NA</td><td>AQUA_MODIS.20180801_20180831.L3m.MO.CHL.chlor_a.9km</td></tr>\n",
       "\t<tr><td>2018-08-01</td><td>2018</td><td>0801</td><td>AQUA_MODIS</td><td>L3m</td><td>MO </td><td>PAR</td><td>par    </td><td>9km</td><td>NA</td><td>AQUA_MODIS.20180801_20180831.L3m.MO.PAR.par.9km    </td></tr>\n",
       "\t<tr><td>2018-08-01</td><td>2018</td><td>0801</td><td>AQUA_MODIS</td><td>L3m</td><td>DAY</td><td>SST</td><td>sst    </td><td>9km</td><td>NA</td><td>AQUA_MODIS.20180801.L3m.DAY.SST.sst.9km            </td></tr>\n",
       "\t<tr><td>2018-08-02</td><td>2018</td><td>0802</td><td>AQUA_MODIS</td><td>L3m</td><td>DAY</td><td>SST</td><td>sst    </td><td>9km</td><td>NA</td><td>AQUA_MODIS.20180802.L3m.DAY.SST.sst.9km            </td></tr>\n",
       "\t<tr><td>2018-08-03</td><td>2018</td><td>0803</td><td>AQUA_MODIS</td><td>L3m</td><td>DAY</td><td>SST</td><td>sst    </td><td>9km</td><td>NA</td><td>AQUA_MODIS.20180803.L3m.DAY.SST.sst.9km            </td></tr>\n",
       "\t<tr><td>2018-08-04</td><td>2018</td><td>0804</td><td>AQUA_MODIS</td><td>L3m</td><td>DAY</td><td>SST</td><td>sst    </td><td>9km</td><td>NA</td><td>AQUA_MODIS.20180804.L3m.DAY.SST.sst.9km            </td></tr>\n",
       "\t<tr><td>2018-08-05</td><td>2018</td><td>0805</td><td>AQUA_MODIS</td><td>L3m</td><td>DAY</td><td>SST</td><td>sst    </td><td>9km</td><td>NA</td><td>AQUA_MODIS.20180805.L3m.DAY.SST.sst.9km            </td></tr>\n",
       "\t<tr><td>2018-08-06</td><td>2018</td><td>0806</td><td>AQUA_MODIS</td><td>L3m</td><td>DAY</td><td>SST</td><td>sst    </td><td>9km</td><td>NA</td><td>AQUA_MODIS.20180806.L3m.DAY.SST.sst.9km            </td></tr>\n",
       "\t<tr><td>⋮</td><td>⋮</td><td>⋮</td><td>⋮</td><td>⋮</td><td>⋮</td><td>⋮</td><td>⋮</td><td>⋮</td><td>⋮</td><td>⋮</td></tr>\n",
       "\t<tr><td>2018-08-14</td><td>2018</td><td>0814</td><td>AQUA_MODIS</td><td>L3m</td><td>DAY</td><td>SST</td><td>sst    </td><td>9km</td><td>NA</td><td>AQUA_MODIS.20180814.L3m.DAY.SST.sst.9km            </td></tr>\n",
       "\t<tr><td>2018-08-15</td><td>2018</td><td>0815</td><td>AQUA_MODIS</td><td>L3m</td><td>DAY</td><td>SST</td><td>sst    </td><td>9km</td><td>NA</td><td>AQUA_MODIS.20180815.L3m.DAY.SST.sst.9km            </td></tr>\n",
       "\t<tr><td>2018-08-16</td><td>2018</td><td>0816</td><td>AQUA_MODIS</td><td>L3m</td><td>DAY</td><td>SST</td><td>sst    </td><td>9km</td><td>NA</td><td>AQUA_MODIS.20180816.L3m.DAY.SST.sst.9km            </td></tr>\n",
       "\t<tr><td>2018-08-17</td><td>2018</td><td>0817</td><td>AQUA_MODIS</td><td>L3m</td><td>DAY</td><td>SST</td><td>sst    </td><td>9km</td><td>NA</td><td>AQUA_MODIS.20180817.L3m.DAY.SST.sst.9km            </td></tr>\n",
       "\t<tr><td>2018-08-18</td><td>2018</td><td>0818</td><td>AQUA_MODIS</td><td>L3m</td><td>DAY</td><td>SST</td><td>sst    </td><td>9km</td><td>NA</td><td>AQUA_MODIS.20180818.L3m.DAY.SST.sst.9km            </td></tr>\n",
       "\t<tr><td>2018-08-19</td><td>2018</td><td>0819</td><td>AQUA_MODIS</td><td>L3m</td><td>DAY</td><td>SST</td><td>sst    </td><td>9km</td><td>NA</td><td>AQUA_MODIS.20180819.L3m.DAY.SST.sst.9km            </td></tr>\n",
       "\t<tr><td>2018-08-20</td><td>2018</td><td>0820</td><td>AQUA_MODIS</td><td>L3m</td><td>DAY</td><td>SST</td><td>sst    </td><td>9km</td><td>NA</td><td>AQUA_MODIS.20180820.L3m.DAY.SST.sst.9km            </td></tr>\n",
       "\t<tr><td>2018-08-21</td><td>2018</td><td>0821</td><td>AQUA_MODIS</td><td>L3m</td><td>DAY</td><td>SST</td><td>sst    </td><td>9km</td><td>NA</td><td>AQUA_MODIS.20180821.L3m.DAY.SST.sst.9km            </td></tr>\n",
       "\t<tr><td>2018-08-22</td><td>2018</td><td>0822</td><td>AQUA_MODIS</td><td>L3m</td><td>DAY</td><td>SST</td><td>sst    </td><td>9km</td><td>NA</td><td>AQUA_MODIS.20180822.L3m.DAY.SST.sst.9km            </td></tr>\n",
       "\t<tr><td>2018-08-23</td><td>2018</td><td>0823</td><td>AQUA_MODIS</td><td>L3m</td><td>DAY</td><td>SST</td><td>sst    </td><td>9km</td><td>NA</td><td>AQUA_MODIS.20180823.L3m.DAY.SST.sst.9km            </td></tr>\n",
       "\t<tr><td>2018-08-24</td><td>2018</td><td>0824</td><td>AQUA_MODIS</td><td>L3m</td><td>DAY</td><td>SST</td><td>sst    </td><td>9km</td><td>NA</td><td>AQUA_MODIS.20180824.L3m.DAY.SST.sst.9km            </td></tr>\n",
       "\t<tr><td>2018-08-25</td><td>2018</td><td>0825</td><td>AQUA_MODIS</td><td>L3m</td><td>DAY</td><td>SST</td><td>sst    </td><td>9km</td><td>NA</td><td>AQUA_MODIS.20180825.L3m.DAY.SST.sst.9km            </td></tr>\n",
       "\t<tr><td>2018-08-26</td><td>2018</td><td>0826</td><td>AQUA_MODIS</td><td>L3m</td><td>DAY</td><td>SST</td><td>sst    </td><td>9km</td><td>NA</td><td>AQUA_MODIS.20180826.L3m.DAY.SST.sst.9km            </td></tr>\n",
       "\t<tr><td>2018-08-27</td><td>2018</td><td>0827</td><td>AQUA_MODIS</td><td>L3m</td><td>DAY</td><td>SST</td><td>sst    </td><td>9km</td><td>NA</td><td>AQUA_MODIS.20180827.L3m.DAY.SST.sst.9km            </td></tr>\n",
       "\t<tr><td>2018-08-28</td><td>2018</td><td>0828</td><td>AQUA_MODIS</td><td>L3m</td><td>DAY</td><td>SST</td><td>sst    </td><td>9km</td><td>NA</td><td>AQUA_MODIS.20180828.L3m.DAY.SST.sst.9km            </td></tr>\n",
       "\t<tr><td>2018-08-29</td><td>2018</td><td>0829</td><td>AQUA_MODIS</td><td>L3m</td><td>DAY</td><td>SST</td><td>sst    </td><td>9km</td><td>NA</td><td>AQUA_MODIS.20180829.L3m.DAY.SST.sst.9km            </td></tr>\n",
       "\t<tr><td>2018-08-30</td><td>2018</td><td>0830</td><td>AQUA_MODIS</td><td>L3m</td><td>DAY</td><td>SST</td><td>sst    </td><td>9km</td><td>NA</td><td>AQUA_MODIS.20180830.L3m.DAY.SST.sst.9km            </td></tr>\n",
       "\t<tr><td>2018-08-31</td><td>2018</td><td>0831</td><td>AQUA_MODIS</td><td>L3m</td><td>DAY</td><td>SST</td><td>sst    </td><td>9km</td><td>NA</td><td>AQUA_MODIS.20180831.L3m.DAY.SST.sst.9km            </td></tr>\n",
       "\t<tr><td>2018-09-01</td><td>2018</td><td>0901</td><td>AQUA_MODIS</td><td>L3m</td><td>MO </td><td>SST</td><td>sst    </td><td>9km</td><td>NA</td><td>AQUA_MODIS.20180901_20180930.L3m.MO.SST.sst.9km    </td></tr>\n",
       "\t<tr><td>2018-09-01</td><td>2018</td><td>0901</td><td>AQUA_MODIS</td><td>L3m</td><td>MO </td><td>CHL</td><td>chlor_a</td><td>9km</td><td>NA</td><td>AQUA_MODIS.20180901_20180930.L3m.MO.CHL.chlor_a.9km</td></tr>\n",
       "\t<tr><td>2018-09-01</td><td>2018</td><td>0901</td><td>AQUA_MODIS</td><td>L3m</td><td>MO </td><td>PAR</td><td>par    </td><td>9km</td><td>NA</td><td>AQUA_MODIS.20180901_20180930.L3m.MO.PAR.par.9km    </td></tr>\n",
       "\t<tr><td>2018-10-01</td><td>2018</td><td>1001</td><td>AQUA_MODIS</td><td>L3m</td><td>MO </td><td>SST</td><td>sst    </td><td>9km</td><td>NA</td><td>AQUA_MODIS.20181001_20181031.L3m.MO.SST.sst.9km    </td></tr>\n",
       "\t<tr><td>2018-10-01</td><td>2018</td><td>1001</td><td>AQUA_MODIS</td><td>L3m</td><td>MO </td><td>CHL</td><td>chlor_a</td><td>9km</td><td>NA</td><td>AQUA_MODIS.20181001_20181031.L3m.MO.CHL.chlor_a.9km</td></tr>\n",
       "\t<tr><td>2018-10-01</td><td>2018</td><td>1001</td><td>AQUA_MODIS</td><td>L3m</td><td>MO </td><td>PAR</td><td>par    </td><td>9km</td><td>NA</td><td>AQUA_MODIS.20181001_20181031.L3m.MO.PAR.par.9km    </td></tr>\n",
       "\t<tr><td>2018-11-01</td><td>2018</td><td>1101</td><td>AQUA_MODIS</td><td>L3m</td><td>MO </td><td>SST</td><td>sst    </td><td>9km</td><td>NA</td><td>AQUA_MODIS.20181101_20181130.L3m.MO.SST.sst.9km    </td></tr>\n",
       "\t<tr><td>2018-11-01</td><td>2018</td><td>1101</td><td>AQUA_MODIS</td><td>L3m</td><td>MO </td><td>CHL</td><td>chlor_a</td><td>9km</td><td>NA</td><td>AQUA_MODIS.20181101_20181130.L3m.MO.CHL.chlor_a.9km</td></tr>\n",
       "\t<tr><td>2018-11-01</td><td>2018</td><td>1101</td><td>AQUA_MODIS</td><td>L3m</td><td>MO </td><td>PAR</td><td>par    </td><td>9km</td><td>NA</td><td>AQUA_MODIS.20181101_20181130.L3m.MO.PAR.par.9km    </td></tr>\n",
       "\t<tr><td>2018-12-01</td><td>2018</td><td>1201</td><td>AQUA_MODIS</td><td>L3m</td><td>MO </td><td>SST</td><td>sst    </td><td>9km</td><td>NA</td><td>AQUA_MODIS.20181201_20181231.L3m.MO.SST.sst.9km    </td></tr>\n",
       "\t<tr><td>2018-12-01</td><td>2018</td><td>1201</td><td>AQUA_MODIS</td><td>L3m</td><td>MO </td><td>CHL</td><td>chlor_a</td><td>9km</td><td>NA</td><td>AQUA_MODIS.20181201_20181231.L3m.MO.CHL.chlor_a.9km</td></tr>\n",
       "\t<tr><td>2018-12-01</td><td>2018</td><td>1201</td><td>AQUA_MODIS</td><td>L3m</td><td>MO </td><td>PAR</td><td>par    </td><td>9km</td><td>NA</td><td>AQUA_MODIS.20181201_20181231.L3m.MO.PAR.par.9km    </td></tr>\n",
       "</tbody>\n",
       "</table>\n"
      ],
      "text/latex": [
       "A spec\\_tbl\\_df: 67 × 11\n",
       "\\begin{tabular}{lllllllllll}\n",
       " date & year & mmdd & mit & lvl & per & suite & param & res & nrt & file\\\\\n",
       " <date> & <dbl> & <chr> & <chr> & <chr> & <chr> & <chr> & <chr> & <chr> & <lgl> & <chr>\\\\\n",
       "\\hline\n",
       "\t 2018-01-01 & 2018 & 0101 & AQUA\\_MODIS & L3m & MO  & SST & sst     & 9km & NA & AQUA\\_MODIS.20180101\\_20180131.L3m.MO.SST.sst.9km    \\\\\n",
       "\t 2018-01-01 & 2018 & 0101 & AQUA\\_MODIS & L3m & MO  & CHL & chlor\\_a & 9km & NA & AQUA\\_MODIS.20180101\\_20180131.L3m.MO.CHL.chlor\\_a.9km\\\\\n",
       "\t 2018-01-01 & 2018 & 0101 & AQUA\\_MODIS & L3m & MO  & PAR & par     & 9km & NA & AQUA\\_MODIS.20180101\\_20180131.L3m.MO.PAR.par.9km    \\\\\n",
       "\t 2018-02-01 & 2018 & 0201 & AQUA\\_MODIS & L3m & MO  & SST & sst     & 9km & NA & AQUA\\_MODIS.20180201\\_20180228.L3m.MO.SST.sst.9km    \\\\\n",
       "\t 2018-02-01 & 2018 & 0201 & AQUA\\_MODIS & L3m & MO  & CHL & chlor\\_a & 9km & NA & AQUA\\_MODIS.20180201\\_20180228.L3m.MO.CHL.chlor\\_a.9km\\\\\n",
       "\t 2018-02-01 & 2018 & 0201 & AQUA\\_MODIS & L3m & MO  & PAR & par     & 9km & NA & AQUA\\_MODIS.20180201\\_20180228.L3m.MO.PAR.par.9km    \\\\\n",
       "\t 2018-03-01 & 2018 & 0301 & AQUA\\_MODIS & L3m & MO  & SST & sst     & 9km & NA & AQUA\\_MODIS.20180301\\_20180331.L3m.MO.SST.sst.9km    \\\\\n",
       "\t 2018-03-01 & 2018 & 0301 & AQUA\\_MODIS & L3m & MO  & CHL & chlor\\_a & 9km & NA & AQUA\\_MODIS.20180301\\_20180331.L3m.MO.CHL.chlor\\_a.9km\\\\\n",
       "\t 2018-03-01 & 2018 & 0301 & AQUA\\_MODIS & L3m & MO  & PAR & par     & 9km & NA & AQUA\\_MODIS.20180301\\_20180331.L3m.MO.PAR.par.9km    \\\\\n",
       "\t 2018-04-01 & 2018 & 0401 & AQUA\\_MODIS & L3m & MO  & SST & sst     & 9km & NA & AQUA\\_MODIS.20180401\\_20180430.L3m.MO.SST.sst.9km    \\\\\n",
       "\t 2018-04-01 & 2018 & 0401 & AQUA\\_MODIS & L3m & MO  & CHL & chlor\\_a & 9km & NA & AQUA\\_MODIS.20180401\\_20180430.L3m.MO.CHL.chlor\\_a.9km\\\\\n",
       "\t 2018-04-01 & 2018 & 0401 & AQUA\\_MODIS & L3m & MO  & PAR & par     & 9km & NA & AQUA\\_MODIS.20180401\\_20180430.L3m.MO.PAR.par.9km    \\\\\n",
       "\t 2018-05-01 & 2018 & 0501 & AQUA\\_MODIS & L3m & MO  & SST & sst     & 9km & NA & AQUA\\_MODIS.20180501\\_20180531.L3m.MO.SST.sst.9km    \\\\\n",
       "\t 2018-05-01 & 2018 & 0501 & AQUA\\_MODIS & L3m & MO  & CHL & chlor\\_a & 9km & NA & AQUA\\_MODIS.20180501\\_20180531.L3m.MO.CHL.chlor\\_a.9km\\\\\n",
       "\t 2018-05-01 & 2018 & 0501 & AQUA\\_MODIS & L3m & MO  & PAR & par     & 9km & NA & AQUA\\_MODIS.20180501\\_20180531.L3m.MO.PAR.par.9km    \\\\\n",
       "\t 2018-06-01 & 2018 & 0601 & AQUA\\_MODIS & L3m & MO  & SST & sst     & 9km & NA & AQUA\\_MODIS.20180601\\_20180630.L3m.MO.SST.sst.9km    \\\\\n",
       "\t 2018-06-01 & 2018 & 0601 & AQUA\\_MODIS & L3m & MO  & CHL & chlor\\_a & 9km & NA & AQUA\\_MODIS.20180601\\_20180630.L3m.MO.CHL.chlor\\_a.9km\\\\\n",
       "\t 2018-06-01 & 2018 & 0601 & AQUA\\_MODIS & L3m & MO  & PAR & par     & 9km & NA & AQUA\\_MODIS.20180601\\_20180630.L3m.MO.PAR.par.9km    \\\\\n",
       "\t 2018-07-01 & 2018 & 0701 & AQUA\\_MODIS & L3m & MO  & SST & sst     & 9km & NA & AQUA\\_MODIS.20180701\\_20180731.L3m.MO.SST.sst.9km    \\\\\n",
       "\t 2018-07-01 & 2018 & 0701 & AQUA\\_MODIS & L3m & MO  & CHL & chlor\\_a & 9km & NA & AQUA\\_MODIS.20180701\\_20180731.L3m.MO.CHL.chlor\\_a.9km\\\\\n",
       "\t 2018-07-01 & 2018 & 0701 & AQUA\\_MODIS & L3m & MO  & PAR & par     & 9km & NA & AQUA\\_MODIS.20180701\\_20180731.L3m.MO.PAR.par.9km    \\\\\n",
       "\t 2018-08-01 & 2018 & 0801 & AQUA\\_MODIS & L3m & MO  & SST & sst     & 9km & NA & AQUA\\_MODIS.20180801\\_20180831.L3m.MO.SST.sst.9km    \\\\\n",
       "\t 2018-08-01 & 2018 & 0801 & AQUA\\_MODIS & L3m & MO  & CHL & chlor\\_a & 9km & NA & AQUA\\_MODIS.20180801\\_20180831.L3m.MO.CHL.chlor\\_a.9km\\\\\n",
       "\t 2018-08-01 & 2018 & 0801 & AQUA\\_MODIS & L3m & MO  & PAR & par     & 9km & NA & AQUA\\_MODIS.20180801\\_20180831.L3m.MO.PAR.par.9km    \\\\\n",
       "\t 2018-08-01 & 2018 & 0801 & AQUA\\_MODIS & L3m & DAY & SST & sst     & 9km & NA & AQUA\\_MODIS.20180801.L3m.DAY.SST.sst.9km            \\\\\n",
       "\t 2018-08-02 & 2018 & 0802 & AQUA\\_MODIS & L3m & DAY & SST & sst     & 9km & NA & AQUA\\_MODIS.20180802.L3m.DAY.SST.sst.9km            \\\\\n",
       "\t 2018-08-03 & 2018 & 0803 & AQUA\\_MODIS & L3m & DAY & SST & sst     & 9km & NA & AQUA\\_MODIS.20180803.L3m.DAY.SST.sst.9km            \\\\\n",
       "\t 2018-08-04 & 2018 & 0804 & AQUA\\_MODIS & L3m & DAY & SST & sst     & 9km & NA & AQUA\\_MODIS.20180804.L3m.DAY.SST.sst.9km            \\\\\n",
       "\t 2018-08-05 & 2018 & 0805 & AQUA\\_MODIS & L3m & DAY & SST & sst     & 9km & NA & AQUA\\_MODIS.20180805.L3m.DAY.SST.sst.9km            \\\\\n",
       "\t 2018-08-06 & 2018 & 0806 & AQUA\\_MODIS & L3m & DAY & SST & sst     & 9km & NA & AQUA\\_MODIS.20180806.L3m.DAY.SST.sst.9km            \\\\\n",
       "\t ⋮ & ⋮ & ⋮ & ⋮ & ⋮ & ⋮ & ⋮ & ⋮ & ⋮ & ⋮ & ⋮\\\\\n",
       "\t 2018-08-14 & 2018 & 0814 & AQUA\\_MODIS & L3m & DAY & SST & sst     & 9km & NA & AQUA\\_MODIS.20180814.L3m.DAY.SST.sst.9km            \\\\\n",
       "\t 2018-08-15 & 2018 & 0815 & AQUA\\_MODIS & L3m & DAY & SST & sst     & 9km & NA & AQUA\\_MODIS.20180815.L3m.DAY.SST.sst.9km            \\\\\n",
       "\t 2018-08-16 & 2018 & 0816 & AQUA\\_MODIS & L3m & DAY & SST & sst     & 9km & NA & AQUA\\_MODIS.20180816.L3m.DAY.SST.sst.9km            \\\\\n",
       "\t 2018-08-17 & 2018 & 0817 & AQUA\\_MODIS & L3m & DAY & SST & sst     & 9km & NA & AQUA\\_MODIS.20180817.L3m.DAY.SST.sst.9km            \\\\\n",
       "\t 2018-08-18 & 2018 & 0818 & AQUA\\_MODIS & L3m & DAY & SST & sst     & 9km & NA & AQUA\\_MODIS.20180818.L3m.DAY.SST.sst.9km            \\\\\n",
       "\t 2018-08-19 & 2018 & 0819 & AQUA\\_MODIS & L3m & DAY & SST & sst     & 9km & NA & AQUA\\_MODIS.20180819.L3m.DAY.SST.sst.9km            \\\\\n",
       "\t 2018-08-20 & 2018 & 0820 & AQUA\\_MODIS & L3m & DAY & SST & sst     & 9km & NA & AQUA\\_MODIS.20180820.L3m.DAY.SST.sst.9km            \\\\\n",
       "\t 2018-08-21 & 2018 & 0821 & AQUA\\_MODIS & L3m & DAY & SST & sst     & 9km & NA & AQUA\\_MODIS.20180821.L3m.DAY.SST.sst.9km            \\\\\n",
       "\t 2018-08-22 & 2018 & 0822 & AQUA\\_MODIS & L3m & DAY & SST & sst     & 9km & NA & AQUA\\_MODIS.20180822.L3m.DAY.SST.sst.9km            \\\\\n",
       "\t 2018-08-23 & 2018 & 0823 & AQUA\\_MODIS & L3m & DAY & SST & sst     & 9km & NA & AQUA\\_MODIS.20180823.L3m.DAY.SST.sst.9km            \\\\\n",
       "\t 2018-08-24 & 2018 & 0824 & AQUA\\_MODIS & L3m & DAY & SST & sst     & 9km & NA & AQUA\\_MODIS.20180824.L3m.DAY.SST.sst.9km            \\\\\n",
       "\t 2018-08-25 & 2018 & 0825 & AQUA\\_MODIS & L3m & DAY & SST & sst     & 9km & NA & AQUA\\_MODIS.20180825.L3m.DAY.SST.sst.9km            \\\\\n",
       "\t 2018-08-26 & 2018 & 0826 & AQUA\\_MODIS & L3m & DAY & SST & sst     & 9km & NA & AQUA\\_MODIS.20180826.L3m.DAY.SST.sst.9km            \\\\\n",
       "\t 2018-08-27 & 2018 & 0827 & AQUA\\_MODIS & L3m & DAY & SST & sst     & 9km & NA & AQUA\\_MODIS.20180827.L3m.DAY.SST.sst.9km            \\\\\n",
       "\t 2018-08-28 & 2018 & 0828 & AQUA\\_MODIS & L3m & DAY & SST & sst     & 9km & NA & AQUA\\_MODIS.20180828.L3m.DAY.SST.sst.9km            \\\\\n",
       "\t 2018-08-29 & 2018 & 0829 & AQUA\\_MODIS & L3m & DAY & SST & sst     & 9km & NA & AQUA\\_MODIS.20180829.L3m.DAY.SST.sst.9km            \\\\\n",
       "\t 2018-08-30 & 2018 & 0830 & AQUA\\_MODIS & L3m & DAY & SST & sst     & 9km & NA & AQUA\\_MODIS.20180830.L3m.DAY.SST.sst.9km            \\\\\n",
       "\t 2018-08-31 & 2018 & 0831 & AQUA\\_MODIS & L3m & DAY & SST & sst     & 9km & NA & AQUA\\_MODIS.20180831.L3m.DAY.SST.sst.9km            \\\\\n",
       "\t 2018-09-01 & 2018 & 0901 & AQUA\\_MODIS & L3m & MO  & SST & sst     & 9km & NA & AQUA\\_MODIS.20180901\\_20180930.L3m.MO.SST.sst.9km    \\\\\n",
       "\t 2018-09-01 & 2018 & 0901 & AQUA\\_MODIS & L3m & MO  & CHL & chlor\\_a & 9km & NA & AQUA\\_MODIS.20180901\\_20180930.L3m.MO.CHL.chlor\\_a.9km\\\\\n",
       "\t 2018-09-01 & 2018 & 0901 & AQUA\\_MODIS & L3m & MO  & PAR & par     & 9km & NA & AQUA\\_MODIS.20180901\\_20180930.L3m.MO.PAR.par.9km    \\\\\n",
       "\t 2018-10-01 & 2018 & 1001 & AQUA\\_MODIS & L3m & MO  & SST & sst     & 9km & NA & AQUA\\_MODIS.20181001\\_20181031.L3m.MO.SST.sst.9km    \\\\\n",
       "\t 2018-10-01 & 2018 & 1001 & AQUA\\_MODIS & L3m & MO  & CHL & chlor\\_a & 9km & NA & AQUA\\_MODIS.20181001\\_20181031.L3m.MO.CHL.chlor\\_a.9km\\\\\n",
       "\t 2018-10-01 & 2018 & 1001 & AQUA\\_MODIS & L3m & MO  & PAR & par     & 9km & NA & AQUA\\_MODIS.20181001\\_20181031.L3m.MO.PAR.par.9km    \\\\\n",
       "\t 2018-11-01 & 2018 & 1101 & AQUA\\_MODIS & L3m & MO  & SST & sst     & 9km & NA & AQUA\\_MODIS.20181101\\_20181130.L3m.MO.SST.sst.9km    \\\\\n",
       "\t 2018-11-01 & 2018 & 1101 & AQUA\\_MODIS & L3m & MO  & CHL & chlor\\_a & 9km & NA & AQUA\\_MODIS.20181101\\_20181130.L3m.MO.CHL.chlor\\_a.9km\\\\\n",
       "\t 2018-11-01 & 2018 & 1101 & AQUA\\_MODIS & L3m & MO  & PAR & par     & 9km & NA & AQUA\\_MODIS.20181101\\_20181130.L3m.MO.PAR.par.9km    \\\\\n",
       "\t 2018-12-01 & 2018 & 1201 & AQUA\\_MODIS & L3m & MO  & SST & sst     & 9km & NA & AQUA\\_MODIS.20181201\\_20181231.L3m.MO.SST.sst.9km    \\\\\n",
       "\t 2018-12-01 & 2018 & 1201 & AQUA\\_MODIS & L3m & MO  & CHL & chlor\\_a & 9km & NA & AQUA\\_MODIS.20181201\\_20181231.L3m.MO.CHL.chlor\\_a.9km\\\\\n",
       "\t 2018-12-01 & 2018 & 1201 & AQUA\\_MODIS & L3m & MO  & PAR & par     & 9km & NA & AQUA\\_MODIS.20181201\\_20181231.L3m.MO.PAR.par.9km    \\\\\n",
       "\\end{tabular}\n"
      ],
      "text/markdown": [
       "\n",
       "A spec_tbl_df: 67 × 11\n",
       "\n",
       "| date &lt;date&gt; | year &lt;dbl&gt; | mmdd &lt;chr&gt; | mit &lt;chr&gt; | lvl &lt;chr&gt; | per &lt;chr&gt; | suite &lt;chr&gt; | param &lt;chr&gt; | res &lt;chr&gt; | nrt &lt;lgl&gt; | file &lt;chr&gt; |\n",
       "|---|---|---|---|---|---|---|---|---|---|---|\n",
       "| 2018-01-01 | 2018 | 0101 | AQUA_MODIS | L3m | MO  | SST | sst     | 9km | NA | AQUA_MODIS.20180101_20180131.L3m.MO.SST.sst.9km     |\n",
       "| 2018-01-01 | 2018 | 0101 | AQUA_MODIS | L3m | MO  | CHL | chlor_a | 9km | NA | AQUA_MODIS.20180101_20180131.L3m.MO.CHL.chlor_a.9km |\n",
       "| 2018-01-01 | 2018 | 0101 | AQUA_MODIS | L3m | MO  | PAR | par     | 9km | NA | AQUA_MODIS.20180101_20180131.L3m.MO.PAR.par.9km     |\n",
       "| 2018-02-01 | 2018 | 0201 | AQUA_MODIS | L3m | MO  | SST | sst     | 9km | NA | AQUA_MODIS.20180201_20180228.L3m.MO.SST.sst.9km     |\n",
       "| 2018-02-01 | 2018 | 0201 | AQUA_MODIS | L3m | MO  | CHL | chlor_a | 9km | NA | AQUA_MODIS.20180201_20180228.L3m.MO.CHL.chlor_a.9km |\n",
       "| 2018-02-01 | 2018 | 0201 | AQUA_MODIS | L3m | MO  | PAR | par     | 9km | NA | AQUA_MODIS.20180201_20180228.L3m.MO.PAR.par.9km     |\n",
       "| 2018-03-01 | 2018 | 0301 | AQUA_MODIS | L3m | MO  | SST | sst     | 9km | NA | AQUA_MODIS.20180301_20180331.L3m.MO.SST.sst.9km     |\n",
       "| 2018-03-01 | 2018 | 0301 | AQUA_MODIS | L3m | MO  | CHL | chlor_a | 9km | NA | AQUA_MODIS.20180301_20180331.L3m.MO.CHL.chlor_a.9km |\n",
       "| 2018-03-01 | 2018 | 0301 | AQUA_MODIS | L3m | MO  | PAR | par     | 9km | NA | AQUA_MODIS.20180301_20180331.L3m.MO.PAR.par.9km     |\n",
       "| 2018-04-01 | 2018 | 0401 | AQUA_MODIS | L3m | MO  | SST | sst     | 9km | NA | AQUA_MODIS.20180401_20180430.L3m.MO.SST.sst.9km     |\n",
       "| 2018-04-01 | 2018 | 0401 | AQUA_MODIS | L3m | MO  | CHL | chlor_a | 9km | NA | AQUA_MODIS.20180401_20180430.L3m.MO.CHL.chlor_a.9km |\n",
       "| 2018-04-01 | 2018 | 0401 | AQUA_MODIS | L3m | MO  | PAR | par     | 9km | NA | AQUA_MODIS.20180401_20180430.L3m.MO.PAR.par.9km     |\n",
       "| 2018-05-01 | 2018 | 0501 | AQUA_MODIS | L3m | MO  | SST | sst     | 9km | NA | AQUA_MODIS.20180501_20180531.L3m.MO.SST.sst.9km     |\n",
       "| 2018-05-01 | 2018 | 0501 | AQUA_MODIS | L3m | MO  | CHL | chlor_a | 9km | NA | AQUA_MODIS.20180501_20180531.L3m.MO.CHL.chlor_a.9km |\n",
       "| 2018-05-01 | 2018 | 0501 | AQUA_MODIS | L3m | MO  | PAR | par     | 9km | NA | AQUA_MODIS.20180501_20180531.L3m.MO.PAR.par.9km     |\n",
       "| 2018-06-01 | 2018 | 0601 | AQUA_MODIS | L3m | MO  | SST | sst     | 9km | NA | AQUA_MODIS.20180601_20180630.L3m.MO.SST.sst.9km     |\n",
       "| 2018-06-01 | 2018 | 0601 | AQUA_MODIS | L3m | MO  | CHL | chlor_a | 9km | NA | AQUA_MODIS.20180601_20180630.L3m.MO.CHL.chlor_a.9km |\n",
       "| 2018-06-01 | 2018 | 0601 | AQUA_MODIS | L3m | MO  | PAR | par     | 9km | NA | AQUA_MODIS.20180601_20180630.L3m.MO.PAR.par.9km     |\n",
       "| 2018-07-01 | 2018 | 0701 | AQUA_MODIS | L3m | MO  | SST | sst     | 9km | NA | AQUA_MODIS.20180701_20180731.L3m.MO.SST.sst.9km     |\n",
       "| 2018-07-01 | 2018 | 0701 | AQUA_MODIS | L3m | MO  | CHL | chlor_a | 9km | NA | AQUA_MODIS.20180701_20180731.L3m.MO.CHL.chlor_a.9km |\n",
       "| 2018-07-01 | 2018 | 0701 | AQUA_MODIS | L3m | MO  | PAR | par     | 9km | NA | AQUA_MODIS.20180701_20180731.L3m.MO.PAR.par.9km     |\n",
       "| 2018-08-01 | 2018 | 0801 | AQUA_MODIS | L3m | MO  | SST | sst     | 9km | NA | AQUA_MODIS.20180801_20180831.L3m.MO.SST.sst.9km     |\n",
       "| 2018-08-01 | 2018 | 0801 | AQUA_MODIS | L3m | MO  | CHL | chlor_a | 9km | NA | AQUA_MODIS.20180801_20180831.L3m.MO.CHL.chlor_a.9km |\n",
       "| 2018-08-01 | 2018 | 0801 | AQUA_MODIS | L3m | MO  | PAR | par     | 9km | NA | AQUA_MODIS.20180801_20180831.L3m.MO.PAR.par.9km     |\n",
       "| 2018-08-01 | 2018 | 0801 | AQUA_MODIS | L3m | DAY | SST | sst     | 9km | NA | AQUA_MODIS.20180801.L3m.DAY.SST.sst.9km             |\n",
       "| 2018-08-02 | 2018 | 0802 | AQUA_MODIS | L3m | DAY | SST | sst     | 9km | NA | AQUA_MODIS.20180802.L3m.DAY.SST.sst.9km             |\n",
       "| 2018-08-03 | 2018 | 0803 | AQUA_MODIS | L3m | DAY | SST | sst     | 9km | NA | AQUA_MODIS.20180803.L3m.DAY.SST.sst.9km             |\n",
       "| 2018-08-04 | 2018 | 0804 | AQUA_MODIS | L3m | DAY | SST | sst     | 9km | NA | AQUA_MODIS.20180804.L3m.DAY.SST.sst.9km             |\n",
       "| 2018-08-05 | 2018 | 0805 | AQUA_MODIS | L3m | DAY | SST | sst     | 9km | NA | AQUA_MODIS.20180805.L3m.DAY.SST.sst.9km             |\n",
       "| 2018-08-06 | 2018 | 0806 | AQUA_MODIS | L3m | DAY | SST | sst     | 9km | NA | AQUA_MODIS.20180806.L3m.DAY.SST.sst.9km             |\n",
       "| ⋮ | ⋮ | ⋮ | ⋮ | ⋮ | ⋮ | ⋮ | ⋮ | ⋮ | ⋮ | ⋮ |\n",
       "| 2018-08-14 | 2018 | 0814 | AQUA_MODIS | L3m | DAY | SST | sst     | 9km | NA | AQUA_MODIS.20180814.L3m.DAY.SST.sst.9km             |\n",
       "| 2018-08-15 | 2018 | 0815 | AQUA_MODIS | L3m | DAY | SST | sst     | 9km | NA | AQUA_MODIS.20180815.L3m.DAY.SST.sst.9km             |\n",
       "| 2018-08-16 | 2018 | 0816 | AQUA_MODIS | L3m | DAY | SST | sst     | 9km | NA | AQUA_MODIS.20180816.L3m.DAY.SST.sst.9km             |\n",
       "| 2018-08-17 | 2018 | 0817 | AQUA_MODIS | L3m | DAY | SST | sst     | 9km | NA | AQUA_MODIS.20180817.L3m.DAY.SST.sst.9km             |\n",
       "| 2018-08-18 | 2018 | 0818 | AQUA_MODIS | L3m | DAY | SST | sst     | 9km | NA | AQUA_MODIS.20180818.L3m.DAY.SST.sst.9km             |\n",
       "| 2018-08-19 | 2018 | 0819 | AQUA_MODIS | L3m | DAY | SST | sst     | 9km | NA | AQUA_MODIS.20180819.L3m.DAY.SST.sst.9km             |\n",
       "| 2018-08-20 | 2018 | 0820 | AQUA_MODIS | L3m | DAY | SST | sst     | 9km | NA | AQUA_MODIS.20180820.L3m.DAY.SST.sst.9km             |\n",
       "| 2018-08-21 | 2018 | 0821 | AQUA_MODIS | L3m | DAY | SST | sst     | 9km | NA | AQUA_MODIS.20180821.L3m.DAY.SST.sst.9km             |\n",
       "| 2018-08-22 | 2018 | 0822 | AQUA_MODIS | L3m | DAY | SST | sst     | 9km | NA | AQUA_MODIS.20180822.L3m.DAY.SST.sst.9km             |\n",
       "| 2018-08-23 | 2018 | 0823 | AQUA_MODIS | L3m | DAY | SST | sst     | 9km | NA | AQUA_MODIS.20180823.L3m.DAY.SST.sst.9km             |\n",
       "| 2018-08-24 | 2018 | 0824 | AQUA_MODIS | L3m | DAY | SST | sst     | 9km | NA | AQUA_MODIS.20180824.L3m.DAY.SST.sst.9km             |\n",
       "| 2018-08-25 | 2018 | 0825 | AQUA_MODIS | L3m | DAY | SST | sst     | 9km | NA | AQUA_MODIS.20180825.L3m.DAY.SST.sst.9km             |\n",
       "| 2018-08-26 | 2018 | 0826 | AQUA_MODIS | L3m | DAY | SST | sst     | 9km | NA | AQUA_MODIS.20180826.L3m.DAY.SST.sst.9km             |\n",
       "| 2018-08-27 | 2018 | 0827 | AQUA_MODIS | L3m | DAY | SST | sst     | 9km | NA | AQUA_MODIS.20180827.L3m.DAY.SST.sst.9km             |\n",
       "| 2018-08-28 | 2018 | 0828 | AQUA_MODIS | L3m | DAY | SST | sst     | 9km | NA | AQUA_MODIS.20180828.L3m.DAY.SST.sst.9km             |\n",
       "| 2018-08-29 | 2018 | 0829 | AQUA_MODIS | L3m | DAY | SST | sst     | 9km | NA | AQUA_MODIS.20180829.L3m.DAY.SST.sst.9km             |\n",
       "| 2018-08-30 | 2018 | 0830 | AQUA_MODIS | L3m | DAY | SST | sst     | 9km | NA | AQUA_MODIS.20180830.L3m.DAY.SST.sst.9km             |\n",
       "| 2018-08-31 | 2018 | 0831 | AQUA_MODIS | L3m | DAY | SST | sst     | 9km | NA | AQUA_MODIS.20180831.L3m.DAY.SST.sst.9km             |\n",
       "| 2018-09-01 | 2018 | 0901 | AQUA_MODIS | L3m | MO  | SST | sst     | 9km | NA | AQUA_MODIS.20180901_20180930.L3m.MO.SST.sst.9km     |\n",
       "| 2018-09-01 | 2018 | 0901 | AQUA_MODIS | L3m | MO  | CHL | chlor_a | 9km | NA | AQUA_MODIS.20180901_20180930.L3m.MO.CHL.chlor_a.9km |\n",
       "| 2018-09-01 | 2018 | 0901 | AQUA_MODIS | L3m | MO  | PAR | par     | 9km | NA | AQUA_MODIS.20180901_20180930.L3m.MO.PAR.par.9km     |\n",
       "| 2018-10-01 | 2018 | 1001 | AQUA_MODIS | L3m | MO  | SST | sst     | 9km | NA | AQUA_MODIS.20181001_20181031.L3m.MO.SST.sst.9km     |\n",
       "| 2018-10-01 | 2018 | 1001 | AQUA_MODIS | L3m | MO  | CHL | chlor_a | 9km | NA | AQUA_MODIS.20181001_20181031.L3m.MO.CHL.chlor_a.9km |\n",
       "| 2018-10-01 | 2018 | 1001 | AQUA_MODIS | L3m | MO  | PAR | par     | 9km | NA | AQUA_MODIS.20181001_20181031.L3m.MO.PAR.par.9km     |\n",
       "| 2018-11-01 | 2018 | 1101 | AQUA_MODIS | L3m | MO  | SST | sst     | 9km | NA | AQUA_MODIS.20181101_20181130.L3m.MO.SST.sst.9km     |\n",
       "| 2018-11-01 | 2018 | 1101 | AQUA_MODIS | L3m | MO  | CHL | chlor_a | 9km | NA | AQUA_MODIS.20181101_20181130.L3m.MO.CHL.chlor_a.9km |\n",
       "| 2018-11-01 | 2018 | 1101 | AQUA_MODIS | L3m | MO  | PAR | par     | 9km | NA | AQUA_MODIS.20181101_20181130.L3m.MO.PAR.par.9km     |\n",
       "| 2018-12-01 | 2018 | 1201 | AQUA_MODIS | L3m | MO  | SST | sst     | 9km | NA | AQUA_MODIS.20181201_20181231.L3m.MO.SST.sst.9km     |\n",
       "| 2018-12-01 | 2018 | 1201 | AQUA_MODIS | L3m | MO  | CHL | chlor_a | 9km | NA | AQUA_MODIS.20181201_20181231.L3m.MO.CHL.chlor_a.9km |\n",
       "| 2018-12-01 | 2018 | 1201 | AQUA_MODIS | L3m | MO  | PAR | par     | 9km | NA | AQUA_MODIS.20181201_20181231.L3m.MO.PAR.par.9km     |\n",
       "\n"
      ],
      "text/plain": [
       "   date       year mmdd mit        lvl per suite param   res nrt\n",
       "1  2018-01-01 2018 0101 AQUA_MODIS L3m MO  SST   sst     9km NA \n",
       "2  2018-01-01 2018 0101 AQUA_MODIS L3m MO  CHL   chlor_a 9km NA \n",
       "3  2018-01-01 2018 0101 AQUA_MODIS L3m MO  PAR   par     9km NA \n",
       "4  2018-02-01 2018 0201 AQUA_MODIS L3m MO  SST   sst     9km NA \n",
       "5  2018-02-01 2018 0201 AQUA_MODIS L3m MO  CHL   chlor_a 9km NA \n",
       "6  2018-02-01 2018 0201 AQUA_MODIS L3m MO  PAR   par     9km NA \n",
       "7  2018-03-01 2018 0301 AQUA_MODIS L3m MO  SST   sst     9km NA \n",
       "8  2018-03-01 2018 0301 AQUA_MODIS L3m MO  CHL   chlor_a 9km NA \n",
       "9  2018-03-01 2018 0301 AQUA_MODIS L3m MO  PAR   par     9km NA \n",
       "10 2018-04-01 2018 0401 AQUA_MODIS L3m MO  SST   sst     9km NA \n",
       "11 2018-04-01 2018 0401 AQUA_MODIS L3m MO  CHL   chlor_a 9km NA \n",
       "12 2018-04-01 2018 0401 AQUA_MODIS L3m MO  PAR   par     9km NA \n",
       "13 2018-05-01 2018 0501 AQUA_MODIS L3m MO  SST   sst     9km NA \n",
       "14 2018-05-01 2018 0501 AQUA_MODIS L3m MO  CHL   chlor_a 9km NA \n",
       "15 2018-05-01 2018 0501 AQUA_MODIS L3m MO  PAR   par     9km NA \n",
       "16 2018-06-01 2018 0601 AQUA_MODIS L3m MO  SST   sst     9km NA \n",
       "17 2018-06-01 2018 0601 AQUA_MODIS L3m MO  CHL   chlor_a 9km NA \n",
       "18 2018-06-01 2018 0601 AQUA_MODIS L3m MO  PAR   par     9km NA \n",
       "19 2018-07-01 2018 0701 AQUA_MODIS L3m MO  SST   sst     9km NA \n",
       "20 2018-07-01 2018 0701 AQUA_MODIS L3m MO  CHL   chlor_a 9km NA \n",
       "21 2018-07-01 2018 0701 AQUA_MODIS L3m MO  PAR   par     9km NA \n",
       "22 2018-08-01 2018 0801 AQUA_MODIS L3m MO  SST   sst     9km NA \n",
       "23 2018-08-01 2018 0801 AQUA_MODIS L3m MO  CHL   chlor_a 9km NA \n",
       "24 2018-08-01 2018 0801 AQUA_MODIS L3m MO  PAR   par     9km NA \n",
       "25 2018-08-01 2018 0801 AQUA_MODIS L3m DAY SST   sst     9km NA \n",
       "26 2018-08-02 2018 0802 AQUA_MODIS L3m DAY SST   sst     9km NA \n",
       "27 2018-08-03 2018 0803 AQUA_MODIS L3m DAY SST   sst     9km NA \n",
       "28 2018-08-04 2018 0804 AQUA_MODIS L3m DAY SST   sst     9km NA \n",
       "29 2018-08-05 2018 0805 AQUA_MODIS L3m DAY SST   sst     9km NA \n",
       "30 2018-08-06 2018 0806 AQUA_MODIS L3m DAY SST   sst     9km NA \n",
       "⋮  ⋮          ⋮    ⋮    ⋮          ⋮   ⋮   ⋮     ⋮       ⋮   ⋮  \n",
       "38 2018-08-14 2018 0814 AQUA_MODIS L3m DAY SST   sst     9km NA \n",
       "39 2018-08-15 2018 0815 AQUA_MODIS L3m DAY SST   sst     9km NA \n",
       "40 2018-08-16 2018 0816 AQUA_MODIS L3m DAY SST   sst     9km NA \n",
       "41 2018-08-17 2018 0817 AQUA_MODIS L3m DAY SST   sst     9km NA \n",
       "42 2018-08-18 2018 0818 AQUA_MODIS L3m DAY SST   sst     9km NA \n",
       "43 2018-08-19 2018 0819 AQUA_MODIS L3m DAY SST   sst     9km NA \n",
       "44 2018-08-20 2018 0820 AQUA_MODIS L3m DAY SST   sst     9km NA \n",
       "45 2018-08-21 2018 0821 AQUA_MODIS L3m DAY SST   sst     9km NA \n",
       "46 2018-08-22 2018 0822 AQUA_MODIS L3m DAY SST   sst     9km NA \n",
       "47 2018-08-23 2018 0823 AQUA_MODIS L3m DAY SST   sst     9km NA \n",
       "48 2018-08-24 2018 0824 AQUA_MODIS L3m DAY SST   sst     9km NA \n",
       "49 2018-08-25 2018 0825 AQUA_MODIS L3m DAY SST   sst     9km NA \n",
       "50 2018-08-26 2018 0826 AQUA_MODIS L3m DAY SST   sst     9km NA \n",
       "51 2018-08-27 2018 0827 AQUA_MODIS L3m DAY SST   sst     9km NA \n",
       "52 2018-08-28 2018 0828 AQUA_MODIS L3m DAY SST   sst     9km NA \n",
       "53 2018-08-29 2018 0829 AQUA_MODIS L3m DAY SST   sst     9km NA \n",
       "54 2018-08-30 2018 0830 AQUA_MODIS L3m DAY SST   sst     9km NA \n",
       "55 2018-08-31 2018 0831 AQUA_MODIS L3m DAY SST   sst     9km NA \n",
       "56 2018-09-01 2018 0901 AQUA_MODIS L3m MO  SST   sst     9km NA \n",
       "57 2018-09-01 2018 0901 AQUA_MODIS L3m MO  CHL   chlor_a 9km NA \n",
       "58 2018-09-01 2018 0901 AQUA_MODIS L3m MO  PAR   par     9km NA \n",
       "59 2018-10-01 2018 1001 AQUA_MODIS L3m MO  SST   sst     9km NA \n",
       "60 2018-10-01 2018 1001 AQUA_MODIS L3m MO  CHL   chlor_a 9km NA \n",
       "61 2018-10-01 2018 1001 AQUA_MODIS L3m MO  PAR   par     9km NA \n",
       "62 2018-11-01 2018 1101 AQUA_MODIS L3m MO  SST   sst     9km NA \n",
       "63 2018-11-01 2018 1101 AQUA_MODIS L3m MO  CHL   chlor_a 9km NA \n",
       "64 2018-11-01 2018 1101 AQUA_MODIS L3m MO  PAR   par     9km NA \n",
       "65 2018-12-01 2018 1201 AQUA_MODIS L3m MO  SST   sst     9km NA \n",
       "66 2018-12-01 2018 1201 AQUA_MODIS L3m MO  CHL   chlor_a 9km NA \n",
       "67 2018-12-01 2018 1201 AQUA_MODIS L3m MO  PAR   par     9km NA \n",
       "   file                                               \n",
       "1  AQUA_MODIS.20180101_20180131.L3m.MO.SST.sst.9km    \n",
       "2  AQUA_MODIS.20180101_20180131.L3m.MO.CHL.chlor_a.9km\n",
       "3  AQUA_MODIS.20180101_20180131.L3m.MO.PAR.par.9km    \n",
       "4  AQUA_MODIS.20180201_20180228.L3m.MO.SST.sst.9km    \n",
       "5  AQUA_MODIS.20180201_20180228.L3m.MO.CHL.chlor_a.9km\n",
       "6  AQUA_MODIS.20180201_20180228.L3m.MO.PAR.par.9km    \n",
       "7  AQUA_MODIS.20180301_20180331.L3m.MO.SST.sst.9km    \n",
       "8  AQUA_MODIS.20180301_20180331.L3m.MO.CHL.chlor_a.9km\n",
       "9  AQUA_MODIS.20180301_20180331.L3m.MO.PAR.par.9km    \n",
       "10 AQUA_MODIS.20180401_20180430.L3m.MO.SST.sst.9km    \n",
       "11 AQUA_MODIS.20180401_20180430.L3m.MO.CHL.chlor_a.9km\n",
       "12 AQUA_MODIS.20180401_20180430.L3m.MO.PAR.par.9km    \n",
       "13 AQUA_MODIS.20180501_20180531.L3m.MO.SST.sst.9km    \n",
       "14 AQUA_MODIS.20180501_20180531.L3m.MO.CHL.chlor_a.9km\n",
       "15 AQUA_MODIS.20180501_20180531.L3m.MO.PAR.par.9km    \n",
       "16 AQUA_MODIS.20180601_20180630.L3m.MO.SST.sst.9km    \n",
       "17 AQUA_MODIS.20180601_20180630.L3m.MO.CHL.chlor_a.9km\n",
       "18 AQUA_MODIS.20180601_20180630.L3m.MO.PAR.par.9km    \n",
       "19 AQUA_MODIS.20180701_20180731.L3m.MO.SST.sst.9km    \n",
       "20 AQUA_MODIS.20180701_20180731.L3m.MO.CHL.chlor_a.9km\n",
       "21 AQUA_MODIS.20180701_20180731.L3m.MO.PAR.par.9km    \n",
       "22 AQUA_MODIS.20180801_20180831.L3m.MO.SST.sst.9km    \n",
       "23 AQUA_MODIS.20180801_20180831.L3m.MO.CHL.chlor_a.9km\n",
       "24 AQUA_MODIS.20180801_20180831.L3m.MO.PAR.par.9km    \n",
       "25 AQUA_MODIS.20180801.L3m.DAY.SST.sst.9km            \n",
       "26 AQUA_MODIS.20180802.L3m.DAY.SST.sst.9km            \n",
       "27 AQUA_MODIS.20180803.L3m.DAY.SST.sst.9km            \n",
       "28 AQUA_MODIS.20180804.L3m.DAY.SST.sst.9km            \n",
       "29 AQUA_MODIS.20180805.L3m.DAY.SST.sst.9km            \n",
       "30 AQUA_MODIS.20180806.L3m.DAY.SST.sst.9km            \n",
       "⋮  ⋮                                                  \n",
       "38 AQUA_MODIS.20180814.L3m.DAY.SST.sst.9km            \n",
       "39 AQUA_MODIS.20180815.L3m.DAY.SST.sst.9km            \n",
       "40 AQUA_MODIS.20180816.L3m.DAY.SST.sst.9km            \n",
       "41 AQUA_MODIS.20180817.L3m.DAY.SST.sst.9km            \n",
       "42 AQUA_MODIS.20180818.L3m.DAY.SST.sst.9km            \n",
       "43 AQUA_MODIS.20180819.L3m.DAY.SST.sst.9km            \n",
       "44 AQUA_MODIS.20180820.L3m.DAY.SST.sst.9km            \n",
       "45 AQUA_MODIS.20180821.L3m.DAY.SST.sst.9km            \n",
       "46 AQUA_MODIS.20180822.L3m.DAY.SST.sst.9km            \n",
       "47 AQUA_MODIS.20180823.L3m.DAY.SST.sst.9km            \n",
       "48 AQUA_MODIS.20180824.L3m.DAY.SST.sst.9km            \n",
       "49 AQUA_MODIS.20180825.L3m.DAY.SST.sst.9km            \n",
       "50 AQUA_MODIS.20180826.L3m.DAY.SST.sst.9km            \n",
       "51 AQUA_MODIS.20180827.L3m.DAY.SST.sst.9km            \n",
       "52 AQUA_MODIS.20180828.L3m.DAY.SST.sst.9km            \n",
       "53 AQUA_MODIS.20180829.L3m.DAY.SST.sst.9km            \n",
       "54 AQUA_MODIS.20180830.L3m.DAY.SST.sst.9km            \n",
       "55 AQUA_MODIS.20180831.L3m.DAY.SST.sst.9km            \n",
       "56 AQUA_MODIS.20180901_20180930.L3m.MO.SST.sst.9km    \n",
       "57 AQUA_MODIS.20180901_20180930.L3m.MO.CHL.chlor_a.9km\n",
       "58 AQUA_MODIS.20180901_20180930.L3m.MO.PAR.par.9km    \n",
       "59 AQUA_MODIS.20181001_20181031.L3m.MO.SST.sst.9km    \n",
       "60 AQUA_MODIS.20181001_20181031.L3m.MO.CHL.chlor_a.9km\n",
       "61 AQUA_MODIS.20181001_20181031.L3m.MO.PAR.par.9km    \n",
       "62 AQUA_MODIS.20181101_20181130.L3m.MO.SST.sst.9km    \n",
       "63 AQUA_MODIS.20181101_20181130.L3m.MO.CHL.chlor_a.9km\n",
       "64 AQUA_MODIS.20181101_20181130.L3m.MO.PAR.par.9km    \n",
       "65 AQUA_MODIS.20181201_20181231.L3m.MO.SST.sst.9km    \n",
       "66 AQUA_MODIS.20181201_20181231.L3m.MO.CHL.chlor_a.9km\n",
       "67 AQUA_MODIS.20181201_20181231.L3m.MO.PAR.par.9km    "
      ]
     },
     "metadata": {},
     "output_type": "display_data"
    }
   ],
   "source": [
    "path <- system.file(\"gom\", package = \"ohwobpg\")\n",
    "db <- read_database(path) %>%\n",
    "    dplyr::arrange(date)\n",
    "db"
   ]
  },
  {
   "cell_type": "markdown",
   "metadata": {},
   "source": [
    "We can do a quick summary by counting the records by period and parameter."
   ]
  },
  {
   "cell_type": "code",
   "execution_count": 9,
   "metadata": {
    "kernel": "R",
    "tags": [
     "report_cell"
    ]
   },
   "outputs": [
    {
     "data": {
      "text/html": [
       "<table>\n",
       "<caption>A spec_tbl_df: 4 × 3</caption>\n",
       "<thead>\n",
       "\t<tr><th scope=col>per</th><th scope=col>param</th><th scope=col>n</th></tr>\n",
       "\t<tr><th scope=col>&lt;chr&gt;</th><th scope=col>&lt;chr&gt;</th><th scope=col>&lt;int&gt;</th></tr>\n",
       "</thead>\n",
       "<tbody>\n",
       "\t<tr><td>DAY</td><td>sst    </td><td>31</td></tr>\n",
       "\t<tr><td>MO </td><td>chlor_a</td><td>12</td></tr>\n",
       "\t<tr><td>MO </td><td>par    </td><td>12</td></tr>\n",
       "\t<tr><td>MO </td><td>sst    </td><td>12</td></tr>\n",
       "</tbody>\n",
       "</table>\n"
      ],
      "text/latex": [
       "A spec\\_tbl\\_df: 4 × 3\n",
       "\\begin{tabular}{lll}\n",
       " per & param & n\\\\\n",
       " <chr> & <chr> & <int>\\\\\n",
       "\\hline\n",
       "\t DAY & sst     & 31\\\\\n",
       "\t MO  & chlor\\_a & 12\\\\\n",
       "\t MO  & par     & 12\\\\\n",
       "\t MO  & sst     & 12\\\\\n",
       "\\end{tabular}\n"
      ],
      "text/markdown": [
       "\n",
       "A spec_tbl_df: 4 × 3\n",
       "\n",
       "| per &lt;chr&gt; | param &lt;chr&gt; | n &lt;int&gt; |\n",
       "|---|---|---|\n",
       "| DAY | sst     | 31 |\n",
       "| MO  | chlor_a | 12 |\n",
       "| MO  | par     | 12 |\n",
       "| MO  | sst     | 12 |\n",
       "\n"
      ],
      "text/plain": [
       "  per param   n \n",
       "1 DAY sst     31\n",
       "2 MO  chlor_a 12\n",
       "3 MO  par     12\n",
       "4 MO  sst     12"
      ]
     },
     "metadata": {},
     "output_type": "display_data"
    }
   ],
   "source": [
    "db %>%                       # start with the database\n",
    "  dplyr::count(per, param)   # count instance first by period then by parameter"
   ]
  },
  {
   "cell_type": "markdown",
   "metadata": {},
   "source": [
    "> **Note** almost every function in R comes from a package - it can be hard to remember where each comes from.  To help jog one's memory it can be helpful to prepend the package name to the function - for instance, instead of writing `count(...)` note that we wrote `dplyr::count(...)`.  In this case, there is no difference between the two other than it is easy to recall to which package `count()` belongs."
   ]
  },
  {
   "cell_type": "markdown",
   "metadata": {},
   "source": [
    "## Using the database to select files to read"
   ]
  },
  {
   "cell_type": "markdown",
   "metadata": {},
   "source": [
    "The database can be easily filtered to chose just the images needed; for this task we continue leveraging the tools in the [dplyr](https://CRAN.R-project.org/package=dplyr) package.  Let's grab par monthly data between May and September of 2018. First we filter the database to a smaller subset, then convert it to a set of filenames, and finally load it into a raster stack."
   ]
  },
  {
   "cell_type": "code",
   "execution_count": 10,
   "metadata": {
    "kernel": "R",
    "tags": [
     "report_cell"
    ]
   },
   "outputs": [
    {
     "name": "stderr",
     "output_type": "stream",
     "text": [
      "Loading required package: sp\n",
      "\n",
      "\n",
      "Attaching package: ‘raster’\n",
      "\n",
      "\n",
      "The following object is masked from ‘package:dplyr’:\n",
      "\n",
      "    select\n",
      "\n",
      "\n"
     ]
    },
    {
     "data": {
      "text/html": [
       "<table>\n",
       "<caption>A spec_tbl_df: 4 × 11</caption>\n",
       "<thead>\n",
       "\t<tr><th scope=col>date</th><th scope=col>year</th><th scope=col>mmdd</th><th scope=col>mit</th><th scope=col>lvl</th><th scope=col>per</th><th scope=col>suite</th><th scope=col>param</th><th scope=col>res</th><th scope=col>nrt</th><th scope=col>file</th></tr>\n",
       "\t<tr><th scope=col>&lt;date&gt;</th><th scope=col>&lt;dbl&gt;</th><th scope=col>&lt;chr&gt;</th><th scope=col>&lt;chr&gt;</th><th scope=col>&lt;chr&gt;</th><th scope=col>&lt;chr&gt;</th><th scope=col>&lt;chr&gt;</th><th scope=col>&lt;chr&gt;</th><th scope=col>&lt;chr&gt;</th><th scope=col>&lt;lgl&gt;</th><th scope=col>&lt;chr&gt;</th></tr>\n",
       "</thead>\n",
       "<tbody>\n",
       "\t<tr><td>2018-06-01</td><td>2018</td><td>0601</td><td>AQUA_MODIS</td><td>L3m</td><td>MO</td><td>SST</td><td>sst</td><td>9km</td><td>NA</td><td>AQUA_MODIS.20180601_20180630.L3m.MO.SST.sst.9km</td></tr>\n",
       "\t<tr><td>2018-07-01</td><td>2018</td><td>0701</td><td>AQUA_MODIS</td><td>L3m</td><td>MO</td><td>SST</td><td>sst</td><td>9km</td><td>NA</td><td>AQUA_MODIS.20180701_20180731.L3m.MO.SST.sst.9km</td></tr>\n",
       "\t<tr><td>2018-08-01</td><td>2018</td><td>0801</td><td>AQUA_MODIS</td><td>L3m</td><td>MO</td><td>SST</td><td>sst</td><td>9km</td><td>NA</td><td>AQUA_MODIS.20180801_20180831.L3m.MO.SST.sst.9km</td></tr>\n",
       "\t<tr><td>2018-09-01</td><td>2018</td><td>0901</td><td>AQUA_MODIS</td><td>L3m</td><td>MO</td><td>SST</td><td>sst</td><td>9km</td><td>NA</td><td>AQUA_MODIS.20180901_20180930.L3m.MO.SST.sst.9km</td></tr>\n",
       "</tbody>\n",
       "</table>\n"
      ],
      "text/latex": [
       "A spec\\_tbl\\_df: 4 × 11\n",
       "\\begin{tabular}{lllllllllll}\n",
       " date & year & mmdd & mit & lvl & per & suite & param & res & nrt & file\\\\\n",
       " <date> & <dbl> & <chr> & <chr> & <chr> & <chr> & <chr> & <chr> & <chr> & <lgl> & <chr>\\\\\n",
       "\\hline\n",
       "\t 2018-06-01 & 2018 & 0601 & AQUA\\_MODIS & L3m & MO & SST & sst & 9km & NA & AQUA\\_MODIS.20180601\\_20180630.L3m.MO.SST.sst.9km\\\\\n",
       "\t 2018-07-01 & 2018 & 0701 & AQUA\\_MODIS & L3m & MO & SST & sst & 9km & NA & AQUA\\_MODIS.20180701\\_20180731.L3m.MO.SST.sst.9km\\\\\n",
       "\t 2018-08-01 & 2018 & 0801 & AQUA\\_MODIS & L3m & MO & SST & sst & 9km & NA & AQUA\\_MODIS.20180801\\_20180831.L3m.MO.SST.sst.9km\\\\\n",
       "\t 2018-09-01 & 2018 & 0901 & AQUA\\_MODIS & L3m & MO & SST & sst & 9km & NA & AQUA\\_MODIS.20180901\\_20180930.L3m.MO.SST.sst.9km\\\\\n",
       "\\end{tabular}\n"
      ],
      "text/markdown": [
       "\n",
       "A spec_tbl_df: 4 × 11\n",
       "\n",
       "| date &lt;date&gt; | year &lt;dbl&gt; | mmdd &lt;chr&gt; | mit &lt;chr&gt; | lvl &lt;chr&gt; | per &lt;chr&gt; | suite &lt;chr&gt; | param &lt;chr&gt; | res &lt;chr&gt; | nrt &lt;lgl&gt; | file &lt;chr&gt; |\n",
       "|---|---|---|---|---|---|---|---|---|---|---|\n",
       "| 2018-06-01 | 2018 | 0601 | AQUA_MODIS | L3m | MO | SST | sst | 9km | NA | AQUA_MODIS.20180601_20180630.L3m.MO.SST.sst.9km |\n",
       "| 2018-07-01 | 2018 | 0701 | AQUA_MODIS | L3m | MO | SST | sst | 9km | NA | AQUA_MODIS.20180701_20180731.L3m.MO.SST.sst.9km |\n",
       "| 2018-08-01 | 2018 | 0801 | AQUA_MODIS | L3m | MO | SST | sst | 9km | NA | AQUA_MODIS.20180801_20180831.L3m.MO.SST.sst.9km |\n",
       "| 2018-09-01 | 2018 | 0901 | AQUA_MODIS | L3m | MO | SST | sst | 9km | NA | AQUA_MODIS.20180901_20180930.L3m.MO.SST.sst.9km |\n",
       "\n"
      ],
      "text/plain": [
       "  date       year mmdd mit        lvl per suite param res nrt\n",
       "1 2018-06-01 2018 0601 AQUA_MODIS L3m MO  SST   sst   9km NA \n",
       "2 2018-07-01 2018 0701 AQUA_MODIS L3m MO  SST   sst   9km NA \n",
       "3 2018-08-01 2018 0801 AQUA_MODIS L3m MO  SST   sst   9km NA \n",
       "4 2018-09-01 2018 0901 AQUA_MODIS L3m MO  SST   sst   9km NA \n",
       "  file                                           \n",
       "1 AQUA_MODIS.20180601_20180630.L3m.MO.SST.sst.9km\n",
       "2 AQUA_MODIS.20180701_20180731.L3m.MO.SST.sst.9km\n",
       "3 AQUA_MODIS.20180801_20180831.L3m.MO.SST.sst.9km\n",
       "4 AQUA_MODIS.20180901_20180930.L3m.MO.SST.sst.9km"
      ]
     },
     "metadata": {},
     "output_type": "display_data"
    }
   ],
   "source": [
    "library(raster, warn.conflicts = FALSE)\n",
    "\n",
    "par_db <- db %>%\n",
    "  dplyr::filter(param == \"sst\" &\n",
    "                per == \"MO\" &\n",
    "                dplyr::between(date, as.Date(\"2018-05-15\"), as.Date(\"2018-09-26\")))\n",
    "par_db"
   ]
  },
  {
   "cell_type": "markdown",
   "metadata": {},
   "source": [
    "Using the filtered database we then read in a subset of records into a raster stack of images.  By default each layer's name is assigned the filename from which it came, but that can make for really names.  We know that each layer is one month, so we will assign each a new name: \"Jun\", \"Jul\", \"Aug\", \"Sep\".  You can lean more about formatting dates here `?strftime`. The are many [raster tutorials](https://rseek.org/?q=raster+tutorial) available and a handy [cheatsheet](https://rpubs.com/etiennebr/visualraster)."
   ]
  },
  {
   "cell_type": "code",
   "execution_count": 11,
   "metadata": {
    "kernel": "R",
    "tags": [
     "report_cell"
    ]
   },
   "outputs": [
    {
     "data": {
      "text/plain": [
       "class      : RasterStack \n",
       "dimensions : 86, 110, 9460, 4  (nrow, ncol, ncell, nlayers)\n",
       "resolution : 0.08333323, 0.08333309  (x, y)\n",
       "extent     : -72.08333, -62.91667, 38.91668, 46.08332  (xmin, xmax, ymin, ymax)\n",
       "crs        : +proj=longlat +datum=WGS84 +no_defs \n",
       "names      :    Jun,    Jul,    Aug,    Sep \n",
       "min values :  5.945, 10.140, 12.525, 12.950 \n",
       "max values : 27.505, 29.780, 30.230, 30.150 \n"
      ]
     },
     "metadata": {},
     "output_type": "display_data"
    }
   ],
   "source": [
    "par <- par_db %>%                # start with the subset database\n",
    "  as_filename(path = path) %>%   # build filenames and append to the path\n",
    "  raster::stack()                # read them into a stack of images\n",
    "\n",
    "names(par) <- format(par_db$date, \"%b\")\n",
    "\n",
    "par"
   ]
  },
  {
   "cell_type": "markdown",
   "metadata": {},
   "source": [
    "## Drawing rasters"
   ]
  },
  {
   "cell_type": "markdown",
   "metadata": {},
   "source": [
    "There are lots of ways to draw a raster.  We show three simple ones in a [brief tutorial](https://github.com/BigelowLab/ohwobpg/blob/master/inst/tutorials/plotting_rasters.Rmd).\n",
    "\n",
    "> **Note** If you [clone](https://github.com/git-guides/git-clone) the package to your lcoal computer you can easily view these tutorials from within an RStudio session."
   ]
  },
  {
   "cell_type": "markdown",
   "metadata": {},
   "source": [
    "## Extracting data from a stack of rasters"
   ]
  },
  {
   "cell_type": "markdown",
   "metadata": {},
   "source": [
    "Extracting from a stack at a point, a patch of points, or a polygon is very staright forward. See this [tutorial for an example](https://github.com/BigelowLab/ohwobpg/blob/master/inst/tutorials/extracting_rasters.Rmd)."
   ]
  },
  {
   "cell_type": "markdown",
   "metadata": {},
   "source": [
    "## Deriving new rasters - raster math!"
   ]
  },
  {
   "cell_type": "markdown",
   "metadata": {},
   "source": [
    "Creating a derived stack is easy with raster math - see this [page for an example](https://github.com/BigelowLab/ohwobpg/blob/master/inst/tutorials/deriving_rasters.Rmd)."
   ]
  }
 ],
 "metadata": {
  "Rmd_chunk_options": {
   "author": "btupper",
   "date": "8/5/2020",
   "output": "html_document",
   "title": "08-Intro-to-OBPG"
  },
  "kernelspec": {
   "display_name": "R",
   "language": "R",
   "name": "ir"
  },
  "language_info": {
   "codemirror_mode": "r",
   "file_extension": ".r",
   "mimetype": "text/x-r-source",
   "name": "R",
   "pygments_lexer": "r",
   "version": "3.6.3"
  },
  "sos": {
   "kernels": [
    [
     "SoS",
     "sos",
     "",
     ""
    ],
    [
     "R",
     "ir",
     "",
     ""
    ],
    [
     "Markdown",
     "markdown",
     "",
     ""
    ]
   ]
  }
 },
 "nbformat": 4,
 "nbformat_minor": 4
}
