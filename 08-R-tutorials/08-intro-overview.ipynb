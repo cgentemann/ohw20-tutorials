{
 "cells": [
  {
   "attachments": {},
   "cell_type": "markdown",
   "metadata": {},
   "source": [
    "# Introductory overview\n",
    "\n",
    "## Muddling through the [IDEs](https://en.wikipedia.org/wiki/Integrated_development_environment)\n",
    "\n",
    "**R** vs **RStudio** vs **R.app** vs **RGui** vs **ESS** vs **Jupyter** vs **Argh**!\n",
    "\n",
    "![R-IDE](R-IDE.png)\n",
    "\n",
    "\n",
    "## What about [OBPG](https://oceancolor.gsfc.nasa.gov/)\n",
    "\n",
    "The best part is the the very responsive and helpful [staff](https://oceancolor.gsfc.nasa.gov/staff/).\n",
    "\n",
    "![intro-ohwobpg](intro-ohwobpg.png)\n",
    "\n",
    "\n",
    "## What about species data?\n",
    "\n",
    "There are many online resources for species observation data - too many to list.  But here is a [good starting point](https://github.com/ropensci/spocc) if you are working in R."
   ]
  },
  {
   "cell_type": "code",
   "execution_count": null,
   "metadata": {},
   "outputs": [],
   "source": []
  }
 ],
 "metadata": {
  "kernelspec": {
   "display_name": "R",
   "language": "R",
   "name": "ir"
  },
  "language_info": {
   "codemirror_mode": "r",
   "file_extension": ".r",
   "mimetype": "text/x-r-source",
   "name": "R",
   "pygments_lexer": "r",
   "version": "3.6.3"
  }
 },
 "nbformat": 4,
 "nbformat_minor": 4
}
