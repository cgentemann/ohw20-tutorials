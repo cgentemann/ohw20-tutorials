{
 "cells": [
  {
   "cell_type": "markdown",
   "metadata": {},
   "source": [
    "# R OBIS\n",
    "\n",
    "This notebook was adapted from [a manual on robis](https://obis.org/manual/accessr/) on the [obis](obis.org) site. Some of the mapping functions weren't working properly, so we've put in some simple ggplot mapping and plotting examples.\n",
    "\n",
    "## Loading robis\n",
    "\n",
    "Installing the robis packages requires devtools. Use the following (this code won't run within the notebook.)"
   ]
  },
  {
   "cell_type": "code",
   "execution_count": 1,
   "metadata": {},
   "outputs": [],
   "source": [
    "installed <- rownames(installed.packages())\n",
    "if ( !(\"robis\" %in% installed) ){\n",
    "   if ( !(\"remotes\" %in% installed) )install.packages(\"remotes\")\n",
    "   remotes::install_github(\"iobis/robis\")\n",
    "}"
   ]
  },
  {
   "cell_type": "markdown",
   "metadata": {},
   "source": [
    "Once installed, load the robis package."
   ]
  },
  {
   "cell_type": "code",
   "execution_count": 3,
   "metadata": {},
   "outputs": [],
   "source": [
    "library(robis)"
   ]
  },
  {
   "cell_type": "markdown",
   "metadata": {},
   "source": [
    "## Fetching occurences\n",
    "\n",
    "OBIS contains global location data for marine taxa. \n",
    "\n",
    "To fetch all occurrences for a taxon, pass a taxon name or vector of taxon names to the occurrence() function. The names() function will give a list of the column names, so you know what data is included. You can see that there is quite a lot of information for each sample."
   ]
  },
  {
   "cell_type": "code",
   "execution_count": null,
   "metadata": {},
   "outputs": [],
   "source": [
    "E.glacialis <- occurrence(\"Eubalaena glacialis\")\n",
    "names(E.glacialis)"
   ]
  },
  {
   "cell_type": "markdown",
   "metadata": {},
   "source": [
    "## Mapping the data example\n",
    "\n",
    "We'll use ggplot to show an example of plotting the data. You'll need the following packages."
   ]
  },
  {
   "cell_type": "code",
   "execution_count": 1,
   "metadata": {},
   "outputs": [],
   "source": [
    "library('ggplot2')\n",
    "library(\"rnaturalearth\")\n",
    "library(\"rnaturalearthdata\")"
   ]
  },
  {
   "cell_type": "markdown",
   "metadata": {},
   "source": [
    "The ggplot package has a lot of plotting and mapping functionality. More introductory examples can be found [here](https://www.r-spatial.org/r/2018/10/25/ggplot2-sf.html).\n",
    "\n",
    "For this example, first we put the latitude and longitude coordinates of the species sightings into a data frame called 'sites':"
   ]
  },
  {
   "cell_type": "code",
   "execution_count": 5,
   "metadata": {},
   "outputs": [],
   "source": [
    "sites <- data.frame(longitude = E.glacialis$decimalLongitude, \n",
    "                    latitude = E.glacialis$decimalLatitude)"
   ]
  },
  {
   "cell_type": "markdown",
   "metadata": {},
   "source": [
    "Then we load the mapping data to use in ggplot and run the plotting function"
   ]
  },
  {
   "cell_type": "code",
   "execution_count": null,
   "metadata": {},
   "outputs": [],
   "source": [
    "world <- ne_countries(scale = \"medium\", returnclass = \"sf\")\n",
    "ggplot(data = world) +\n",
    "    geom_sf() +\n",
    "    geom_point(data = sites, aes(x = longitude, y = latitude)) +\n",
    "    coord_sf(xlim = c(-90, -50), ylim = c(24, 51), expand = FALSE)"
   ]
  },
  {
   "cell_type": "markdown",
   "metadata": {},
   "source": [
    "**Note**: there is a leafletMap function in the robis package. It's currently not working, but when working provides some nice mapping functionality."
   ]
  },
  {
   "cell_type": "markdown",
   "metadata": {},
   "source": [
    "## More fetching options with the occurrence() function\n",
    "\n",
    "### Polygon filter\n",
    "\n",
    "You can pull all records within a polygon using the same occurrence function. In this example, we pull the data from Casco Bay and make a stacked bar graph of all of the animal phyla recorded since the year 2000."
   ]
  },
  {
   "cell_type": "code",
   "execution_count": null,
   "metadata": {},
   "outputs": [],
   "source": [
    "CascoBay <- occurrence(geometry = \"POLYGON ((-70.2 43.5, -69.8 43.5, -69.8 43.9, -70.2 43.9, -70.2 43.5)) \")\n",
    "ggplot() +\n",
    " geom_histogram(\n",
    "   data = CascoBay[(CascoBay$year>2000 & CascoBay$kingdom==\"Animalia\"),], \n",
    "   aes(x = year, fill = phylum), binwidth = 5, stat=\"count\") +\n",
    "   scale_fill_brewer(palette = \"Paired\")"
   ]
  },
  {
   "cell_type": "markdown",
   "metadata": {},
   "source": [
    "There are too many phyla to plot on this graph, so lets drill down taxonomically to class within Chordata, and then to species within Elasmobrancchi (sharks)."
   ]
  },
  {
   "cell_type": "code",
   "execution_count": null,
   "metadata": {},
   "outputs": [],
   "source": [
    "ggplot() +\n",
    " geom_histogram(\n",
    "   data = CascoBay[(CascoBay$year>2000 & CascoBay$phylum==\"Chordata\"),], \n",
    "   aes(x = year, fill = class), binwidth = 5, stat=\"count\") +\n",
    "   scale_fill_brewer(palette = \"Paired\")\n",
    "ggplot() +\n",
    " geom_histogram(\n",
    "   data = CascoBay[(CascoBay$year>2000 & CascoBay$class==\"Elasmobranchii\"),], \n",
    "   aes(x = year, fill = species), binwidth = 5, stat=\"count\") +\n",
    "   scale_fill_brewer(palette = \"Paired\")"
   ]
  },
  {
   "cell_type": "markdown",
   "metadata": {},
   "source": [
    "### Applying a depth filter\n",
    "\n",
    "Occurrences between certain depth levels can be selected by using the startdepth and enddepth parameters. For example, to find shallow records of the Orange roughy (a deep sea fish which is being commercially exploited), do:"
   ]
  },
  {
   "cell_type": "code",
   "execution_count": null,
   "metadata": {},
   "outputs": [],
   "source": [
    "H.atlanticus <- occurrence(\"Hoplostethus atlanticus\", enddepth = 400)\n",
    "HAsites <- data.frame(longitude = H.atlanticus$decimalLongitude,\n",
    "                      latitude=H.atlanticus$decimalLatitude)\n",
    "ggplot(data = world) +\n",
    "    geom_sf() +\n",
    "    geom_point(data = HAsites, aes(x = longitude, y = latitude), colour='blue')\n"
   ]
  },
  {
   "cell_type": "markdown",
   "metadata": {},
   "source": [
    "### Applying a date filter\n",
    "\n",
    "To filter occurrences by date, use the startdate and enddate arguments. Make sure to use the correct date format:\n"
   ]
  },
  {
   "cell_type": "code",
   "execution_count": null,
   "metadata": {},
   "outputs": [],
   "source": [
    "P.volitans <- occurrence(\"Pterois volitans\", enddate = \"1980-01-01\")\n",
    "PVsites <- data.frame(longitude = P.volitans$decimalLongitude,\n",
    "                      latitude=P.volitans$decimalLatitude)\n",
    "ggplot(data = world) +\n",
    "    geom_sf() +\n",
    "    geom_point(data = PVsites, aes(x = longitude, y = latitude), colour='blue')\n"
   ]
  },
  {
   "cell_type": "code",
   "execution_count": null,
   "metadata": {},
   "outputs": [],
   "source": []
  }
 ],
 "metadata": {
  "kernelspec": {
   "display_name": "R",
   "language": "R",
   "name": "ir"
  },
  "language_info": {
   "codemirror_mode": "r",
   "file_extension": ".r",
   "mimetype": "text/x-r-source",
   "name": "R",
   "pygments_lexer": "r",
   "version": "3.6.3"
  }
 },
 "nbformat": 4,
 "nbformat_minor": 4
}
