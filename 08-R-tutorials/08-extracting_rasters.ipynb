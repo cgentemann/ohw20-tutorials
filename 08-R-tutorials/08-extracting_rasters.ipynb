{
 "cells": [
  {
   "cell_type": "markdown",
   "metadata": {},
   "source": [
    "## Install and load packages"
   ]
  },
  {
   "cell_type": "code",
   "execution_count": 3,
   "metadata": {
    "Rmd_chunk_options": "load_libraries, message=FALSE",
    "kernel": "R",
    "tags": [
     "report_cell"
    ]
   },
   "outputs": [],
   "source": [
    "# Load libraries\n",
    "library(tidyverse, warn.conflicts = FALSE)\n",
    "library(raster, warn.conflicts = FALSE)\n",
    "library(ggplot2, warn.conflicts = FALSE)\n",
    "library(leaflet, warn.conflicts = FALSE)\n",
    "library(dplyr, warn.conflicts = FALSE)\n",
    "library(remotes, warn.conflicts = FALSE)\n",
    "library(lubridate, warn.conflicts = FALSE)\n",
    "\n",
    "# we only need to install these packages if you don't have them already\n",
    "# rgdal is used to support geospatial data I/O\n",
    "installed_packages_names <- rownames(installed.packages())\n",
    "if (!\"ohwobpg\" %in% installed_packages_names) remotes::install_github(\"BigelowLab/ohwobpg\", force = TRUE, quiet = TRUE)\n",
    "if (!\"rgdal\" %in% installed_packages_names) install.packages(\"rgdal\")\n",
    "\n",
    "# Load ohwobpg package\n",
    "library(ohwobpg)"
   ]
  },
  {
   "cell_type": "markdown",
   "metadata": {},
   "source": [
    "## Initialize raster for visualization"
   ]
  },
  {
   "cell_type": "markdown",
   "metadata": {},
   "source": [
    "Once the necessary packages are loaded, we will start by creating a raster object from a pre-loaded ohwobpg database.  Specifically, we will be creating a raster object of sea surface temperature (SST) data for 2018."
   ]
  },
  {
   "cell_type": "code",
   "execution_count": 18,
   "metadata": {
    "Rmd_chunk_options": "init_raster, message=FALSE, warning=FALSE",
    "kernel": "R",
    "tags": [
     "report_cell"
    ]
   },
   "outputs": [
    {
     "data": {
      "text/plain": [
       "class      : RasterStack \n",
       "dimensions : 86, 110, 9460, 4  (nrow, ncol, ncell, nlayers)\n",
       "resolution : 0.08333323, 0.08333309  (x, y)\n",
       "extent     : -72.08333, -62.91667, 38.91668, 46.08332  (xmin, xmax, ymin, ymax)\n",
       "crs        : +proj=longlat +datum=WGS84 +no_defs \n",
       "names      :    Jun,    Jul,    Aug,    Sep \n",
       "min values :  5.945, 10.140, 12.525, 12.950 \n",
       "max values : 27.505, 29.780, 30.230, 30.150 \n"
      ]
     },
     "metadata": {},
     "output_type": "display_data"
    }
   ],
   "source": [
    "# Load database\n",
    "path <- system.file(\"gom\", package = \"ohwobpg\")\n",
    "db <- read_database(path)\n",
    "\n",
    "# Subset database\n",
    "par_db <- db %>%\n",
    "  dplyr::filter(param == \"sst\" &\n",
    "                per == \"MO\" &\n",
    "                dplyr::between(date, as.Date(\"2018-05-15\"), as.Date(\"2018-09-26\")))\n",
    "\n",
    "# Create raster stack\n",
    "sat <- par_db %>%                # start with the subset database\n",
    "  as_filename(path = path) %>%   # build filenames and append to the path\n",
    "  raster::stack()                # read them into a stack of images\n",
    "\n",
    "# Name layers\n",
    "names(sat) <- format(par_db$date, \"%b\")\n",
    "sat"
   ]
  },
  {
   "cell_type": "code",
   "execution_count": 30,
   "metadata": {
    "Rmd_chunk_options": "init_raster, message=FALSE, warning=FALSE",
    "kernel": "R",
    "tags": [
     "report_cell"
    ]
   },
   "outputs": [
    {
     "data": {
      "text/html": [
       "<table>\n",
       "<caption>A spec_tbl_df: 5808 × 5</caption>\n",
       "<thead>\n",
       "\t<tr><th scope=col>Time[GMT]</th><th scope=col>temperature[C](1m)</th><th scope=col>salinity[psu](1m)</th><th scope=col>sigma_t[kg/m^3](1m)</th><th scope=col>conductivity[msiemens/cm](1m)</th></tr>\n",
       "\t<tr><th scope=col>&lt;dttm&gt;</th><th scope=col>&lt;dbl&gt;</th><th scope=col>&lt;dbl&gt;</th><th scope=col>&lt;dbl&gt;</th><th scope=col>&lt;dbl&gt;</th></tr>\n",
       "</thead>\n",
       "<tbody>\n",
       "\t<tr><td>2018-06-01 00:00:00</td><td>9.31</td><td>31.927</td><td>24.665</td><td>34.467</td></tr>\n",
       "\t<tr><td>2018-06-01 00:30:00</td><td>9.31</td><td>31.926</td><td>24.664</td><td>34.466</td></tr>\n",
       "\t<tr><td>2018-06-01 01:00:00</td><td>9.26</td><td>31.940</td><td>24.682</td><td>34.436</td></tr>\n",
       "\t<tr><td>2018-06-01 01:30:00</td><td>8.90</td><td>31.970</td><td>24.762</td><td>34.153</td></tr>\n",
       "\t<tr><td>2018-06-01 02:00:00</td><td>8.79</td><td>31.954</td><td>24.766</td><td>34.042</td></tr>\n",
       "\t<tr><td>2018-06-01 02:30:00</td><td>8.81</td><td>31.948</td><td>24.759</td><td>34.054</td></tr>\n",
       "\t<tr><td>2018-06-01 03:00:00</td><td>8.87</td><td>31.946</td><td>24.748</td><td>34.104</td></tr>\n",
       "\t<tr><td>2018-06-01 03:30:00</td><td>8.87</td><td>31.951</td><td>24.752</td><td>34.109</td></tr>\n",
       "\t<tr><td>2018-06-01 04:00:00</td><td>8.82</td><td>31.949</td><td>24.758</td><td>34.064</td></tr>\n",
       "\t<tr><td>2018-06-01 04:30:00</td><td>8.89</td><td>31.955</td><td>24.752</td><td>34.130</td></tr>\n",
       "\t<tr><td>2018-06-01 05:00:00</td><td>8.92</td><td>31.947</td><td>24.741</td><td>34.148</td></tr>\n",
       "\t<tr><td>2018-06-01 05:30:00</td><td>8.88</td><td>31.944</td><td>24.745</td><td>34.111</td></tr>\n",
       "\t<tr><td>2018-06-01 06:00:00</td><td>8.78</td><td>31.938</td><td>24.755</td><td>34.018</td></tr>\n",
       "\t<tr><td>2018-06-01 06:30:00</td><td>8.76</td><td>31.939</td><td>24.759</td><td>34.002</td></tr>\n",
       "\t<tr><td>2018-06-01 07:00:00</td><td>8.73</td><td>31.936</td><td>24.761</td><td>33.973</td></tr>\n",
       "\t<tr><td>2018-06-01 07:30:00</td><td>8.67</td><td>31.941</td><td>24.774</td><td>33.926</td></tr>\n",
       "\t<tr><td>2018-06-01 08:00:00</td><td>8.61</td><td>31.941</td><td>24.783</td><td>33.874</td></tr>\n",
       "\t<tr><td>2018-06-01 08:30:00</td><td>8.62</td><td>31.943</td><td>24.783</td><td>33.885</td></tr>\n",
       "\t<tr><td>2018-06-01 09:00:00</td><td>8.44</td><td>31.917</td><td>24.790</td><td>33.705</td></tr>\n",
       "\t<tr><td>2018-06-01 09:30:00</td><td>8.50</td><td>31.950</td><td>24.807</td><td>33.788</td></tr>\n",
       "\t<tr><td>2018-06-01 10:00:00</td><td>8.55</td><td>31.919</td><td>24.775</td><td>33.801</td></tr>\n",
       "\t<tr><td>2018-06-01 10:30:00</td><td>8.40</td><td>32.000</td><td>24.861</td><td>33.749</td></tr>\n",
       "\t<tr><td>2018-06-01 11:00:00</td><td>8.39</td><td>31.925</td><td>24.803</td><td>33.669</td></tr>\n",
       "\t<tr><td>2018-06-01 11:30:00</td><td>8.45</td><td>31.982</td><td>24.839</td><td>33.775</td></tr>\n",
       "\t<tr><td>2018-06-01 12:00:00</td><td>8.69</td><td>31.943</td><td>24.772</td><td>33.945</td></tr>\n",
       "\t<tr><td>2018-06-01 12:30:00</td><td>8.58</td><td>31.944</td><td>24.790</td><td>33.851</td></tr>\n",
       "\t<tr><td>2018-06-01 13:00:00</td><td>8.65</td><td>31.958</td><td>24.790</td><td>33.925</td></tr>\n",
       "\t<tr><td>2018-06-01 13:30:00</td><td>8.87</td><td>31.929</td><td>24.735</td><td>34.088</td></tr>\n",
       "\t<tr><td>2018-06-01 14:00:00</td><td>8.94</td><td>31.950</td><td>24.740</td><td>34.168</td></tr>\n",
       "\t<tr><td>2018-06-01 14:30:00</td><td>9.10</td><td>31.948</td><td>24.714</td><td>34.305</td></tr>\n",
       "\t<tr><td>⋮</td><td>⋮</td><td>⋮</td><td>⋮</td><td>⋮</td></tr>\n",
       "\t<tr><td>2018-09-30 09:00:00</td><td>13.21</td><td>32.952</td><td>24.765</td><td>39.000</td></tr>\n",
       "\t<tr><td>2018-09-30 09:30:00</td><td>13.15</td><td>32.953</td><td>24.778</td><td>38.946</td></tr>\n",
       "\t<tr><td>2018-09-30 10:00:00</td><td>13.14</td><td>32.926</td><td>24.759</td><td>38.908</td></tr>\n",
       "\t<tr><td>2018-09-30 10:30:00</td><td>13.04</td><td>32.901</td><td>24.760</td><td>38.790</td></tr>\n",
       "\t<tr><td>2018-09-30 11:00:00</td><td>13.04</td><td>32.892</td><td>24.753</td><td>38.780</td></tr>\n",
       "\t<tr><td>2018-09-30 11:30:00</td><td>13.21</td><td>32.931</td><td>24.749</td><td>38.978</td></tr>\n",
       "\t<tr><td>2018-09-30 12:00:00</td><td>13.44</td><td>32.985</td><td>24.745</td><td>39.248</td></tr>\n",
       "\t<tr><td>2018-09-30 12:30:00</td><td>13.49</td><td>33.007</td><td>24.752</td><td>39.317</td></tr>\n",
       "\t<tr><td>2018-09-30 13:00:00</td><td>13.60</td><td>33.012</td><td>24.734</td><td>39.425</td></tr>\n",
       "\t<tr><td>2018-09-30 13:30:00</td><td>13.67</td><td>33.037</td><td>24.739</td><td>39.516</td></tr>\n",
       "\t<tr><td>2018-09-30 14:00:00</td><td>13.72</td><td>33.014</td><td>24.711</td><td>39.538</td></tr>\n",
       "\t<tr><td>2018-09-30 14:30:00</td><td>14.04</td><td>33.084</td><td>24.699</td><td>39.910</td></tr>\n",
       "\t<tr><td>2018-09-30 15:00:00</td><td>14.10</td><td>33.101</td><td>24.700</td><td>39.984</td></tr>\n",
       "\t<tr><td>2018-09-30 15:30:00</td><td>14.17</td><td>33.042</td><td>24.639</td><td>39.985</td></tr>\n",
       "\t<tr><td>2018-09-30 16:00:00</td><td>14.24</td><td>33.093</td><td>24.664</td><td>40.106</td></tr>\n",
       "\t<tr><td>2018-09-30 16:30:00</td><td>14.11</td><td>33.110</td><td>24.704</td><td>40.003</td></tr>\n",
       "\t<tr><td>2018-09-30 17:00:00</td><td>14.24</td><td>33.097</td><td>24.667</td><td>40.110</td></tr>\n",
       "\t<tr><td>2018-09-30 17:30:00</td><td>14.24</td><td>33.063</td><td>24.641</td><td>40.073</td></tr>\n",
       "\t<tr><td>2018-09-30 18:00:00</td><td>14.38</td><td>33.065</td><td>24.614</td><td>40.206</td></tr>\n",
       "\t<tr><td>2018-09-30 18:30:00</td><td>14.32</td><td>33.103</td><td>24.655</td><td>40.191</td></tr>\n",
       "\t<tr><td>2018-09-30 19:00:00</td><td>14.31</td><td>33.105</td><td>24.659</td><td>40.184</td></tr>\n",
       "\t<tr><td>2018-09-30 19:30:00</td><td>14.25</td><td>33.093</td><td>24.662</td><td>40.115</td></tr>\n",
       "\t<tr><td>2018-09-30 20:00:00</td><td>14.32</td><td>33.090</td><td>24.645</td><td>40.177</td></tr>\n",
       "\t<tr><td>2018-09-30 20:30:00</td><td>14.14</td><td>33.093</td><td>24.685</td><td>40.013</td></tr>\n",
       "\t<tr><td>2018-09-30 21:00:00</td><td>14.11</td><td>33.093</td><td>24.692</td><td>39.985</td></tr>\n",
       "\t<tr><td>2018-09-30 21:30:00</td><td>14.18</td><td>33.090</td><td>24.675</td><td>40.047</td></tr>\n",
       "\t<tr><td>2018-09-30 22:00:00</td><td>14.21</td><td>33.081</td><td>24.661</td><td>40.065</td></tr>\n",
       "\t<tr><td>2018-09-30 22:30:00</td><td>14.09</td><td>33.075</td><td>24.682</td><td>39.947</td></tr>\n",
       "\t<tr><td>2018-09-30 23:00:00</td><td>14.07</td><td>33.066</td><td>24.679</td><td>39.919</td></tr>\n",
       "\t<tr><td>2018-09-30 23:30:00</td><td>14.03</td><td>33.065</td><td>24.686</td><td>39.880</td></tr>\n",
       "</tbody>\n",
       "</table>\n"
      ],
      "text/latex": [
       "A spec\\_tbl\\_df: 5808 × 5\n",
       "\\begin{tabular}{lllll}\n",
       " Time{[}GMT{]} & temperature{[}C{]}(1m) & salinity{[}psu{]}(1m) & sigma\\_t{[}kg/m\\textasciicircum{}3{]}(1m) & conductivity{[}msiemens/cm{]}(1m)\\\\\n",
       " <dttm> & <dbl> & <dbl> & <dbl> & <dbl>\\\\\n",
       "\\hline\n",
       "\t 2018-06-01 00:00:00 & 9.31 & 31.927 & 24.665 & 34.467\\\\\n",
       "\t 2018-06-01 00:30:00 & 9.31 & 31.926 & 24.664 & 34.466\\\\\n",
       "\t 2018-06-01 01:00:00 & 9.26 & 31.940 & 24.682 & 34.436\\\\\n",
       "\t 2018-06-01 01:30:00 & 8.90 & 31.970 & 24.762 & 34.153\\\\\n",
       "\t 2018-06-01 02:00:00 & 8.79 & 31.954 & 24.766 & 34.042\\\\\n",
       "\t 2018-06-01 02:30:00 & 8.81 & 31.948 & 24.759 & 34.054\\\\\n",
       "\t 2018-06-01 03:00:00 & 8.87 & 31.946 & 24.748 & 34.104\\\\\n",
       "\t 2018-06-01 03:30:00 & 8.87 & 31.951 & 24.752 & 34.109\\\\\n",
       "\t 2018-06-01 04:00:00 & 8.82 & 31.949 & 24.758 & 34.064\\\\\n",
       "\t 2018-06-01 04:30:00 & 8.89 & 31.955 & 24.752 & 34.130\\\\\n",
       "\t 2018-06-01 05:00:00 & 8.92 & 31.947 & 24.741 & 34.148\\\\\n",
       "\t 2018-06-01 05:30:00 & 8.88 & 31.944 & 24.745 & 34.111\\\\\n",
       "\t 2018-06-01 06:00:00 & 8.78 & 31.938 & 24.755 & 34.018\\\\\n",
       "\t 2018-06-01 06:30:00 & 8.76 & 31.939 & 24.759 & 34.002\\\\\n",
       "\t 2018-06-01 07:00:00 & 8.73 & 31.936 & 24.761 & 33.973\\\\\n",
       "\t 2018-06-01 07:30:00 & 8.67 & 31.941 & 24.774 & 33.926\\\\\n",
       "\t 2018-06-01 08:00:00 & 8.61 & 31.941 & 24.783 & 33.874\\\\\n",
       "\t 2018-06-01 08:30:00 & 8.62 & 31.943 & 24.783 & 33.885\\\\\n",
       "\t 2018-06-01 09:00:00 & 8.44 & 31.917 & 24.790 & 33.705\\\\\n",
       "\t 2018-06-01 09:30:00 & 8.50 & 31.950 & 24.807 & 33.788\\\\\n",
       "\t 2018-06-01 10:00:00 & 8.55 & 31.919 & 24.775 & 33.801\\\\\n",
       "\t 2018-06-01 10:30:00 & 8.40 & 32.000 & 24.861 & 33.749\\\\\n",
       "\t 2018-06-01 11:00:00 & 8.39 & 31.925 & 24.803 & 33.669\\\\\n",
       "\t 2018-06-01 11:30:00 & 8.45 & 31.982 & 24.839 & 33.775\\\\\n",
       "\t 2018-06-01 12:00:00 & 8.69 & 31.943 & 24.772 & 33.945\\\\\n",
       "\t 2018-06-01 12:30:00 & 8.58 & 31.944 & 24.790 & 33.851\\\\\n",
       "\t 2018-06-01 13:00:00 & 8.65 & 31.958 & 24.790 & 33.925\\\\\n",
       "\t 2018-06-01 13:30:00 & 8.87 & 31.929 & 24.735 & 34.088\\\\\n",
       "\t 2018-06-01 14:00:00 & 8.94 & 31.950 & 24.740 & 34.168\\\\\n",
       "\t 2018-06-01 14:30:00 & 9.10 & 31.948 & 24.714 & 34.305\\\\\n",
       "\t ⋮ & ⋮ & ⋮ & ⋮ & ⋮\\\\\n",
       "\t 2018-09-30 09:00:00 & 13.21 & 32.952 & 24.765 & 39.000\\\\\n",
       "\t 2018-09-30 09:30:00 & 13.15 & 32.953 & 24.778 & 38.946\\\\\n",
       "\t 2018-09-30 10:00:00 & 13.14 & 32.926 & 24.759 & 38.908\\\\\n",
       "\t 2018-09-30 10:30:00 & 13.04 & 32.901 & 24.760 & 38.790\\\\\n",
       "\t 2018-09-30 11:00:00 & 13.04 & 32.892 & 24.753 & 38.780\\\\\n",
       "\t 2018-09-30 11:30:00 & 13.21 & 32.931 & 24.749 & 38.978\\\\\n",
       "\t 2018-09-30 12:00:00 & 13.44 & 32.985 & 24.745 & 39.248\\\\\n",
       "\t 2018-09-30 12:30:00 & 13.49 & 33.007 & 24.752 & 39.317\\\\\n",
       "\t 2018-09-30 13:00:00 & 13.60 & 33.012 & 24.734 & 39.425\\\\\n",
       "\t 2018-09-30 13:30:00 & 13.67 & 33.037 & 24.739 & 39.516\\\\\n",
       "\t 2018-09-30 14:00:00 & 13.72 & 33.014 & 24.711 & 39.538\\\\\n",
       "\t 2018-09-30 14:30:00 & 14.04 & 33.084 & 24.699 & 39.910\\\\\n",
       "\t 2018-09-30 15:00:00 & 14.10 & 33.101 & 24.700 & 39.984\\\\\n",
       "\t 2018-09-30 15:30:00 & 14.17 & 33.042 & 24.639 & 39.985\\\\\n",
       "\t 2018-09-30 16:00:00 & 14.24 & 33.093 & 24.664 & 40.106\\\\\n",
       "\t 2018-09-30 16:30:00 & 14.11 & 33.110 & 24.704 & 40.003\\\\\n",
       "\t 2018-09-30 17:00:00 & 14.24 & 33.097 & 24.667 & 40.110\\\\\n",
       "\t 2018-09-30 17:30:00 & 14.24 & 33.063 & 24.641 & 40.073\\\\\n",
       "\t 2018-09-30 18:00:00 & 14.38 & 33.065 & 24.614 & 40.206\\\\\n",
       "\t 2018-09-30 18:30:00 & 14.32 & 33.103 & 24.655 & 40.191\\\\\n",
       "\t 2018-09-30 19:00:00 & 14.31 & 33.105 & 24.659 & 40.184\\\\\n",
       "\t 2018-09-30 19:30:00 & 14.25 & 33.093 & 24.662 & 40.115\\\\\n",
       "\t 2018-09-30 20:00:00 & 14.32 & 33.090 & 24.645 & 40.177\\\\\n",
       "\t 2018-09-30 20:30:00 & 14.14 & 33.093 & 24.685 & 40.013\\\\\n",
       "\t 2018-09-30 21:00:00 & 14.11 & 33.093 & 24.692 & 39.985\\\\\n",
       "\t 2018-09-30 21:30:00 & 14.18 & 33.090 & 24.675 & 40.047\\\\\n",
       "\t 2018-09-30 22:00:00 & 14.21 & 33.081 & 24.661 & 40.065\\\\\n",
       "\t 2018-09-30 22:30:00 & 14.09 & 33.075 & 24.682 & 39.947\\\\\n",
       "\t 2018-09-30 23:00:00 & 14.07 & 33.066 & 24.679 & 39.919\\\\\n",
       "\t 2018-09-30 23:30:00 & 14.03 & 33.065 & 24.686 & 39.880\\\\\n",
       "\\end{tabular}\n"
      ],
      "text/markdown": [
       "\n",
       "A spec_tbl_df: 5808 × 5\n",
       "\n",
       "| Time[GMT] &lt;dttm&gt; | temperature[C](1m) &lt;dbl&gt; | salinity[psu](1m) &lt;dbl&gt; | sigma_t[kg/m^3](1m) &lt;dbl&gt; | conductivity[msiemens/cm](1m) &lt;dbl&gt; |\n",
       "|---|---|---|---|---|\n",
       "| 2018-06-01 00:00:00 | 9.31 | 31.927 | 24.665 | 34.467 |\n",
       "| 2018-06-01 00:30:00 | 9.31 | 31.926 | 24.664 | 34.466 |\n",
       "| 2018-06-01 01:00:00 | 9.26 | 31.940 | 24.682 | 34.436 |\n",
       "| 2018-06-01 01:30:00 | 8.90 | 31.970 | 24.762 | 34.153 |\n",
       "| 2018-06-01 02:00:00 | 8.79 | 31.954 | 24.766 | 34.042 |\n",
       "| 2018-06-01 02:30:00 | 8.81 | 31.948 | 24.759 | 34.054 |\n",
       "| 2018-06-01 03:00:00 | 8.87 | 31.946 | 24.748 | 34.104 |\n",
       "| 2018-06-01 03:30:00 | 8.87 | 31.951 | 24.752 | 34.109 |\n",
       "| 2018-06-01 04:00:00 | 8.82 | 31.949 | 24.758 | 34.064 |\n",
       "| 2018-06-01 04:30:00 | 8.89 | 31.955 | 24.752 | 34.130 |\n",
       "| 2018-06-01 05:00:00 | 8.92 | 31.947 | 24.741 | 34.148 |\n",
       "| 2018-06-01 05:30:00 | 8.88 | 31.944 | 24.745 | 34.111 |\n",
       "| 2018-06-01 06:00:00 | 8.78 | 31.938 | 24.755 | 34.018 |\n",
       "| 2018-06-01 06:30:00 | 8.76 | 31.939 | 24.759 | 34.002 |\n",
       "| 2018-06-01 07:00:00 | 8.73 | 31.936 | 24.761 | 33.973 |\n",
       "| 2018-06-01 07:30:00 | 8.67 | 31.941 | 24.774 | 33.926 |\n",
       "| 2018-06-01 08:00:00 | 8.61 | 31.941 | 24.783 | 33.874 |\n",
       "| 2018-06-01 08:30:00 | 8.62 | 31.943 | 24.783 | 33.885 |\n",
       "| 2018-06-01 09:00:00 | 8.44 | 31.917 | 24.790 | 33.705 |\n",
       "| 2018-06-01 09:30:00 | 8.50 | 31.950 | 24.807 | 33.788 |\n",
       "| 2018-06-01 10:00:00 | 8.55 | 31.919 | 24.775 | 33.801 |\n",
       "| 2018-06-01 10:30:00 | 8.40 | 32.000 | 24.861 | 33.749 |\n",
       "| 2018-06-01 11:00:00 | 8.39 | 31.925 | 24.803 | 33.669 |\n",
       "| 2018-06-01 11:30:00 | 8.45 | 31.982 | 24.839 | 33.775 |\n",
       "| 2018-06-01 12:00:00 | 8.69 | 31.943 | 24.772 | 33.945 |\n",
       "| 2018-06-01 12:30:00 | 8.58 | 31.944 | 24.790 | 33.851 |\n",
       "| 2018-06-01 13:00:00 | 8.65 | 31.958 | 24.790 | 33.925 |\n",
       "| 2018-06-01 13:30:00 | 8.87 | 31.929 | 24.735 | 34.088 |\n",
       "| 2018-06-01 14:00:00 | 8.94 | 31.950 | 24.740 | 34.168 |\n",
       "| 2018-06-01 14:30:00 | 9.10 | 31.948 | 24.714 | 34.305 |\n",
       "| ⋮ | ⋮ | ⋮ | ⋮ | ⋮ |\n",
       "| 2018-09-30 09:00:00 | 13.21 | 32.952 | 24.765 | 39.000 |\n",
       "| 2018-09-30 09:30:00 | 13.15 | 32.953 | 24.778 | 38.946 |\n",
       "| 2018-09-30 10:00:00 | 13.14 | 32.926 | 24.759 | 38.908 |\n",
       "| 2018-09-30 10:30:00 | 13.04 | 32.901 | 24.760 | 38.790 |\n",
       "| 2018-09-30 11:00:00 | 13.04 | 32.892 | 24.753 | 38.780 |\n",
       "| 2018-09-30 11:30:00 | 13.21 | 32.931 | 24.749 | 38.978 |\n",
       "| 2018-09-30 12:00:00 | 13.44 | 32.985 | 24.745 | 39.248 |\n",
       "| 2018-09-30 12:30:00 | 13.49 | 33.007 | 24.752 | 39.317 |\n",
       "| 2018-09-30 13:00:00 | 13.60 | 33.012 | 24.734 | 39.425 |\n",
       "| 2018-09-30 13:30:00 | 13.67 | 33.037 | 24.739 | 39.516 |\n",
       "| 2018-09-30 14:00:00 | 13.72 | 33.014 | 24.711 | 39.538 |\n",
       "| 2018-09-30 14:30:00 | 14.04 | 33.084 | 24.699 | 39.910 |\n",
       "| 2018-09-30 15:00:00 | 14.10 | 33.101 | 24.700 | 39.984 |\n",
       "| 2018-09-30 15:30:00 | 14.17 | 33.042 | 24.639 | 39.985 |\n",
       "| 2018-09-30 16:00:00 | 14.24 | 33.093 | 24.664 | 40.106 |\n",
       "| 2018-09-30 16:30:00 | 14.11 | 33.110 | 24.704 | 40.003 |\n",
       "| 2018-09-30 17:00:00 | 14.24 | 33.097 | 24.667 | 40.110 |\n",
       "| 2018-09-30 17:30:00 | 14.24 | 33.063 | 24.641 | 40.073 |\n",
       "| 2018-09-30 18:00:00 | 14.38 | 33.065 | 24.614 | 40.206 |\n",
       "| 2018-09-30 18:30:00 | 14.32 | 33.103 | 24.655 | 40.191 |\n",
       "| 2018-09-30 19:00:00 | 14.31 | 33.105 | 24.659 | 40.184 |\n",
       "| 2018-09-30 19:30:00 | 14.25 | 33.093 | 24.662 | 40.115 |\n",
       "| 2018-09-30 20:00:00 | 14.32 | 33.090 | 24.645 | 40.177 |\n",
       "| 2018-09-30 20:30:00 | 14.14 | 33.093 | 24.685 | 40.013 |\n",
       "| 2018-09-30 21:00:00 | 14.11 | 33.093 | 24.692 | 39.985 |\n",
       "| 2018-09-30 21:30:00 | 14.18 | 33.090 | 24.675 | 40.047 |\n",
       "| 2018-09-30 22:00:00 | 14.21 | 33.081 | 24.661 | 40.065 |\n",
       "| 2018-09-30 22:30:00 | 14.09 | 33.075 | 24.682 | 39.947 |\n",
       "| 2018-09-30 23:00:00 | 14.07 | 33.066 | 24.679 | 39.919 |\n",
       "| 2018-09-30 23:30:00 | 14.03 | 33.065 | 24.686 | 39.880 |\n",
       "\n"
      ],
      "text/plain": [
       "     Time[GMT]           temperature[C](1m) salinity[psu](1m)\n",
       "1    2018-06-01 00:00:00 9.31               31.927           \n",
       "2    2018-06-01 00:30:00 9.31               31.926           \n",
       "3    2018-06-01 01:00:00 9.26               31.940           \n",
       "4    2018-06-01 01:30:00 8.90               31.970           \n",
       "5    2018-06-01 02:00:00 8.79               31.954           \n",
       "6    2018-06-01 02:30:00 8.81               31.948           \n",
       "7    2018-06-01 03:00:00 8.87               31.946           \n",
       "8    2018-06-01 03:30:00 8.87               31.951           \n",
       "9    2018-06-01 04:00:00 8.82               31.949           \n",
       "10   2018-06-01 04:30:00 8.89               31.955           \n",
       "11   2018-06-01 05:00:00 8.92               31.947           \n",
       "12   2018-06-01 05:30:00 8.88               31.944           \n",
       "13   2018-06-01 06:00:00 8.78               31.938           \n",
       "14   2018-06-01 06:30:00 8.76               31.939           \n",
       "15   2018-06-01 07:00:00 8.73               31.936           \n",
       "16   2018-06-01 07:30:00 8.67               31.941           \n",
       "17   2018-06-01 08:00:00 8.61               31.941           \n",
       "18   2018-06-01 08:30:00 8.62               31.943           \n",
       "19   2018-06-01 09:00:00 8.44               31.917           \n",
       "20   2018-06-01 09:30:00 8.50               31.950           \n",
       "21   2018-06-01 10:00:00 8.55               31.919           \n",
       "22   2018-06-01 10:30:00 8.40               32.000           \n",
       "23   2018-06-01 11:00:00 8.39               31.925           \n",
       "24   2018-06-01 11:30:00 8.45               31.982           \n",
       "25   2018-06-01 12:00:00 8.69               31.943           \n",
       "26   2018-06-01 12:30:00 8.58               31.944           \n",
       "27   2018-06-01 13:00:00 8.65               31.958           \n",
       "28   2018-06-01 13:30:00 8.87               31.929           \n",
       "29   2018-06-01 14:00:00 8.94               31.950           \n",
       "30   2018-06-01 14:30:00 9.10               31.948           \n",
       "⋮    ⋮                   ⋮                  ⋮                \n",
       "5779 2018-09-30 09:00:00 13.21              32.952           \n",
       "5780 2018-09-30 09:30:00 13.15              32.953           \n",
       "5781 2018-09-30 10:00:00 13.14              32.926           \n",
       "5782 2018-09-30 10:30:00 13.04              32.901           \n",
       "5783 2018-09-30 11:00:00 13.04              32.892           \n",
       "5784 2018-09-30 11:30:00 13.21              32.931           \n",
       "5785 2018-09-30 12:00:00 13.44              32.985           \n",
       "5786 2018-09-30 12:30:00 13.49              33.007           \n",
       "5787 2018-09-30 13:00:00 13.60              33.012           \n",
       "5788 2018-09-30 13:30:00 13.67              33.037           \n",
       "5789 2018-09-30 14:00:00 13.72              33.014           \n",
       "5790 2018-09-30 14:30:00 14.04              33.084           \n",
       "5791 2018-09-30 15:00:00 14.10              33.101           \n",
       "5792 2018-09-30 15:30:00 14.17              33.042           \n",
       "5793 2018-09-30 16:00:00 14.24              33.093           \n",
       "5794 2018-09-30 16:30:00 14.11              33.110           \n",
       "5795 2018-09-30 17:00:00 14.24              33.097           \n",
       "5796 2018-09-30 17:30:00 14.24              33.063           \n",
       "5797 2018-09-30 18:00:00 14.38              33.065           \n",
       "5798 2018-09-30 18:30:00 14.32              33.103           \n",
       "5799 2018-09-30 19:00:00 14.31              33.105           \n",
       "5800 2018-09-30 19:30:00 14.25              33.093           \n",
       "5801 2018-09-30 20:00:00 14.32              33.090           \n",
       "5802 2018-09-30 20:30:00 14.14              33.093           \n",
       "5803 2018-09-30 21:00:00 14.11              33.093           \n",
       "5804 2018-09-30 21:30:00 14.18              33.090           \n",
       "5805 2018-09-30 22:00:00 14.21              33.081           \n",
       "5806 2018-09-30 22:30:00 14.09              33.075           \n",
       "5807 2018-09-30 23:00:00 14.07              33.066           \n",
       "5808 2018-09-30 23:30:00 14.03              33.065           \n",
       "     sigma_t[kg/m^3](1m) conductivity[msiemens/cm](1m)\n",
       "1    24.665              34.467                       \n",
       "2    24.664              34.466                       \n",
       "3    24.682              34.436                       \n",
       "4    24.762              34.153                       \n",
       "5    24.766              34.042                       \n",
       "6    24.759              34.054                       \n",
       "7    24.748              34.104                       \n",
       "8    24.752              34.109                       \n",
       "9    24.758              34.064                       \n",
       "10   24.752              34.130                       \n",
       "11   24.741              34.148                       \n",
       "12   24.745              34.111                       \n",
       "13   24.755              34.018                       \n",
       "14   24.759              34.002                       \n",
       "15   24.761              33.973                       \n",
       "16   24.774              33.926                       \n",
       "17   24.783              33.874                       \n",
       "18   24.783              33.885                       \n",
       "19   24.790              33.705                       \n",
       "20   24.807              33.788                       \n",
       "21   24.775              33.801                       \n",
       "22   24.861              33.749                       \n",
       "23   24.803              33.669                       \n",
       "24   24.839              33.775                       \n",
       "25   24.772              33.945                       \n",
       "26   24.790              33.851                       \n",
       "27   24.790              33.925                       \n",
       "28   24.735              34.088                       \n",
       "29   24.740              34.168                       \n",
       "30   24.714              34.305                       \n",
       "⋮    ⋮                   ⋮                            \n",
       "5779 24.765              39.000                       \n",
       "5780 24.778              38.946                       \n",
       "5781 24.759              38.908                       \n",
       "5782 24.760              38.790                       \n",
       "5783 24.753              38.780                       \n",
       "5784 24.749              38.978                       \n",
       "5785 24.745              39.248                       \n",
       "5786 24.752              39.317                       \n",
       "5787 24.734              39.425                       \n",
       "5788 24.739              39.516                       \n",
       "5789 24.711              39.538                       \n",
       "5790 24.699              39.910                       \n",
       "5791 24.700              39.984                       \n",
       "5792 24.639              39.985                       \n",
       "5793 24.664              40.106                       \n",
       "5794 24.704              40.003                       \n",
       "5795 24.667              40.110                       \n",
       "5796 24.641              40.073                       \n",
       "5797 24.614              40.206                       \n",
       "5798 24.655              40.191                       \n",
       "5799 24.659              40.184                       \n",
       "5800 24.662              40.115                       \n",
       "5801 24.645              40.177                       \n",
       "5802 24.685              40.013                       \n",
       "5803 24.692              39.985                       \n",
       "5804 24.675              40.047                       \n",
       "5805 24.661              40.065                       \n",
       "5806 24.682              39.947                       \n",
       "5807 24.679              39.919                       \n",
       "5808 24.686              39.880                       "
      ]
     },
     "metadata": {},
     "output_type": "display_data"
    }
   ],
   "source": [
    "# Read in buoy data\n",
    "buoy <- read_buoy(buoy = \"I01\")\n",
    "buoy"
   ]
  },
  {
   "cell_type": "code",
   "execution_count": 22,
   "metadata": {
    "Rmd_chunk_options": "init_raster, message=FALSE, warning=FALSE",
    "kernel": "R",
    "tags": [
     "report_cell"
    ]
   },
   "outputs": [
    {
     "data": {
      "text/html": [
       "<table>\n",
       "<caption>A tibble: 1 × 2</caption>\n",
       "<thead>\n",
       "\t<tr><th scope=col>lon</th><th scope=col>lat</th></tr>\n",
       "\t<tr><th scope=col>&lt;dbl&gt;</th><th scope=col>&lt;dbl&gt;</th></tr>\n",
       "</thead>\n",
       "<tbody>\n",
       "\t<tr><td>-68.11267</td><td>44.10167</td></tr>\n",
       "</tbody>\n",
       "</table>\n"
      ],
      "text/latex": [
       "A tibble: 1 × 2\n",
       "\\begin{tabular}{ll}\n",
       " lon & lat\\\\\n",
       " <dbl> & <dbl>\\\\\n",
       "\\hline\n",
       "\t -68.11267 & 44.10167\\\\\n",
       "\\end{tabular}\n"
      ],
      "text/markdown": [
       "\n",
       "A tibble: 1 × 2\n",
       "\n",
       "| lon &lt;dbl&gt; | lat &lt;dbl&gt; |\n",
       "|---|---|\n",
       "| -68.11267 | 44.10167 |\n",
       "\n"
      ],
      "text/plain": [
       "  lon       lat     \n",
       "1 -68.11267 44.10167"
      ]
     },
     "metadata": {},
     "output_type": "display_data"
    }
   ],
   "source": [
    "# Read in buoy locations\n",
    "buoy_loc <- buoy_locations() %>%\n",
    "    dplyr::filter(id == \"I01\") %>%\n",
    "    dplyr::select(lon, lat)\n",
    "buoy_loc"
   ]
  },
  {
   "cell_type": "markdown",
   "metadata": {},
   "source": [
    "## Extract buoy location from satellite data"
   ]
  },
  {
   "cell_type": "markdown",
   "metadata": {},
   "source": [
    "The buoy location is extracted from the satellite data raster using the code below. For more examples of extracting point data from rasters and other raster manipulations, see https://mgimond.github.io/megug2017/#raster-manipulation-basics."
   ]
  },
  {
   "cell_type": "code",
   "execution_count": 23,
   "metadata": {
    "Rmd_chunk_options": "base_plot, message=FALSE, warning=FALSE",
    "kernel": "R",
    "tags": [
     "report_cell"
    ]
   },
   "outputs": [
    {
     "data": {
      "text/html": [
       "<table>\n",
       "<caption>A matrix: 1 × 4 of type dbl</caption>\n",
       "<thead>\n",
       "\t<tr><th scope=col>Jun</th><th scope=col>Jul</th><th scope=col>Aug</th><th scope=col>Sep</th></tr>\n",
       "</thead>\n",
       "<tbody>\n",
       "\t<tr><td>11.365</td><td>13.39</td><td>15.595</td><td>14.73</td></tr>\n",
       "</tbody>\n",
       "</table>\n"
      ],
      "text/latex": [
       "A matrix: 1 × 4 of type dbl\n",
       "\\begin{tabular}{llll}\n",
       " Jun & Jul & Aug & Sep\\\\\n",
       "\\hline\n",
       "\t 11.365 & 13.39 & 15.595 & 14.73\\\\\n",
       "\\end{tabular}\n"
      ],
      "text/markdown": [
       "\n",
       "A matrix: 1 × 4 of type dbl\n",
       "\n",
       "| Jun | Jul | Aug | Sep |\n",
       "|---|---|---|---|\n",
       "| 11.365 | 13.39 | 15.595 | 14.73 |\n",
       "\n"
      ],
      "text/plain": [
       "     Jun    Jul   Aug    Sep  \n",
       "[1,] 11.365 13.39 15.595 14.73"
      ]
     },
     "metadata": {},
     "output_type": "display_data"
    }
   ],
   "source": [
    "raster::extract(sat, buoy_loc)"
   ]
  },
  {
   "cell_type": "markdown",
   "metadata": {},
   "source": [
    "## Plot buoy location and satellite data using leaflet"
   ]
  },
  {
   "cell_type": "markdown",
   "metadata": {},
   "source": [
    "Finally, we will plot the satellite data and the buoy location on a leaflet interactive map.  The leaflet::addRasterImage() function allows the user to plot raster objects on the map.  The leaflet::addCircles() function allows the user to plot point data on the map.  For a more detailed example, see https://rstudio.github.io/leaflet/raster.html."
   ]
  },
  {
   "cell_type": "code",
   "execution_count": 25,
   "metadata": {
    "Rmd_chunk_options": "leaflet, message=FALSE, warning=FALSE",
    "kernel": "R",
    "tags": [
     "report_cell"
    ]
   },
   "outputs": [
    {
     "name": "stderr",
     "output_type": "stream",
     "text": [
      "Warning message in showSRID(uprojargs, format = \"PROJ\", multiline = \"NO\"):\n",
      "“Discarded ellps WGS 84 in CRS definition: +proj=merc +a=6378137 +b=6378137 +lat_ts=0 +lon_0=0 +x_0=0 +y_0=0 +k=1 +units=m +nadgrids=@null +wktext +no_defs”\n",
      "Warning message in showSRID(uprojargs, format = \"PROJ\", multiline = \"NO\"):\n",
      "“Discarded datum WGS_1984 in CRS definition”\n",
      "Warning message in showSRID(uprojargs, format = \"PROJ\", multiline = \"NO\"):\n",
      "“Discarded ellps WGS 84 in CRS definition: +proj=merc +a=6378137 +b=6378137 +lat_ts=0 +lon_0=0 +x_0=0 +y_0=0 +k=1 +units=m +nadgrids=@null +wktext +no_defs”\n",
      "Warning message in showSRID(uprojargs, format = \"PROJ\", multiline = \"NO\"):\n",
      "“Discarded datum WGS_1984 in CRS definition”\n"
     ]
    }
   ],
   "source": [
    "map <- leaflet::leaflet() %>% leaflet::addTiles(group = \"Standard\") %>%\n",
    "            # Add satellite imagery\n",
    "            leaflet::addProviderTiles('Esri.WorldImagery', group = \"Satellite\") %>%\n",
    "            # Define bounds\n",
    "            leaflet::fitBounds(lng1 = xmin(sat),\n",
    "                               lat1 = ymin(sat),\n",
    "                               lng2 = xmax(sat),\n",
    "                               lat2 = ymax(sat)) %>%\n",
    "            # Add raster data\n",
    "            leaflet::addRasterImage(sat$Jul) %>%\n",
    "            # Add buoy data\n",
    "            leaflet::addCircles(lng = buoy_loc$lon, lat = buoy_loc$lat)\n",
    "print(map)"
   ]
  },
  {
   "cell_type": "markdown",
   "metadata": {},
   "source": [
    "## Plot time series of buoy and satellite data"
   ]
  },
  {
   "cell_type": "markdown",
   "metadata": {},
   "source": [
    "Finally, we plot a time series of the buoy data and satellite data.  Both datasets are formatted to plot using the ggplot2 package."
   ]
  },
  {
   "cell_type": "code",
   "execution_count": 26,
   "metadata": {
    "Rmd_chunk_options": "time_series, message=FALSE, warning=FALSE",
    "kernel": "R",
    "tags": [
     "report_cell"
    ]
   },
   "outputs": [
    {
     "data": {
      "text/html": [
       "<table>\n",
       "<caption>A data.frame: 4 × 3</caption>\n",
       "<thead>\n",
       "\t<tr><th scope=col>month</th><th scope=col>value</th><th scope=col>month_num</th></tr>\n",
       "\t<tr><th scope=col>&lt;chr&gt;</th><th scope=col>&lt;dbl&gt;</th><th scope=col>&lt;int&gt;</th></tr>\n",
       "</thead>\n",
       "<tbody>\n",
       "\t<tr><td>Jun</td><td>11.365</td><td>6</td></tr>\n",
       "\t<tr><td>Jul</td><td>13.390</td><td>7</td></tr>\n",
       "\t<tr><td>Aug</td><td>15.595</td><td>8</td></tr>\n",
       "\t<tr><td>Sep</td><td>14.730</td><td>9</td></tr>\n",
       "</tbody>\n",
       "</table>\n"
      ],
      "text/latex": [
       "A data.frame: 4 × 3\n",
       "\\begin{tabular}{lll}\n",
       " month & value & month\\_num\\\\\n",
       " <chr> & <dbl> & <int>\\\\\n",
       "\\hline\n",
       "\t Jun & 11.365 & 6\\\\\n",
       "\t Jul & 13.390 & 7\\\\\n",
       "\t Aug & 15.595 & 8\\\\\n",
       "\t Sep & 14.730 & 9\\\\\n",
       "\\end{tabular}\n"
      ],
      "text/markdown": [
       "\n",
       "A data.frame: 4 × 3\n",
       "\n",
       "| month &lt;chr&gt; | value &lt;dbl&gt; | month_num &lt;int&gt; |\n",
       "|---|---|---|\n",
       "| Jun | 11.365 | 6 |\n",
       "| Jul | 13.390 | 7 |\n",
       "| Aug | 15.595 | 8 |\n",
       "| Sep | 14.730 | 9 |\n",
       "\n"
      ],
      "text/plain": [
       "  month value  month_num\n",
       "1 Jun   11.365 6        \n",
       "2 Jul   13.390 7        \n",
       "3 Aug   15.595 8        \n",
       "4 Sep   14.730 9        "
      ]
     },
     "metadata": {},
     "output_type": "display_data"
    }
   ],
   "source": [
    "# Format satellite data\n",
    "sat_df <- tidyr::gather(as.data.frame(raster::extract(sat, buoy_loc)), month, value, Jun:Sep) %>%\n",
    "  dplyr::mutate(month_num = 6:9)\n",
    "sat_df"
   ]
  },
  {
   "cell_type": "code",
   "execution_count": 34,
   "metadata": {
    "Rmd_chunk_options": "time_series, message=FALSE, warning=FALSE",
    "kernel": "R",
    "tags": [
     "report_cell"
    ]
   },
   "outputs": [
    {
     "name": "stderr",
     "output_type": "stream",
     "text": [
      "`summarise()` ungrouping output (override with `.groups` argument)\n",
      "\n"
     ]
    },
    {
     "data": {
      "text/html": [
       "<table>\n",
       "<caption>A tibble: 4 × 2</caption>\n",
       "<thead>\n",
       "\t<tr><th scope=col>month_num</th><th scope=col>mean</th></tr>\n",
       "\t<tr><th scope=col>&lt;dbl&gt;</th><th scope=col>&lt;dbl&gt;</th></tr>\n",
       "</thead>\n",
       "<tbody>\n",
       "\t<tr><td>6</td><td> 9.341676</td></tr>\n",
       "\t<tr><td>7</td><td>12.142361</td></tr>\n",
       "\t<tr><td>8</td><td>14.185978</td></tr>\n",
       "\t<tr><td>9</td><td>13.594586</td></tr>\n",
       "</tbody>\n",
       "</table>\n"
      ],
      "text/latex": [
       "A tibble: 4 × 2\n",
       "\\begin{tabular}{ll}\n",
       " month\\_num & mean\\\\\n",
       " <dbl> & <dbl>\\\\\n",
       "\\hline\n",
       "\t 6 &  9.341676\\\\\n",
       "\t 7 & 12.142361\\\\\n",
       "\t 8 & 14.185978\\\\\n",
       "\t 9 & 13.594586\\\\\n",
       "\\end{tabular}\n"
      ],
      "text/markdown": [
       "\n",
       "A tibble: 4 × 2\n",
       "\n",
       "| month_num &lt;dbl&gt; | mean &lt;dbl&gt; |\n",
       "|---|---|\n",
       "| 6 |  9.341676 |\n",
       "| 7 | 12.142361 |\n",
       "| 8 | 14.185978 |\n",
       "| 9 | 13.594586 |\n",
       "\n"
      ],
      "text/plain": [
       "  month_num mean     \n",
       "1 6          9.341676\n",
       "2 7         12.142361\n",
       "3 8         14.185978\n",
       "4 9         13.594586"
      ]
     },
     "metadata": {},
     "output_type": "display_data"
    }
   ],
   "source": [
    "# Format buoy data - use backticks for funny variable names\n",
    "# first we add a month number\n",
    "# then select Jun-Sep\n",
    "# then compute monthly means\n",
    "buoy_df <- buoy %>%\n",
    "  dplyr::mutate(month_num = lubridate::month(`Time[GMT]`)) %>%\n",
    "  dplyr::filter(dplyr::between(month_num, 6, 9)) %>%\n",
    "  dplyr::group_by(month_num) %>%\n",
    "  # Compute monthly average\n",
    "  dplyr::summarise(mean = mean(`temperature[C](1m)`))\n",
    "buoy_df"
   ]
  },
  {
   "cell_type": "markdown",
   "metadata": {},
   "source": [
    "Now we can plot these to compare the satellite to the buoy.  Keep in mind that the buoy SBE sensor is a 1 meter depth, and the satellite is measuring the skin temperature."
   ]
  },
  {
   "cell_type": "code",
   "execution_count": 35,
   "metadata": {
    "Rmd_chunk_options": "time_series, message=FALSE, warning=FALSE",
    "kernel": "R",
    "tags": [
     "report_cell"
    ]
   },
   "outputs": [
    {
     "data": {
      "image/png": "[encoded data removed]",
      "text/plain": [
       "plot without title"
      ]
     },
     "metadata": {
      "image/png": {
       "height": 420,
       "width": 420
      }
     },
     "output_type": "display_data"
    }
   ],
   "source": [
    "# Initialize colors\n",
    "colors <- c(\"Satellite\" = \"red\", \"Buoy\" = \"blue\")\n",
    "# Plot time series of buoy and satellite data\n",
    "ggplot(data = sat_df, mapping = aes(x = month_num, y = value, color = \"Satellite\")) +\n",
    "  geom_path() +\n",
    "  geom_path(data = buoy_df, aes(x = month_num, y = mean, color = \"Buoy\")) +\n",
    "  labs(x = \"Month\",\n",
    "       y = \"Temp (°C)\",\n",
    "       color = \"\")"
   ]
  }
 ],
 "metadata": {
  "Rmd_chunk_options": {
   "author": "Camille Ross",
   "date": "8/4/2020",
   "output": "html_document",
   "title": "Extracting rasters"
  },
  "kernelspec": {
   "display_name": "R",
   "language": "R",
   "name": "ir"
  },
  "language_info": {
   "codemirror_mode": "r",
   "file_extension": ".r",
   "mimetype": "text/x-r-source",
   "name": "R",
   "pygments_lexer": "r",
   "version": "3.6.3"
  },
  "sos": {
   "kernels": [
    [
     "SoS",
     "sos",
     "",
     ""
    ],
    [
     "R",
     "ir",
     "",
     ""
    ]
   ]
  }
 },
 "nbformat": 4,
 "nbformat_minor": 4
}
