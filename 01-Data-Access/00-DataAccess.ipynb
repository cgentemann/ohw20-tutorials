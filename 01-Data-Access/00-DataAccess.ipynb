{
 "cells": [
  {
   "cell_type": "code",
   "execution_count": null,
   "metadata": {
    "slideshow": {
     "slide_type": "skip"
    }
   },
   "outputs": [],
   "source": [
    "%matplotlib inline\n",
    "from pandas.plotting import register_matplotlib_converters\n",
    "\n",
    "register_matplotlib_converters()\n",
    "\n",
    "import warnings\n",
    "\n",
    "warnings.filterwarnings(\"ignore\")"
   ]
  },
  {
   "cell_type": "markdown",
   "metadata": {
    "slideshow": {
     "slide_type": "slide"
    }
   },
   "source": [
    "## Data Access\n",
    "\n",
    "### servers, servers everywhere and not a bit to flip\n",
    "\n",
    "![](https://imgs.xkcd.com/comics/digital_data.png)"
   ]
  },
  {
   "cell_type": "markdown",
   "metadata": {
    "slideshow": {
     "slide_type": "slide"
    }
   },
   "source": [
    "## whoami\n",
    "\n",
    "`ocefpaf` (Filipe Fernandes)\n",
    "\n",
    "- Physical Oceanographer\n",
    "- Data Plumber\n",
    "- Code Janitor\n",
    "- CI babysitter\n",
    "- Amazon-Dash-Button for conda-forge"
   ]
  },
  {
   "cell_type": "markdown",
   "metadata": {
    "slideshow": {
     "slide_type": "slide"
    }
   },
   "source": [
    "## My day job: IOOS\n",
    "\n",
    "\n",
    "![](https://raw.githubusercontent.com/ocefpaf/2018-SciPy-talk/gh-pages/images/IOOS-RAs.jpg)"
   ]
  },
  {
   "cell_type": "markdown",
   "metadata": {
    "slideshow": {
     "slide_type": "slide"
    }
   },
   "source": [
    "## Big or small we need data!\n",
    "\n",
    "- There are various sources: variety of servers, APIs, and web services. Just to list a few: OPeNDAP, ERDDAP, THREDDS, ftp, http(s), S3, LAS, etc.\n",
    "\n",
    "![](https://imgs.xkcd.com/comics/data_pipeline.png)"
   ]
  },
  {
   "cell_type": "markdown",
   "metadata": {
    "slideshow": {
     "slide_type": "slide"
    }
   },
   "source": [
    "## Web Services/Type of servers\n",
    "\n",
    "| Data Type                              | Web Service                       | Response    |\n",
    "|----------------------------------------|-----------------------------------|-------------|\n",
    "| In-situ data<br>(buoys, stations, etc) | OGC SOS                           | XML/CSV     |\n",
    "| Gridded data (models, satellite)       | OPeNDAP                           | Binary      |\n",
    "| Raster Images                          | OGC WMS                           | GeoTIFF/PNG |\n",
    "| ERDDAP                                 | Restful API                       | *           |\n",
    "\n",
    "* You imagination is the limit!"
   ]
  },
  {
   "cell_type": "markdown",
   "metadata": {
    "slideshow": {
     "slide_type": "slide"
    }
   },
   "source": [
    "## What are we going to see in this tutorial?\n",
    "### Browse and access data from:\n",
    "\n",
    "1. ERDDAP\n",
    "2. OPeNDAP\n",
    "3. SOS\n",
    "4. WMS\n",
    "5. CSW\\*\n",
    "* Not really a server but a \"server\" aggregator."
   ]
  },
  {
   "cell_type": "markdown",
   "metadata": {
    "slideshow": {
     "slide_type": "slide"
    }
   },
   "source": [
    "## 1) ERDDAP\n",
    "\n",
    "### Learning objectives:\n",
    "\n",
    "- Explore an ERDDAP server with the python interface (erddapy);\n",
    "- Find a glider for a time/region of interest;\n",
    "- Download the data with a familiar format and create some plots."
   ]
  },
  {
   "cell_type": "markdown",
   "metadata": {
    "slideshow": {
     "slide_type": "slide"
    }
   },
   "source": [
    "## What is ERDDAP?\n",
    "\n",
    "- Flexible outputs: .html table, ESRI .asc and .csv, .csvp, Google Earth .kml, OPeNDAP binary, .mat, .nc, ODV .txt, .tsv, .json, and .xhtml\n",
    "- RESTful API to access the data\n",
    "- Standardize dates and time in the results\n",
    "- Server-side searching and slicing"
   ]
  },
  {
   "cell_type": "code",
   "execution_count": null,
   "metadata": {
    "slideshow": {
     "slide_type": "slide"
    }
   },
   "outputs": [],
   "source": [
    "from erddapy import ERDDAP\n",
    "\n",
    "e = ERDDAP(\n",
    "    server=\"https://data.ioos.us/gliders/erddap\",\n",
    "    protocol=\"tabledap\"\n",
    ")"
   ]
  },
  {
   "cell_type": "markdown",
   "metadata": {
    "slideshow": {
     "slide_type": "slide"
    }
   },
   "source": [
    "### What services are available in the server?"
   ]
  },
  {
   "cell_type": "code",
   "execution_count": null,
   "metadata": {
    "slideshow": {
     "slide_type": "fragment"
    }
   },
   "outputs": [],
   "source": [
    "import pandas as pd\n",
    "\n",
    "df = pd.read_csv(\n",
    "    e.get_search_url(response=\"csv\", search_for=\"all\")\n",
    ")"
   ]
  },
  {
   "cell_type": "code",
   "execution_count": null,
   "metadata": {
    "slideshow": {
     "slide_type": "fragment"
    }
   },
   "outputs": [],
   "source": [
    "print(\n",
    "    f'We have {len(set(df[\"tabledap\"].dropna()))} '\n",
    "    f'tabledap, {len(set(df[\"griddap\"].dropna()))} '\n",
    "    f'griddap, and {len(set(df[\"wms\"].dropna()))} wms.'\n",
    ")"
   ]
  },
  {
   "cell_type": "markdown",
   "metadata": {
    "slideshow": {
     "slide_type": "slide"
    }
   },
   "source": [
    "### Let's query all the datasets that have the \"trajectoryprofile\" CDM data type."
   ]
  },
  {
   "cell_type": "code",
   "execution_count": null,
   "metadata": {
    "slideshow": {
     "slide_type": "fragment"
    }
   },
   "outputs": [],
   "source": [
    "url = e.get_categorize_url(\n",
    "    categorize_by=\"cdm_data_type\",\n",
    "    value=\"trajectoryprofile\",\n",
    "    response=\"csv\",\n",
    ")\n",
    "\n",
    "df = pd.read_csv(url)\n",
    "dataset_ids = df.loc[\n",
    "    ~df[\"tabledap\"].isnull(), \"Dataset ID\"\n",
    "].tolist()\n",
    "\n",
    "dataset_ids_list = \"\\n\".join(dataset_ids)\n",
    "print(f\"Found {len(dataset_ids)} datasets\")"
   ]
  },
  {
   "cell_type": "markdown",
   "metadata": {
    "slideshow": {
     "slide_type": "slide"
    }
   },
   "source": [
    "### Let us narrow our search to deployments that within a lon/lat/time extent."
   ]
  },
  {
   "cell_type": "code",
   "execution_count": null,
   "metadata": {
    "slideshow": {
     "slide_type": "fragment"
    }
   },
   "outputs": [],
   "source": [
    "from ipyleaflet import Map, FullScreenControl, Rectangle\n",
    "\n",
    "min_lon, max_lon = -72, -69\n",
    "min_lat, max_lat = 38, 41\n",
    "\n",
    "rectangle = Rectangle(\n",
    "    bounds=((min_lat, min_lon), (max_lat, max_lon))\n",
    ")\n",
    "\n",
    "m = Map(\n",
    "    center=((min_lat + max_lat) / 2,\n",
    "            (min_lon + max_lon) / 2), zoom=6\n",
    ")\n",
    "m.add_layer(rectangle)\n",
    "m.add_control(FullScreenControl())"
   ]
  },
  {
   "cell_type": "code",
   "execution_count": null,
   "metadata": {
    "slideshow": {
     "slide_type": "slide"
    }
   },
   "outputs": [],
   "source": [
    "m"
   ]
  },
  {
   "cell_type": "code",
   "execution_count": null,
   "metadata": {
    "slideshow": {
     "slide_type": "fragment"
    }
   },
   "outputs": [],
   "source": [
    "kw = {\n",
    "    \"min_time\": \"2016-07-10T00:00:00Z\",\n",
    "    \"max_time\": \"2017-02-10T00:00:00Z\",\n",
    "    \"min_lon\": min_lon,\n",
    "    \"max_lon\": max_lon,\n",
    "    \"min_lat\": min_lat,\n",
    "    \"max_lat\": max_lat,\n",
    "}"
   ]
  },
  {
   "cell_type": "code",
   "execution_count": null,
   "metadata": {
    "scrolled": true,
    "slideshow": {
     "slide_type": "slide"
    }
   },
   "outputs": [],
   "source": [
    "search_url = e.get_search_url(response=\"csv\", **kw)\n",
    "search = pd.read_csv(search_url)\n",
    "dataset_ids = search[\"Dataset ID\"].values\n",
    "\n",
    "dataset_ids_list = \"\\n\".join(dataset_ids)"
   ]
  },
  {
   "cell_type": "code",
   "execution_count": null,
   "metadata": {
    "slideshow": {
     "slide_type": "slide"
    }
   },
   "outputs": [],
   "source": [
    "print(f\"Found {len(dataset_ids)} Datasets:\\n{dataset_ids_list}\")"
   ]
  },
  {
   "cell_type": "code",
   "execution_count": null,
   "metadata": {
    "slideshow": {
     "slide_type": "slide"
    }
   },
   "outputs": [],
   "source": [
    "e.dataset_id = \"whoi_406-20160902T1700\"\n",
    "\n",
    "e.variables = [\n",
    "    \"depth\",\n",
    "    \"latitude\",\n",
    "    \"longitude\",\n",
    "    \"salinity\",\n",
    "    \"temperature\",\n",
    "    \"time\",\n",
    "]\n",
    "\n",
    "url = e.get_download_url()\n",
    "print(url)"
   ]
  },
  {
   "cell_type": "code",
   "execution_count": null,
   "metadata": {
    "scrolled": true,
    "slideshow": {
     "slide_type": "slide"
    }
   },
   "outputs": [],
   "source": [
    "import pandas as pd\n",
    "\n",
    "df = e.to_pandas(\n",
    "    index_col=\"time (UTC)\",\n",
    "    parse_dates=True\n",
    ").dropna()\n",
    "df.head()"
   ]
  },
  {
   "cell_type": "markdown",
   "metadata": {
    "slideshow": {
     "slide_type": "slide"
    }
   },
   "source": [
    "Exercise: experiment with the `e.to_xarray()` method. Think about why/where use one or the other?"
   ]
  },
  {
   "cell_type": "code",
   "execution_count": null,
   "metadata": {
    "slideshow": {
     "slide_type": "skip"
    }
   },
   "outputs": [],
   "source": [
    "import cartopy.crs as ccrs\n",
    "import matplotlib.pyplot as plt\n",
    "\n",
    "\n",
    "def plot_track(df):\n",
    "    x = df[\"longitude (degrees_east)\"]\n",
    "    y = df[\"latitude (degrees_north)\"]\n",
    "    dx, dy = 2, 4\n",
    "\n",
    "    fig, ax = plt.subplots(\n",
    "        figsize=(9, 9), subplot_kw={\"projection\": ccrs.PlateCarree()}\n",
    "    )\n",
    "    cs = ax.scatter(\n",
    "        x, y, c=df[\"temperature (Celsius)\"], s=50, alpha=0.5, edgecolor=\"none\"\n",
    "    )\n",
    "    cbar = fig.colorbar(\n",
    "        cs, orientation=\"vertical\", fraction=0.1, shrink=0.9, extend=\"both\"\n",
    "    )\n",
    "    ax.coastlines(\"10m\")\n",
    "    ax.set_extent([x.min() - dx, x.max() + dx, y.min() - dy, y.max() + dy])\n",
    "    return fig, ax"
   ]
  },
  {
   "cell_type": "code",
   "execution_count": null,
   "metadata": {
    "slideshow": {
     "slide_type": "slide"
    }
   },
   "outputs": [],
   "source": [
    "fig, ax = plot_track(df)"
   ]
  },
  {
   "cell_type": "code",
   "execution_count": null,
   "metadata": {
    "slideshow": {
     "slide_type": "skip"
    }
   },
   "outputs": [],
   "source": [
    "import matplotlib.dates as mdates\n",
    "import matplotlib.pyplot as plt\n",
    "import palettable\n",
    "from palettable.cmocean.sequential import Thermal_20\n",
    "\n",
    "cmap = Thermal_20.mpl_colormap\n",
    "\n",
    "\n",
    "def plot_glider(df):\n",
    "    fig, ax = plt.subplots(figsize=(17, 2))\n",
    "    cs = ax.scatter(\n",
    "        df.index,\n",
    "        df[\"depth (m)\"],\n",
    "        s=15,\n",
    "        c=df[\"temperature (Celsius)\"],\n",
    "        marker=\"o\",\n",
    "        edgecolor=\"none\",\n",
    "        cmap=cmap,\n",
    "    )\n",
    "\n",
    "    ax.invert_yaxis()\n",
    "    xfmt = mdates.DateFormatter(\"%H:%Mh\\n%d-%b\")\n",
    "    ax.xaxis.set_major_formatter(xfmt)\n",
    "\n",
    "    cbar = fig.colorbar(cs, orientation=\"vertical\", extend=\"both\")\n",
    "    cbar.ax.set_ylabel(\"Temperature ($^\\circ$C)\")\n",
    "    ax.set_ylabel(\"Depth (m)\")\n",
    "    return fig, ax"
   ]
  },
  {
   "cell_type": "code",
   "execution_count": null,
   "metadata": {
    "slideshow": {
     "slide_type": "slide"
    }
   },
   "outputs": [],
   "source": [
    "fig, ax = plot_glider(df)"
   ]
  },
  {
   "cell_type": "code",
   "execution_count": null,
   "metadata": {
    "slideshow": {
     "slide_type": "skip"
    }
   },
   "outputs": [],
   "source": [
    "import gsw\n",
    "import numpy as np\n",
    "\n",
    "\n",
    "def plot_ts():\n",
    "    fig, ax = plt.subplots(figsize=(5, 5))\n",
    "\n",
    "    s = np.linspace(0, 42, 100)\n",
    "    t = np.linspace(-2, 40, 100)\n",
    "\n",
    "    s, t = np.meshgrid(s, t)\n",
    "    sigma = gsw.sigma0(s, t)\n",
    "\n",
    "    cnt = np.arange(-7, 40, 5)\n",
    "    cs = ax.contour(s, t, sigma, colors=\"gray\", levels=cnt)\n",
    "    ax.clabel(cs, fontsize=9, inline=1, fmt=\"%2i\")\n",
    "\n",
    "    ax.set_xlabel(\"Salinity [g kg$^{-1}$]\")\n",
    "    ax.set_ylabel(\"Temperature [$^{\\circ}$C]\")\n",
    "    ax.scatter(df[\"temperature (Celsius)\"], df[\"salinity (1)\"], s=10, alpha=0.25)\n",
    "\n",
    "    ax.grid(True)\n",
    "    ax.axis([9, 23, 28, 37.5])\n",
    "    return fig, ax"
   ]
  },
  {
   "cell_type": "code",
   "execution_count": null,
   "metadata": {
    "slideshow": {
     "slide_type": "slide"
    }
   },
   "outputs": [],
   "source": [
    "plot_ts();"
   ]
  },
  {
   "cell_type": "code",
   "execution_count": null,
   "metadata": {
    "slideshow": {
     "slide_type": "slide"
    }
   },
   "outputs": [],
   "source": [
    "responses = [\"mat\", \"json\", \"ncCF\", \"ncCFHeader\"]\n",
    "\n",
    "for response in responses:\n",
    "    print(f\"{e.get_download_url(response=response)}\\n\")"
   ]
  },
  {
   "cell_type": "markdown",
   "metadata": {
    "slideshow": {
     "slide_type": "slide"
    }
   },
   "source": [
    "Exercise: explore the web interface for the OOI server URL:\n",
    "\n",
    "https://erddap-uncabled.oceanobservatories.org/uncabled/erddap\n",
    "\n",
    "or the IOOS glider dac:\n",
    "\n",
    "https://gliders.ioos.us/erddap\n",
    "\n",
    "and find a dataset of interested, download a format that you are familiar with and plot it (using the web interface or the Python, your choice)."
   ]
  },
  {
   "cell_type": "markdown",
   "metadata": {
    "slideshow": {
     "slide_type": "slide"
    }
   },
   "source": [
    "## 2) OPeNDAP\n",
    "\n",
    "### Learning objectives:\n",
    "\n",
    "- Open model data from a THREDDS server via OPeNDAP with `xarray`;\n",
    "- Discuss the differences with an `erddapy` request;\n",
    "- Plot it using `xarray` interface."
   ]
  },
  {
   "cell_type": "code",
   "execution_count": null,
   "metadata": {
    "scrolled": true,
    "slideshow": {
     "slide_type": "slide"
    }
   },
   "outputs": [],
   "source": [
    "import xarray as xr\n",
    "\n",
    "url = (\n",
    "    \"http://oceanmodeling.pmc.ucsc.edu:8080/thredds/dodsC/\"\n",
    "    \"ccsra_2016a_phys_agg_zlevs/fmrc/\"\n",
    "    \"CCSRA_2016a_Phys_ROMS_z-level_(depth)_Aggregation_best.ncd\"\n",
    ")\n",
    "ds = xr.open_dataset(url)\n",
    "ds"
   ]
  },
  {
   "cell_type": "code",
   "execution_count": null,
   "metadata": {
    "scrolled": true,
    "slideshow": {
     "slide_type": "slide"
    }
   },
   "outputs": [],
   "source": [
    "selection = ds.sel(time=\"2017-01-01\", z=-2.0)\n",
    "selection"
   ]
  },
  {
   "cell_type": "code",
   "execution_count": null,
   "metadata": {
    "slideshow": {
     "slide_type": "slide"
    }
   },
   "outputs": [],
   "source": [
    "selection[\"temp\"].plot(figsize=(6, 6));"
   ]
  },
  {
   "cell_type": "markdown",
   "metadata": {
    "slideshow": {
     "slide_type": "slide"
    }
   },
   "source": [
    "## 3) SOS\n",
    "\n",
    "### Learning objectives:\n",
    "\n",
    "- Quick explanation on the SOS API."
   ]
  },
  {
   "cell_type": "code",
   "execution_count": null,
   "metadata": {
    "slideshow": {
     "slide_type": "slide"
    }
   },
   "outputs": [],
   "source": [
    "url = (\n",
    "    \"https://opendap.co-ops.nos.noaa.gov/ioos-dif-sos/SOS?\"\n",
    "    \"service=SOS\"\n",
    "    \"&request=GetObservation\"\n",
    "    \"&version=1.0.0\"\n",
    "    \"&observedProperty=water_surface_height_above_reference\"\n",
    "    \"&offering=urn:ioos:station:NOAA.NOS.CO-OPS:8454000\"\n",
    "    \"&responseFormat=text/csv\"\n",
    "    \"&eventTime=2018-07-04T00:00:00Z/2018-07-05T00:00:00Z\"\n",
    "    \"&result=VerticalDatum==urn:ogc:def:datum:epsg::5103\"\n",
    "    \"&dataType=PreliminarySixMinute\"\n",
    ")"
   ]
  },
  {
   "cell_type": "code",
   "execution_count": null,
   "metadata": {
    "slideshow": {
     "slide_type": "slide"
    }
   },
   "outputs": [],
   "source": [
    "from datetime import datetime, timedelta\n",
    "\n",
    "request = \"GetObservation\"\n",
    "version = \"1.0.0\"\n",
    "variable = \"water_surface_height_above_reference_datum\"\n",
    "buoy = \"8771450\"\n",
    "response = \"text/csv\"\n",
    "vdatum = \"urn:ogc:def:datum:epsg::5103\"\n",
    "data_type = \"PreliminarySixMinute\"\n",
    "\n",
    "today = datetime.today()\n",
    "yesterday = today - timedelta(days=1)"
   ]
  },
  {
   "cell_type": "code",
   "execution_count": null,
   "metadata": {
    "slideshow": {
     "slide_type": "slide"
    }
   },
   "outputs": [],
   "source": [
    "url = (\n",
    "    f\"https://opendap.co-ops.nos.noaa.gov/ioos-dif-sos/SOS?\"\n",
    "    f\"service=SOS&request={request}\"\n",
    "    f\"&version={version}\"\n",
    "    f\"&observedProperty={variable}\"\n",
    "    f\"&offering=urn:ioos:station:NOAA.NOS.CO-OPS:8454000\"\n",
    "    f\"&responseFormat={response}\"\n",
    "    f\"&eventTime={yesterday:%Y-%m-%dT%H:%M:%SZ}/\"\n",
    "    f\"{today:%Y-%m-%dT%H:%M:%SZ}\"\n",
    "    f\"&result=VerticalDatum=={vdatum}\"\n",
    "    f\"&dataType={data_type}\"\n",
    ")\n",
    "\n",
    "print(url)"
   ]
  },
  {
   "cell_type": "code",
   "execution_count": null,
   "metadata": {
    "slideshow": {
     "slide_type": "slide"
    }
   },
   "outputs": [],
   "source": [
    "import pandas as pd\n",
    "\n",
    "df = pd.read_csv(url, index_col=\"date_time\", parse_dates=True)\n",
    "df.head()"
   ]
  },
  {
   "cell_type": "code",
   "execution_count": null,
   "metadata": {
    "slideshow": {
     "slide_type": "slide"
    }
   },
   "outputs": [],
   "source": [
    "col = df.columns[df.columns.str.startswith(variable)]\n",
    "ax = df[col].plot.line(legend=False)\n",
    "ax.grid(True)\n",
    "ax.set_title(col.values[0]);"
   ]
  },
  {
   "cell_type": "code",
   "execution_count": null,
   "metadata": {
    "scrolled": true,
    "slideshow": {
     "slide_type": "slide"
    }
   },
   "outputs": [],
   "source": [
    "from ipyleaflet import FullScreenControl, Map, Marker\n",
    "\n",
    "location = df[\"latitude (degree)\"].unique()[0], df[\"longitude (degree)\"].unique()[0]\n",
    "m = Map(center=location, zoom_start=12)\n",
    "marker = Marker(location=location)\n",
    "\n",
    "m.add_layer(marker)\n",
    "m.add_control(FullScreenControl())"
   ]
  },
  {
   "cell_type": "code",
   "execution_count": null,
   "metadata": {
    "slideshow": {
     "slide_type": "slide"
    }
   },
   "outputs": [],
   "source": [
    "m"
   ]
  },
  {
   "cell_type": "markdown",
   "metadata": {
    "slideshow": {
     "slide_type": "slide"
    }
   },
   "source": [
    "## 4) WMS\n",
    "\n",
    "### Learning objectives:\n",
    "\n",
    "- Add a WMS layer to an interactive map. (\"Hurricane viz widget.\")"
   ]
  },
  {
   "cell_type": "code",
   "execution_count": null,
   "metadata": {
    "slideshow": {
     "slide_type": "slide"
    }
   },
   "outputs": [],
   "source": [
    "from ipyleaflet import Map, WMSLayer, basemaps, FullScreenControl\n",
    "from ipywidgets import SelectionSlider\n",
    "from traitlets import Unicode\n",
    "\n",
    "time_options = [\n",
    "    \"13:00\", \"13:30\", \"14:00\", \"14:30\", \"15:00\", \"15:30\",\n",
    "    \"16:00\", \"16:30\", \"17:00\", \"17:30\", \"18:00\", \"18:30\",\n",
    "]\n",
    "\n",
    "slider = SelectionSlider(description=\"Time:\", options=time_options)\n",
    "\n",
    "def update_wms(change):\n",
    "    time_wms.time = \"2020-07-25T{}\".format(slider.value)\n",
    "\n",
    "slider.observe(update_wms, \"value\")\n",
    "\n",
    "class TimeWMSLayer(WMSLayer):\n",
    "\n",
    "    time = Unicode(\"\").tag(sync=True, o=True)"
   ]
  },
  {
   "cell_type": "code",
   "execution_count": null,
   "metadata": {
    "slideshow": {
     "slide_type": "slide"
    }
   },
   "outputs": [],
   "source": [
    "time_wms = TimeWMSLayer(\n",
    "    url=\"https://mesonet.agron.iastate.edu/cgi-bin/wms/nexrad/n0r-t.cgi?\",\n",
    "    layers=\"nexrad-n0r-wmst\",\n",
    "    time=\"2020-07-25T13:00:00Z\",\n",
    "    format=\"image/png\",\n",
    "    transparent=True,\n",
    "    attribution=\"Weather data © 2012 IEM Nexrad\",\n",
    ")\n",
    "m = Map(basemap=basemaps.CartoDB.Positron, center=(30, -88), zoom=5)\n",
    "m.add_layer(time_wms)\n",
    "m.add_control(FullScreenControl())"
   ]
  },
  {
   "cell_type": "code",
   "execution_count": null,
   "metadata": {
    "slideshow": {
     "slide_type": "slide"
    }
   },
   "outputs": [],
   "source": [
    "m"
   ]
  },
  {
   "cell_type": "code",
   "execution_count": null,
   "metadata": {
    "slideshow": {
     "slide_type": "fragment"
    }
   },
   "outputs": [],
   "source": [
    "slider"
   ]
  },
  {
   "cell_type": "markdown",
   "metadata": {
    "slideshow": {
     "slide_type": "slide"
    }
   },
   "source": [
    "## 5) Catalog Service Web (CSW)\n",
    "### Is there a canonical source for data?"
   ]
  },
  {
   "cell_type": "markdown",
   "metadata": {
    "slideshow": {
     "slide_type": "fragment"
    }
   },
   "source": [
    "![](https://i.kym-cdn.com/photos/images/newsfeed/001/093/557/142.gif)"
   ]
  },
  {
   "cell_type": "markdown",
   "metadata": {
    "slideshow": {
     "slide_type": "fragment"
    }
   },
   "source": [
    "Well, kind of... The closet thing is the IOOS CSW catalog.\n",
    "\n",
    "For more info please see [https://data.ioos.us/](https://data.ioos.us/)"
   ]
  },
  {
   "cell_type": "markdown",
   "metadata": {
    "slideshow": {
     "slide_type": "slide"
    }
   },
   "source": [
    "## Catalog Service for the Web (CSW)\n",
    "\n",
    "- A single source to find endpoints\n",
    "- Nice python interface:<br>`owslib.csw.CatalogueServiceWeb`\n",
    "- Advanced filtering:<br>`owslib.fes`"
   ]
  },
  {
   "cell_type": "markdown",
   "metadata": {
    "slideshow": {
     "slide_type": "slide"
    }
   },
   "source": [
    "![](https://raw.githubusercontent.com/ocefpaf/2018-SciPy-talk/gh-pages/images/IOOS.svg)"
   ]
  },
  {
   "cell_type": "code",
   "execution_count": null,
   "metadata": {
    "slideshow": {
     "slide_type": "slide"
    }
   },
   "outputs": [],
   "source": [
    "from datetime import datetime\n",
    "\n",
    "min_lat, max_lat = 20, 30\n",
    "min_lon, max_lon = -82, -97\n",
    "bbox = [min_lon, min_lat, max_lon, max_lat]\n",
    "crs = \"urn:ogc:def:crs:OGC:1.3:CRS84\"\n",
    "\n",
    "# Temporal range of 1 week.\n",
    "start = datetime(2017, 4, 14, 0, 0, 0)\n",
    "stop = datetime(2017, 4, 21, 0, 0, 0)\n",
    "\n",
    "# Sea surface temperature CF names.\n",
    "cf_names = [\n",
    "    \"sea_water_temperature\",\n",
    "    \"sea_surface_temperature\",\n",
    "    \"sea_water_potential_temperature\",\n",
    "    \"equivalent_potential_temperature\",\n",
    "    \"sea_water_conservative_temperature\",\n",
    "    \"pseudo_equivalent_potential_temperature\",\n",
    "]"
   ]
  },
  {
   "cell_type": "code",
   "execution_count": null,
   "metadata": {
    "slideshow": {
     "slide_type": "skip"
    }
   },
   "outputs": [],
   "source": [
    "def fes_date_filter(start, stop, constraint=\"overlaps\"):\n",
    "    from owslib import fes\n",
    "\n",
    "    start = start.strftime(\"%Y-%m-%d %H:00\")\n",
    "    stop = stop.strftime(\"%Y-%m-%d %H:00\")\n",
    "    if constraint == \"overlaps\":\n",
    "        propertyname = \"apiso:TempExtent_begin\"\n",
    "        begin = fes.PropertyIsLessThanOrEqualTo(propertyname=propertyname, literal=stop)\n",
    "        propertyname = \"apiso:TempExtent_end\"\n",
    "        end = fes.PropertyIsGreaterThanOrEqualTo(\n",
    "            propertyname=propertyname, literal=start\n",
    "        )\n",
    "    elif constraint == \"within\":\n",
    "        propertyname = \"apiso:TempExtent_begin\"\n",
    "        begin = fes.PropertyIsGreaterThanOrEqualTo(\n",
    "            propertyname=propertyname, literal=start\n",
    "        )\n",
    "        propertyname = \"apiso:TempExtent_end\"\n",
    "        end = fes.PropertyIsLessThanOrEqualTo(propertyname=propertyname, literal=stop)\n",
    "    else:\n",
    "        raise NameError(f\"Unrecognized constraint {constraint}\")\n",
    "    return begin, end"
   ]
  },
  {
   "cell_type": "code",
   "execution_count": null,
   "metadata": {
    "slideshow": {
     "slide_type": "skip"
    }
   },
   "outputs": [],
   "source": [
    "from owslib import fes\n",
    "\n",
    "kw = dict(wildCard=\"*\", escapeChar=\"\\\\\", singleChar=\"?\", propertyname=\"apiso:AnyText\")\n",
    "\n",
    "or_filt = fes.Or([fes.PropertyIsLike(literal=(\"*%s*\" % val), **kw) for val in cf_names])\n",
    "\n",
    "begin, end = fes_date_filter(start, stop)\n",
    "bbox_crs = fes.BBox(bbox, crs=crs)\n",
    "\n",
    "filter_list = [\n",
    "    fes.And(\n",
    "        [\n",
    "            bbox_crs,\n",
    "            begin,\n",
    "            end,\n",
    "            or_filt,\n",
    "            fes.Not([fes.PropertyIsLike(literal=\"*cdip*\", **kw)]),\n",
    "        ]\n",
    "    )\n",
    "]"
   ]
  },
  {
   "cell_type": "code",
   "execution_count": null,
   "metadata": {
    "slideshow": {
     "slide_type": "skip"
    }
   },
   "outputs": [],
   "source": [
    "def get_csw_records(csw, filter_list, pagesize=10, maxrecords=1000):\n",
    "    \"\"\"Iterate `maxrecords`/`pagesize` times until the requested value in\n",
    "    `maxrecords` is reached.\n",
    "    \"\"\"\n",
    "    from owslib.fes import SortBy, SortProperty\n",
    "\n",
    "    # Iterate over sorted results.\n",
    "    sortby = SortBy([SortProperty(\"dc:title\", \"ASC\")])\n",
    "    csw_records = {}\n",
    "    startposition = 0\n",
    "    nextrecord = getattr(csw, \"results\", 1)\n",
    "    while nextrecord != 0:\n",
    "        csw.getrecords2(\n",
    "            constraints=filter_list,\n",
    "            startposition=startposition,\n",
    "            maxrecords=pagesize,\n",
    "            sortby=sortby,\n",
    "        )\n",
    "        csw_records.update(csw.records)\n",
    "        if csw.results[\"nextrecord\"] == 0:\n",
    "            break\n",
    "        startposition += pagesize + 1  # Last one is included.\n",
    "        if startposition >= maxrecords:\n",
    "            break\n",
    "    csw.records.update(csw_records)"
   ]
  },
  {
   "cell_type": "code",
   "execution_count": null,
   "metadata": {
    "slideshow": {
     "slide_type": "slide"
    }
   },
   "outputs": [],
   "source": [
    "from owslib.csw import CatalogueServiceWeb\n",
    "\n",
    "endpoint = \"https://data.ioos.us/csw\"\n",
    "csw = CatalogueServiceWeb(endpoint, timeout=60)\n",
    "\n",
    "get_csw_records(csw, filter_list, pagesize=10, maxrecords=1000)\n",
    "records = \"\\n\".join(csw.records.keys())\n",
    "print(\"Found {} records.\\n\".format(len(csw.records.keys())))"
   ]
  },
  {
   "cell_type": "code",
   "execution_count": null,
   "metadata": {
    "slideshow": {
     "slide_type": "slide"
    }
   },
   "outputs": [],
   "source": [
    "import textwrap\n",
    "\n",
    "key, value = list(csw.records.items())[-1]\n",
    "print(\"\\n\".join(textwrap.wrap(value.abstract)))"
   ]
  },
  {
   "cell_type": "code",
   "execution_count": null,
   "metadata": {
    "scrolled": true,
    "slideshow": {
     "slide_type": "slide"
    }
   },
   "outputs": [],
   "source": [
    "from geolinks import sniff_link\n",
    "\n",
    "msg = \"geolink: {geolink}\\nscheme: {scheme}\\nURL: {url}\\n\".format\n",
    "for ref in value.references:\n",
    "    print(msg(geolink=sniff_link(ref[\"url\"]), **ref))"
   ]
  },
  {
   "cell_type": "markdown",
   "metadata": {
    "slideshow": {
     "slide_type": "slide"
    }
   },
   "source": [
    "## For more complex examples on how to find data in the catalog please check the IOOS code gallery:\n",
    "[https://ioos.github.io/notebooks_demos/code_gallery](https://ioos.github.io/notebooks_demos/code_gallery)"
   ]
  },
  {
   "cell_type": "markdown",
   "metadata": {
    "slideshow": {
     "slide_type": "slide"
    }
   },
   "source": [
    "## Where to find data?"
   ]
  },
  {
   "cell_type": "markdown",
   "metadata": {
    "slideshow": {
     "slide_type": "fragment"
    }
   },
   "source": [
    "Curated list of ERDDAP servers: https://github.com/IrishMarineInstitute/awesome-erddap\n",
    "\n",
    "\n",
    "Environmental Data Service (EDS) model viewer: https://eds.ioos.us\n",
    "\n",
    "\n",
    "Exploring THREDDS servers: https://unidata.github.io/siphon/latest"
   ]
  },
  {
   "cell_type": "markdown",
   "metadata": {
    "slideshow": {
     "slide_type": "slide"
    }
   },
   "source": [
    "## Extras: how does this all work?"
   ]
  },
  {
   "cell_type": "markdown",
   "metadata": {
    "slideshow": {
     "slide_type": "fragment"
    }
   },
   "source": [
    "## Standards!\n",
    "\n",
    "![](https://imgs.xkcd.com/comics/standards.png)"
   ]
  },
  {
   "cell_type": "markdown",
   "metadata": {
    "slideshow": {
     "slide_type": "slide"
    }
   },
   "source": [
    "## Bad example"
   ]
  },
  {
   "cell_type": "code",
   "execution_count": null,
   "metadata": {
    "slideshow": {
     "slide_type": "fragment"
    }
   },
   "outputs": [],
   "source": [
    "import cftime\n",
    "import nc_time_axis\n",
    "from netCDF4 import Dataset\n",
    "\n",
    "url = \"http://goosbrasil.org:8080/pirata/B19s34w.nc\"\n",
    "nc = Dataset(url)\n",
    "\n",
    "temp = nc[\"temperature\"][:]\n",
    "times = nc[\"time\"]\n",
    "temp[temp <= -9999] = np.NaN\n",
    "t = cftime.num2date(times[:], times.units, calendar=times.calendar)"
   ]
  },
  {
   "cell_type": "code",
   "execution_count": null,
   "metadata": {
    "slideshow": {
     "slide_type": "slide"
    }
   },
   "outputs": [],
   "source": [
    "fig, ax = plt.subplots()\n",
    "ax.plot(t, temp[:, 0], \".\");"
   ]
  },
  {
   "cell_type": "markdown",
   "metadata": {
    "slideshow": {
     "slide_type": "slide"
    }
   },
   "source": [
    "## Good example"
   ]
  },
  {
   "cell_type": "code",
   "execution_count": null,
   "metadata": {
    "slideshow": {
     "slide_type": "fragment"
    }
   },
   "outputs": [],
   "source": [
    "import xarray as xr\n",
    "\n",
    "ds = xr.open_dataset(url)\n",
    "temp = ds[\"temperature\"]"
   ]
  },
  {
   "cell_type": "code",
   "execution_count": null,
   "metadata": {
    "slideshow": {
     "slide_type": "slide"
    }
   },
   "outputs": [],
   "source": [
    "temp.sel(depth_t=1.0, time=\"2008\").plot();"
   ]
  }
 ],
 "metadata": {
  "celltoolbar": "Slideshow",
  "kernelspec": {
   "display_name": "Python 3",
   "language": "python",
   "name": "python3"
  },
  "language_info": {
   "codemirror_mode": {
    "name": "ipython",
    "version": 3
   },
   "file_extension": ".py",
   "mimetype": "text/x-python",
   "name": "python",
   "nbconvert_exporter": "python",
   "pygments_lexer": "ipython3",
   "version": "3.8.5"
  },
  "livereveal": {
   "auto_select": "none",
   "footer": " ",
   "header": "<script src='/files/static/theme/reveal.js'></script>",
   "start_slideshow_at": "selected"
  }
 },
 "nbformat": 4,
 "nbformat_minor": 4
}
